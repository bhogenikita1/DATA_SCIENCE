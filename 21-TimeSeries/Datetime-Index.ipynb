{
 "cells": [
  {
   "cell_type": "markdown",
   "id": "ddc840fe-3ac1-4c5e-a240-25bf699ebc05",
   "metadata": {},
   "source": [
    "# Datetime"
   ]
  },
  {
   "cell_type": "code",
   "execution_count": 1,
   "id": "c18a381d-a0d3-4e0f-90a8-b15850491c90",
   "metadata": {},
   "outputs": [],
   "source": [
    "from datetime import datetime"
   ]
  },
  {
   "cell_type": "code",
   "execution_count": 2,
   "id": "291eb125-bc93-4bc8-b687-730d46cd93a3",
   "metadata": {},
   "outputs": [],
   "source": [
    "#To illustrate the order of argumants\n",
    "my_year=2017\n",
    "my_month=1\n",
    "my_day=2\n",
    "my_hour=13\n",
    "my_minute=30\n",
    "my_second=15"
   ]
  },
  {
   "cell_type": "code",
   "execution_count": 3,
   "id": "eb20f579-215f-4cbb-b024-e345903d70de",
   "metadata": {},
   "outputs": [],
   "source": [
    "#January 2nd,2017\n",
    "my_date=datetime(my_year,my_month,my_day)"
   ]
  },
  {
   "cell_type": "code",
   "execution_count": 4,
   "id": "2dcb4c6f-e039-4aae-bed8-0e8ea984352f",
   "metadata": {},
   "outputs": [
    {
     "data": {
      "text/plain": [
       "datetime.datetime(2017, 1, 2, 0, 0)"
      ]
     },
     "execution_count": 4,
     "metadata": {},
     "output_type": "execute_result"
    }
   ],
   "source": [
    "#Defaults to 0.00\n",
    "my_date"
   ]
  },
  {
   "cell_type": "code",
   "execution_count": 6,
   "id": "5fdff437-7c13-4a13-8c22-f78530a0aa95",
   "metadata": {},
   "outputs": [],
   "source": [
    "#january 2nd 2017 at 13:30:15\n",
    "my_date_time=datetime(my_year,my_month,my_day,my_hour,my_minute,my_second)"
   ]
  },
  {
   "cell_type": "code",
   "execution_count": 7,
   "id": "862df427-1af3-4fc6-8a63-10bd71891502",
   "metadata": {},
   "outputs": [
    {
     "data": {
      "text/plain": [
       "datetime.datetime(2017, 1, 2, 13, 30, 15)"
      ]
     },
     "execution_count": 7,
     "metadata": {},
     "output_type": "execute_result"
    }
   ],
   "source": [
    "my_date_time"
   ]
  },
  {
   "cell_type": "markdown",
   "id": "03fc839f-3a6c-4911-b3ae-ffadbfb2bf23",
   "metadata": {},
   "source": [
    "# You can grab any part from datetime object you want"
   ]
  },
  {
   "cell_type": "code",
   "execution_count": 8,
   "id": "19717be3-4410-4c75-a8d7-44771b11613a",
   "metadata": {},
   "outputs": [
    {
     "data": {
      "text/plain": [
       "2"
      ]
     },
     "execution_count": 8,
     "metadata": {},
     "output_type": "execute_result"
    }
   ],
   "source": [
    "my_date.day"
   ]
  },
  {
   "cell_type": "code",
   "execution_count": 9,
   "id": "b96f61c8-3d87-482c-81d8-7a38f6f9c94d",
   "metadata": {},
   "outputs": [
    {
     "data": {
      "text/plain": [
       "13"
      ]
     },
     "execution_count": 9,
     "metadata": {},
     "output_type": "execute_result"
    }
   ],
   "source": [
    "my_date_time.hour"
   ]
  },
  {
   "cell_type": "code",
   "execution_count": 10,
   "id": "38ac9bc8-586f-4da5-b77e-dac43084e761",
   "metadata": {},
   "outputs": [],
   "source": [
    "import numpy as np"
   ]
  },
  {
   "cell_type": "code",
   "execution_count": 11,
   "id": "f57ba992-fadf-4f6e-a05d-1babe2e16077",
   "metadata": {},
   "outputs": [],
   "source": [
    "#Create an array from three dates"
   ]
  },
  {
   "cell_type": "code",
   "execution_count": 16,
   "id": "f8b3a9de-3e8e-4345-805e-e52f3e51207f",
   "metadata": {},
   "outputs": [
    {
     "data": {
      "text/plain": [
       "array(['2016-03-15', '2017-05-24', '2018-08-09'], dtype='datetime64[D]')"
      ]
     },
     "execution_count": 16,
     "metadata": {},
     "output_type": "execute_result"
    }
   ],
   "source": [
    "np.array(['2016-03-15','2017-05-24','2018-08-09'],dtype='datetime64')"
   ]
  },
  {
   "cell_type": "code",
   "execution_count": 17,
   "id": "4fcfa9f7-1d94-427b-9abb-b770e1acb863",
   "metadata": {},
   "outputs": [
    {
     "data": {
      "text/plain": [
       "array(['2016-03-15T00', '2017-05-24T00', '2018-08-09T00'],\n",
       "      dtype='datetime64[h]')"
      ]
     },
     "execution_count": 17,
     "metadata": {},
     "output_type": "execute_result"
    }
   ],
   "source": [
    "np.array(['2016-03-15','2017-05-24','2018-08-09'],dtype='datetime64[h]')"
   ]
  },
  {
   "cell_type": "code",
   "execution_count": 18,
   "id": "7b57f87c-cbc4-4554-965c-794a486d1103",
   "metadata": {},
   "outputs": [
    {
     "data": {
      "text/plain": [
       "array(['2016', '2017', '2018'], dtype='datetime64[Y]')"
      ]
     },
     "execution_count": 18,
     "metadata": {},
     "output_type": "execute_result"
    }
   ],
   "source": [
    "np.array(['2016-03-15','2017-05-24','2018-08-09'],dtype='datetime64[Y]')"
   ]
  },
  {
   "cell_type": "markdown",
   "id": "f352d1e4-c88e-4805-850c-588627553007",
   "metadata": {},
   "source": [
    "# Numpy Date Ranges\n",
    "\n",
    "just as np.arange(start,stop,step) can be used to produce an array of evenly spaced integers. \n",
    "We can pass a dtype argument to obtain an array\n",
    "of dates. Remember that the stop date is exclusive."
   ]
  },
  {
   "cell_type": "code",
   "execution_count": 19,
   "id": "96e526c4-3951-4a1c-a1d4-dfa91d2a30a6",
   "metadata": {},
   "outputs": [],
   "source": [
    "#An array of dates from 6/1/18 to 6/22/18 spaced one week apart"
   ]
  },
  {
   "cell_type": "code",
   "execution_count": 22,
   "id": "87360894-58d2-4c83-8a3b-99cf1ce9b49d",
   "metadata": {},
   "outputs": [
    {
     "data": {
      "text/plain": [
       "array(['2018-06-01', '2018-06-08', '2018-06-15', '2018-06-22'],\n",
       "      dtype='datetime64[D]')"
      ]
     },
     "execution_count": 22,
     "metadata": {},
     "output_type": "execute_result"
    }
   ],
   "source": [
    "np.arange('2018-06-01','2018-06-23',7,dtype='datetime64[D]')"
   ]
  },
  {
   "cell_type": "code",
   "execution_count": 25,
   "id": "ae68cc57-c628-4954-b7e3-754c93c2fcf1",
   "metadata": {},
   "outputs": [],
   "source": [
    "#by omitting the step value we can obtain every value based on the precision"
   ]
  },
  {
   "cell_type": "code",
   "execution_count": 26,
   "id": "45230b58-3ceb-4e92-b317-d8bf560a7b57",
   "metadata": {},
   "outputs": [
    {
     "data": {
      "text/plain": [
       "array(['1968', '1969', '1970', '1971', '1972', '1973', '1974', '1975'],\n",
       "      dtype='datetime64[Y]')"
      ]
     },
     "execution_count": 26,
     "metadata": {},
     "output_type": "execute_result"
    }
   ],
   "source": [
    "#All array of dates for every year from 1968 to 1975\n",
    "np.arange('1968','1976',dtype='datetime64[Y]')"
   ]
  },
  {
   "cell_type": "markdown",
   "id": "a0c39d1a-2cbc-45e4-8ea6-04b6fad022c0",
   "metadata": {},
   "source": [
    "# Pandas Datetime Index\n",
    "\n",
    "we will usually deal with time series as a datetime index when working with pandas dataframe;\n",
    "Fortunately pandas has as lot of functions and methods to work with time series!"
   ]
  },
  {
   "cell_type": "code",
   "execution_count": 29,
   "id": "937fd9ed-53ee-495b-ab27-6222b003e238",
   "metadata": {},
   "outputs": [],
   "source": [
    "import pandas as pd"
   ]
  },
  {
   "cell_type": "code",
   "execution_count": 30,
   "id": "19c042f7-14ef-4ac8-a8ab-3f2e3850cc8a",
   "metadata": {},
   "outputs": [],
   "source": [
    "#The simplest way to build a DateTimeIndex is with the pd.date_range()method"
   ]
  },
  {
   "cell_type": "code",
   "execution_count": 32,
   "id": "0b63c476-921f-4270-8d56-5b34a8f4fb73",
   "metadata": {},
   "outputs": [
    {
     "data": {
      "text/plain": [
       "DatetimeIndex(['2018-07-08', '2018-07-09', '2018-07-10', '2018-07-11',\n",
       "               '2018-07-12', '2018-07-13', '2018-07-14'],\n",
       "              dtype='datetime64[ns]', freq='D')"
      ]
     },
     "execution_count": 32,
     "metadata": {},
     "output_type": "execute_result"
    }
   ],
   "source": [
    "#The week of july 8th 2018\n",
    "idx=pd.date_range('7/8/2018',periods=7,freq='D')\n",
    "idx"
   ]
  },
  {
   "cell_type": "markdown",
   "id": "9c1c6f75-eb3f-47ea-869f-30cc4652a0e3",
   "metadata": {},
   "source": [
    "Datetimeindex Frequenies: When we used pd.date_range() above, we had to pass in a frequency parameter 'D'.\n",
    "This crated a series of 7 dates spaced one day apart"
   ]
  },
  {
   "cell_type": "markdown",
   "id": "bc3a28a7-50ef-40a0-ab53-86910d5c4f39",
   "metadata": {},
   "source": [
    "# pd.to_datetime()\n",
    "#Another way is to convert incoming text with the pd.to_datetime()method#"
   ]
  },
  {
   "cell_type": "code",
   "execution_count": 41,
   "id": "070052fc-9234-46b0-a224-b9e34f0a21a1",
   "metadata": {},
   "outputs": [
    {
     "name": "stdout",
     "output_type": "stream",
     "text": [
      "DatetimeIndex(['2018-01-01', '2018-01-02', '2018-01-03', 'NaT'], dtype='datetime64[ns]', freq=None)\n"
     ]
    }
   ],
   "source": [
    "import pandas as pd\n",
    "\n",
    "idx = pd.to_datetime(['Jan 01, 2018', '1/2/18', '03-Jan-2018', None], format='mixed')\n",
    "print(idx)\n"
   ]
  },
  {
   "cell_type": "code",
   "execution_count": 43,
   "id": "c58bb98b-9bbe-4909-a00a-29b71e51c318",
   "metadata": {},
   "outputs": [
    {
     "data": {
      "text/plain": [
       "array(['2016-03-15', '2017-05-24', '2018-08-09'], dtype='datetime64[D]')"
      ]
     },
     "execution_count": 43,
     "metadata": {},
     "output_type": "execute_result"
    }
   ],
   "source": [
    "#create a Numpy datetime array\n",
    "some_dates=np.array(['2016-03-15','2017-05-24','2018-08-09'],dtype='datetime64[D]')\n",
    "some_dates"
   ]
  },
  {
   "cell_type": "code",
   "execution_count": 46,
   "id": "838bc37e-ddfe-4d36-95e3-cd7de31702f7",
   "metadata": {},
   "outputs": [
    {
     "data": {
      "text/plain": [
       "DatetimeIndex(['2016-03-15', '2017-05-24', '2018-08-09'], dtype='datetime64[s]', freq=None)"
      ]
     },
     "execution_count": 46,
     "metadata": {},
     "output_type": "execute_result"
    }
   ],
   "source": [
    "#Convert to an index\n",
    "idx=pd.DatetimeIndex(some_dates)\n",
    "idx"
   ]
  },
  {
   "cell_type": "markdown",
   "id": "17e37075-e5fc-4af7-a775-f4d7dbe8268e",
   "metadata": {},
   "source": [
    "# Pandas Datetime analysis"
   ]
  },
  {
   "cell_type": "code",
   "execution_count": 47,
   "id": "3f3aedf5-87c6-4c1e-9adf-73bdfae03f86",
   "metadata": {},
   "outputs": [
    {
     "name": "stdout",
     "output_type": "stream",
     "text": [
      "[[-0.08004943  0.50744074]\n",
      " [ 0.68255871 -0.7498908 ]\n",
      " [-1.93426715 -0.51774363]]\n"
     ]
    }
   ],
   "source": [
    "#create some random data\n",
    "data=np.random.randn(3,2)\n",
    "cols=['A','B']\n",
    "print(data)"
   ]
  },
  {
   "cell_type": "code",
   "execution_count": 48,
   "id": "0a033516-840a-48a3-931b-7301931e7ab7",
   "metadata": {},
   "outputs": [
    {
     "data": {
      "text/html": [
       "<div>\n",
       "<style scoped>\n",
       "    .dataframe tbody tr th:only-of-type {\n",
       "        vertical-align: middle;\n",
       "    }\n",
       "\n",
       "    .dataframe tbody tr th {\n",
       "        vertical-align: top;\n",
       "    }\n",
       "\n",
       "    .dataframe thead th {\n",
       "        text-align: right;\n",
       "    }\n",
       "</style>\n",
       "<table border=\"1\" class=\"dataframe\">\n",
       "  <thead>\n",
       "    <tr style=\"text-align: right;\">\n",
       "      <th></th>\n",
       "      <th>A</th>\n",
       "      <th>B</th>\n",
       "    </tr>\n",
       "  </thead>\n",
       "  <tbody>\n",
       "    <tr>\n",
       "      <th>2016-03-15</th>\n",
       "      <td>-0.080049</td>\n",
       "      <td>0.507441</td>\n",
       "    </tr>\n",
       "    <tr>\n",
       "      <th>2017-05-24</th>\n",
       "      <td>0.682559</td>\n",
       "      <td>-0.749891</td>\n",
       "    </tr>\n",
       "    <tr>\n",
       "      <th>2018-08-09</th>\n",
       "      <td>-1.934267</td>\n",
       "      <td>-0.517744</td>\n",
       "    </tr>\n",
       "  </tbody>\n",
       "</table>\n",
       "</div>"
      ],
      "text/plain": [
       "                   A         B\n",
       "2016-03-15 -0.080049  0.507441\n",
       "2017-05-24  0.682559 -0.749891\n",
       "2018-08-09 -1.934267 -0.517744"
      ]
     },
     "execution_count": 48,
     "metadata": {},
     "output_type": "execute_result"
    }
   ],
   "source": [
    "#create a DataFrame with our random data, our date index and our columns\n",
    "df=pd.DataFrame(data,idx,cols)\n",
    "df"
   ]
  },
  {
   "cell_type": "code",
   "execution_count": 50,
   "id": "d6efac69-812f-4500-b9dd-ca52d4e027cf",
   "metadata": {},
   "outputs": [],
   "source": [
    "#Now we can perform a typical analysis of our DataFrame"
   ]
  },
  {
   "cell_type": "code",
   "execution_count": 51,
   "id": "f91a23e8-0264-4671-9818-95ddb3a0cbac",
   "metadata": {},
   "outputs": [
    {
     "data": {
      "text/plain": [
       "DatetimeIndex(['2016-03-15', '2017-05-24', '2018-08-09'], dtype='datetime64[s]', freq=None)"
      ]
     },
     "execution_count": 51,
     "metadata": {},
     "output_type": "execute_result"
    }
   ],
   "source": [
    "df.index"
   ]
  },
  {
   "cell_type": "code",
   "execution_count": 53,
   "id": "b7bbd615-e5b8-44c5-aac6-2132f8d3a2b2",
   "metadata": {},
   "outputs": [
    {
     "data": {
      "text/plain": [
       "Timestamp('2018-08-09 00:00:00')"
      ]
     },
     "execution_count": 53,
     "metadata": {},
     "output_type": "execute_result"
    }
   ],
   "source": [
    "#Latest  Date Value\n",
    "df.index.max()"
   ]
  },
  {
   "cell_type": "code",
   "execution_count": 55,
   "id": "7c50804c-ad34-404b-b45b-af1663d48c3b",
   "metadata": {},
   "outputs": [
    {
     "data": {
      "text/plain": [
       "2"
      ]
     },
     "execution_count": 55,
     "metadata": {},
     "output_type": "execute_result"
    }
   ],
   "source": [
    "#latest Date index Location \n",
    "df.index.argmax()"
   ]
  },
  {
   "cell_type": "code",
   "execution_count": 56,
   "id": "4e909788-d7c3-41f6-b976-1eb5ca5da5d5",
   "metadata": {},
   "outputs": [
    {
     "data": {
      "text/plain": [
       "0"
      ]
     },
     "execution_count": 56,
     "metadata": {},
     "output_type": "execute_result"
    }
   ],
   "source": [
    "#Earliest Date Index Location\n",
    "df.index.argmin()"
   ]
  },
  {
   "cell_type": "markdown",
   "id": "87b74c87-0180-45a1-99c0-91eda1050127",
   "metadata": {},
   "source": []
  },
  {
   "cell_type": "code",
   "execution_count": null,
   "id": "400f774c-fbf6-4b84-b403-eb8e1ba397c0",
   "metadata": {},
   "outputs": [],
   "source": []
  }
 ],
 "metadata": {
  "kernelspec": {
   "display_name": "Python 3 (ipykernel)",
   "language": "python",
   "name": "python3"
  },
  "language_info": {
   "codemirror_mode": {
    "name": "ipython",
    "version": 3
   },
   "file_extension": ".py",
   "mimetype": "text/x-python",
   "name": "python",
   "nbconvert_exporter": "python",
   "pygments_lexer": "ipython3",
   "version": "3.12.3"
  }
 },
 "nbformat": 4,
 "nbformat_minor": 5
}

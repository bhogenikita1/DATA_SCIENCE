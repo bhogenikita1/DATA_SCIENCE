{
 "cells": [
  {
   "cell_type": "code",
   "execution_count": 1,
   "id": "4c41b64c-814a-4e60-b3c0-60876224e92d",
   "metadata": {},
   "outputs": [],
   "source": [
    "import pandas as pd\n",
    "import statsmodels.graphics.tsaplots as tsa_plots\n",
    "from statsmodels.tsa.arima.model import ARIMA\n",
    "from sklearn.metrics import mean_squared_error\n",
    "from math import sqrt\n",
    "from matplotlib import pyplot"
   ]
  },
  {
   "cell_type": "code",
   "execution_count": 2,
   "id": "8d7c4797-575c-46e2-9443-e4b993674ecc",
   "metadata": {},
   "outputs": [
    {
     "data": {
      "text/plain": [
       "'\\nPandas as pd: Imports the pandas library for handling and analyzing structure\\nstatsmodels.graphics.tsaplots as tsa_plots: Imports time-series\\nplotting functions such as ACF (Autocorrelation function)\\nand PACF (Partial Autocorrelation Function).\\nfrom statsmodels.tsa.arima.model import ARIMA:\\n    Imports the ARIMA model for time-series forecasting.\\nfrom sklearn.metrics import mean_squares_error:\\n    Imports the mean squared error function\\n    \\n'"
      ]
     },
     "execution_count": 2,
     "metadata": {},
     "output_type": "execute_result"
    }
   ],
   "source": [
    "'''\n",
    "Pandas as pd: Imports the pandas library for handling and analyzing structure\n",
    "statsmodels.graphics.tsaplots as tsa_plots: Imports time-series\n",
    "plotting functions such as ACF (Autocorrelation function)\n",
    "and PACF (Partial Autocorrelation Function).\n",
    "from statsmodels.tsa.arima.model import ARIMA:\n",
    "    Imports the ARIMA model for time-series forecasting.\n",
    "from sklearn.metrics import mean_squares_error:\n",
    "    Imports the mean squared error function\n",
    "    \n",
    "'''"
   ]
  },
  {
   "cell_type": "code",
   "execution_count": 3,
   "id": "063d5e6d-e7bb-465c-8551-d28e97b18cf3",
   "metadata": {},
   "outputs": [],
   "source": [
    "walmart=pd.read_csv(\"Walmart.csv\")"
   ]
  },
  {
   "cell_type": "code",
   "execution_count": 4,
   "id": "0853b656-3e12-496b-a996-7974a0885073",
   "metadata": {},
   "outputs": [
    {
     "data": {
      "text/html": [
       "<div>\n",
       "<style scoped>\n",
       "    .dataframe tbody tr th:only-of-type {\n",
       "        vertical-align: middle;\n",
       "    }\n",
       "\n",
       "    .dataframe tbody tr th {\n",
       "        vertical-align: top;\n",
       "    }\n",
       "\n",
       "    .dataframe thead th {\n",
       "        text-align: right;\n",
       "    }\n",
       "</style>\n",
       "<table border=\"1\" class=\"dataframe\">\n",
       "  <thead>\n",
       "    <tr style=\"text-align: right;\">\n",
       "      <th></th>\n",
       "      <th>Month</th>\n",
       "      <th>Footfalls</th>\n",
       "    </tr>\n",
       "  </thead>\n",
       "  <tbody>\n",
       "    <tr>\n",
       "      <th>0</th>\n",
       "      <td>Jan-91</td>\n",
       "      <td>1709</td>\n",
       "    </tr>\n",
       "    <tr>\n",
       "      <th>1</th>\n",
       "      <td>Feb-91</td>\n",
       "      <td>1621</td>\n",
       "    </tr>\n",
       "    <tr>\n",
       "      <th>2</th>\n",
       "      <td>Mar-91</td>\n",
       "      <td>1973</td>\n",
       "    </tr>\n",
       "    <tr>\n",
       "      <th>3</th>\n",
       "      <td>Apr-91</td>\n",
       "      <td>1812</td>\n",
       "    </tr>\n",
       "    <tr>\n",
       "      <th>4</th>\n",
       "      <td>May-91</td>\n",
       "      <td>1975</td>\n",
       "    </tr>\n",
       "    <tr>\n",
       "      <th>...</th>\n",
       "      <td>...</td>\n",
       "      <td>...</td>\n",
       "    </tr>\n",
       "    <tr>\n",
       "      <th>142</th>\n",
       "      <td>Nov-02</td>\n",
       "      <td>1858</td>\n",
       "    </tr>\n",
       "    <tr>\n",
       "      <th>143</th>\n",
       "      <td>Dec-02</td>\n",
       "      <td>1996</td>\n",
       "    </tr>\n",
       "    <tr>\n",
       "      <th>144</th>\n",
       "      <td>Jan-03</td>\n",
       "      <td>1778</td>\n",
       "    </tr>\n",
       "    <tr>\n",
       "      <th>145</th>\n",
       "      <td>Feb-03</td>\n",
       "      <td>1749</td>\n",
       "    </tr>\n",
       "    <tr>\n",
       "      <th>146</th>\n",
       "      <td>Mar-03</td>\n",
       "      <td>2066</td>\n",
       "    </tr>\n",
       "  </tbody>\n",
       "</table>\n",
       "<p>147 rows × 2 columns</p>\n",
       "</div>"
      ],
      "text/plain": [
       "      Month  Footfalls\n",
       "0    Jan-91       1709\n",
       "1    Feb-91       1621\n",
       "2    Mar-91       1973\n",
       "3    Apr-91       1812\n",
       "4    May-91       1975\n",
       "..      ...        ...\n",
       "142  Nov-02       1858\n",
       "143  Dec-02       1996\n",
       "144  Jan-03       1778\n",
       "145  Feb-03       1749\n",
       "146  Mar-03       2066\n",
       "\n",
       "[147 rows x 2 columns]"
      ]
     },
     "execution_count": 4,
     "metadata": {},
     "output_type": "execute_result"
    }
   ],
   "source": [
    "#Data Partition\n",
    "Train=walmart.head(147)\n",
    "Train"
   ]
  },
  {
   "cell_type": "code",
   "execution_count": 5,
   "id": "ca63c7c5-f4e6-4bad-9152-cf98a31c107b",
   "metadata": {},
   "outputs": [
    {
     "data": {
      "text/html": [
       "<div>\n",
       "<style scoped>\n",
       "    .dataframe tbody tr th:only-of-type {\n",
       "        vertical-align: middle;\n",
       "    }\n",
       "\n",
       "    .dataframe tbody tr th {\n",
       "        vertical-align: top;\n",
       "    }\n",
       "\n",
       "    .dataframe thead th {\n",
       "        text-align: right;\n",
       "    }\n",
       "</style>\n",
       "<table border=\"1\" class=\"dataframe\">\n",
       "  <thead>\n",
       "    <tr style=\"text-align: right;\">\n",
       "      <th></th>\n",
       "      <th>Month</th>\n",
       "      <th>Footfalls</th>\n",
       "    </tr>\n",
       "  </thead>\n",
       "  <tbody>\n",
       "    <tr>\n",
       "      <th>147</th>\n",
       "      <td>Apr-03</td>\n",
       "      <td>2099</td>\n",
       "    </tr>\n",
       "    <tr>\n",
       "      <th>148</th>\n",
       "      <td>May-03</td>\n",
       "      <td>2105</td>\n",
       "    </tr>\n",
       "    <tr>\n",
       "      <th>149</th>\n",
       "      <td>Jun-03</td>\n",
       "      <td>2130</td>\n",
       "    </tr>\n",
       "    <tr>\n",
       "      <th>150</th>\n",
       "      <td>Jul-03</td>\n",
       "      <td>2223</td>\n",
       "    </tr>\n",
       "    <tr>\n",
       "      <th>151</th>\n",
       "      <td>Aug-03</td>\n",
       "      <td>2174</td>\n",
       "    </tr>\n",
       "    <tr>\n",
       "      <th>152</th>\n",
       "      <td>Sep-03</td>\n",
       "      <td>1931</td>\n",
       "    </tr>\n",
       "    <tr>\n",
       "      <th>153</th>\n",
       "      <td>Oct-03</td>\n",
       "      <td>2121</td>\n",
       "    </tr>\n",
       "    <tr>\n",
       "      <th>154</th>\n",
       "      <td>Nov-03</td>\n",
       "      <td>2076</td>\n",
       "    </tr>\n",
       "    <tr>\n",
       "      <th>155</th>\n",
       "      <td>Dec-03</td>\n",
       "      <td>2141</td>\n",
       "    </tr>\n",
       "    <tr>\n",
       "      <th>156</th>\n",
       "      <td>Jan-04</td>\n",
       "      <td>1832</td>\n",
       "    </tr>\n",
       "    <tr>\n",
       "      <th>157</th>\n",
       "      <td>Feb-04</td>\n",
       "      <td>1838</td>\n",
       "    </tr>\n",
       "    <tr>\n",
       "      <th>158</th>\n",
       "      <td>Mar-04</td>\n",
       "      <td>2132</td>\n",
       "    </tr>\n",
       "  </tbody>\n",
       "</table>\n",
       "</div>"
      ],
      "text/plain": [
       "      Month  Footfalls\n",
       "147  Apr-03       2099\n",
       "148  May-03       2105\n",
       "149  Jun-03       2130\n",
       "150  Jul-03       2223\n",
       "151  Aug-03       2174\n",
       "152  Sep-03       1931\n",
       "153  Oct-03       2121\n",
       "154  Nov-03       2076\n",
       "155  Dec-03       2141\n",
       "156  Jan-04       1832\n",
       "157  Feb-04       1838\n",
       "158  Mar-04       2132"
      ]
     },
     "execution_count": 5,
     "metadata": {},
     "output_type": "execute_result"
    }
   ],
   "source": [
    "Test=walmart.tail(12)\n",
    "Test"
   ]
  },
  {
   "cell_type": "code",
   "execution_count": 6,
   "id": "b3eea258-ba54-435f-8826-13975ccfd614",
   "metadata": {},
   "outputs": [
    {
     "data": {
      "image/png": "[encoded data removed]",
      "text/plain": [
       "<Figure size 640x480 with 1 Axes>"
      ]
     },
     "execution_count": 6,
     "metadata": {},
     "output_type": "execute_result"
    },
    {
     "data": {
      "image/png": "[encoded data removed]",
      "text/plain": [
       "<Figure size 640x480 with 1 Axes>"
      ]
     },
     "metadata": {},
     "output_type": "display_data"
    },
    {
     "data": {
      "image/png": "[encoded data removed]",
      "text/plain": [
       "<Figure size 640x480 with 1 Axes>"
      ]
     },
     "metadata": {},
     "output_type": "display_data"
    }
   ],
   "source": [
    "tsa_plots.plot_acf(walmart.Footfalls, lags=12)\n",
    "tsa_plots.plot_pacf(walmart.Footfalls, lags=12)"
   ]
  },
  {
   "cell_type": "code",
   "execution_count": 7,
   "id": "0c195694-8399-4fff-b0c3-fe71329af450",
   "metadata": {},
   "outputs": [],
   "source": [
    "#ARIMA with AR=4, MA=6\n",
    "model1=ARIMA(Train.Footfalls,order=(4,1,6))"
   ]
  },
  {
   "cell_type": "code",
   "execution_count": 8,
   "id": "7a5d26f9-3175-4627-9d42-b669a6dcf196",
   "metadata": {},
   "outputs": [
    {
     "name": "stderr",
     "output_type": "stream",
     "text": [
      "C:\\Users\\HP\\anaconda3\\Lib\\site-packages\\statsmodels\\base\\model.py:607: ConvergenceWarning: Maximum Likelihood optimization failed to converge. Check mle_retvals\n",
      "  warnings.warn(\"Maximum Likelihood optimization failed to \"\n"
     ]
    }
   ],
   "source": [
    "res1=model1.fit()"
   ]
  },
  {
   "cell_type": "code",
   "execution_count": 9,
   "id": "e8e83409-1556-4873-9f59-5de9064ababe",
   "metadata": {},
   "outputs": [
    {
     "name": "stdout",
     "output_type": "stream",
     "text": [
      "                               SARIMAX Results                                \n",
      "==============================================================================\n",
      "Dep. Variable:              Footfalls   No. Observations:                  147\n",
      "Model:                 ARIMA(4, 1, 6)   Log Likelihood                -895.491\n",
      "Date:                Thu, 30 Jan 2025   AIC                           1812.982\n",
      "Time:                        16:29:21   BIC                           1845.802\n",
      "Sample:                             0   HQIC                          1826.317\n",
      "                                - 147                                         \n",
      "Covariance Type:                  opg                                         \n",
      "==============================================================================\n",
      "                 coef    std err          z      P>|z|      [0.025      0.975]\n",
      "------------------------------------------------------------------------------\n",
      "ar.L1         -0.7546      0.579     -1.303      0.193      -1.890       0.381\n",
      "ar.L2         -0.7937      0.369     -2.150      0.032      -1.517      -0.070\n",
      "ar.L3         -0.7447      0.583     -1.278      0.201      -1.887       0.397\n",
      "ar.L4          0.2083      0.369      0.564      0.573      -0.515       0.932\n",
      "ma.L1          0.2329      0.507      0.459      0.646      -0.761       1.227\n",
      "ma.L2          0.7126      0.431      1.652      0.099      -0.133       1.558\n",
      "ma.L3          0.1077      0.621      0.173      0.862      -1.110       1.325\n",
      "ma.L4         -0.7889      0.613     -1.287      0.198      -1.991       0.413\n",
      "ma.L5         -0.1154      0.270     -0.428      0.668      -0.644       0.413\n",
      "ma.L6         -0.5679      0.276     -2.059      0.040      -1.109      -0.027\n",
      "sigma2      1.971e+04   4720.161      4.176      0.000    1.05e+04     2.9e+04\n",
      "===================================================================================\n",
      "Ljung-Box (L1) (Q):                   0.02   Jarque-Bera (JB):                 3.54\n",
      "Prob(Q):                              0.90   Prob(JB):                         0.17\n",
      "Heteroskedasticity (H):               0.93   Skew:                            -0.13\n",
      "Prob(H) (two-sided):                  0.79   Kurtosis:                         2.29\n",
      "===================================================================================\n",
      "\n",
      "Warnings:\n",
      "[1] Covariance matrix calculated using the outer product of gradients (complex-step).\n"
     ]
    }
   ],
   "source": [
    "print(res1.summary())"
   ]
  },
  {
   "cell_type": "code",
   "execution_count": 10,
   "id": "4fc0b47d-80aa-417a-b2c9-7a72d109aff0",
   "metadata": {},
   "outputs": [
    {
     "name": "stdout",
     "output_type": "stream",
     "text": [
      "ADF Statistic:  -0.23499112877866932\n",
      "p-value: 0.9342202042969283\n"
     ]
    }
   ],
   "source": [
    "\"\"\"\n",
    "Creates an ARIMA model with:\n",
    "AR(Auto Regressive)term=4\n",
    "I(Integrated)term=1(indicates first order diffrencing to make the data stationary)\n",
    "MA(Moving Average)term=6\n",
    "\n",
    "When to use Differencing (d in ARIMA)\n",
    "Before selecting p and q, ensure the time series is stationary:\n",
    "\n",
    "If the mean and variance change over time, apply differencing.\n",
    "Use the Augmented Dickey-Fuller(ADF) test to check the stationarity.\n",
    "If the series is not stationary, apply first order differencing(d=1).\n",
    "\"\"\"\n",
    "from statsmodels.tsa.stattools import adfuller\n",
    "result=adfuller(walmart.Footfalls)\n",
    "print('ADF Statistic: ',result[0])\n",
    "print('p-value:',result[1])\n",
    "\n",
    "#If p-value>0.05, the series is not stationary, so apply differencing(d=)\n"
   ]
  },
  {
   "cell_type": "markdown",
   "id": "82d3fa14-b18e-40c5-b29a-512e0cc5be02",
   "metadata": {},
   "source": [
    "## Forecast for next 12 months"
   ]
  },
  {
   "cell_type": "code",
   "execution_count": 11,
   "id": "6410be95-4c42-451b-897c-7feded72c39a",
   "metadata": {},
   "outputs": [],
   "source": [
    "start_index=len(Train)\n",
    "end_index=start_index+11\n",
    "forecast_test=res1.predict(start=start_index,end=end_index)"
   ]
  },
  {
   "cell_type": "code",
   "execution_count": 12,
   "id": "a50bef72-b9c2-47bc-8349-0b9eb18ed408",
   "metadata": {},
   "outputs": [
    {
     "name": "stdout",
     "output_type": "stream",
     "text": [
      "147    1922.241616\n",
      "148    1868.482452\n",
      "149    1859.004278\n",
      "150    2022.704017\n",
      "151    1978.552654\n",
      "152    1834.857464\n",
      "153    1854.450922\n",
      "154    2020.697205\n",
      "155    1977.513851\n",
      "156    1833.621810\n",
      "157    1856.753933\n",
      "158    2020.295859\n",
      "Name: predicted_mean, dtype: float64\n"
     ]
    }
   ],
   "source": [
    "print(forecast_test)"
   ]
  },
  {
   "cell_type": "code",
   "execution_count": 13,
   "id": "ca4d2df7-b832-4808-82ab-bb449b292093",
   "metadata": {},
   "outputs": [
    {
     "data": {
      "text/plain": [
       "'\\nstart_index=len(Train)#:Begins prediction after the training dataset.\\nend_index=start_index+11#:predicts the next 12 periods.\\nres1.predict(start=start_index,end=end_index)#:Generates forecasts.\\n'"
      ]
     },
     "execution_count": 13,
     "metadata": {},
     "output_type": "execute_result"
    }
   ],
   "source": [
    "\"\"\"\n",
    "start_index=len(Train)#:Begins prediction after the training dataset.\n",
    "end_index=start_index+11#:predicts the next 12 periods.\n",
    "res1.predict(start=start_index,end=end_index)#:Generates forecasts.\n",
    "\"\"\"\n"
   ]
  },
  {
   "cell_type": "markdown",
   "id": "1b8efab6-c84f-40bb-bd89-87bbaec64c9a",
   "metadata": {},
   "source": [
    "# Evaluate Forecasts"
   ]
  },
  {
   "cell_type": "code",
   "execution_count": 14,
   "id": "315516c7-9991-44ce-a9e5-f57ee6129bd9",
   "metadata": {},
   "outputs": [
    {
     "name": "stdout",
     "output_type": "stream",
     "text": [
      "Test RMSE: 173.650\n"
     ]
    }
   ],
   "source": [
    "rmse_test=sqrt(mean_squared_error(Test.Footfalls,forecast_test))\n",
    "print('Test RMSE: %.3f'%rmse_test)"
   ]
  },
  {
   "cell_type": "markdown",
   "id": "c6ae2a89-4bb8-44ee-95e5-3bcffde47c82",
   "metadata": {},
   "source": [
    "# Plot forecast against actual outcomes"
   ]
  },
  {
   "cell_type": "code",
   "execution_count": 15,
   "id": "061c6d25-8893-4c1d-8efe-66f33ded02e8",
   "metadata": {},
   "outputs": [
    {
     "data": {
      "image/png": "[encoded data removed]",
      "text/plain": [
       "<Figure size 640x480 with 1 Axes>"
      ]
     },
     "metadata": {},
     "output_type": "display_data"
    }
   ],
   "source": [
    "pyplot.plot(Test.Footfalls)\n",
    "pyplot.plot(forecast_test,color='red')\n",
    "pyplot.show()"
   ]
  },
  {
   "cell_type": "code",
   "execution_count": 16,
   "id": "2d411753-742e-4010-8cf9-a40655db9ac8",
   "metadata": {},
   "outputs": [],
   "source": [
    "#Auto-ARIMA- automatically discover the optimal order for an ARIMA model"
   ]
  },
  {
   "cell_type": "code",
   "execution_count": null,
   "id": "1f98d54d-74e8-412a-8efe-f79dd1e12ae2",
   "metadata": {},
   "outputs": [],
   "source": []
  },
  {
   "cell_type": "code",
   "execution_count": 18,
   "id": "9628a4f6-3135-4a25-b583-613b9bdd6e42",
   "metadata": {},
   "outputs": [
    {
     "data": {
      "text/plain": [
       "'\\npmdarima is an Auto-Arima package that automatically selects the best(p,q)\\nstart_p=0,start_q=0:Initial values for AR and MA terms.\\nmax_p=12,max_q=12:Maximum values for ARa nd MA\\nm=1:Indicates a non seasonal model\\nd=None:Automatically determines the differencing order.\\nseasonal=False:Disables seasonal components.\\ntrace=True:Displays the sel\\n'"
      ]
     },
     "execution_count": 18,
     "metadata": {},
     "output_type": "execute_result"
    }
   ],
   "source": [
    "\"\"\"\n",
    "pmdarima is an Auto-Arima package that automatically selects the best(p,q)\n",
    "start_p=0,start_q=0:Initial values for AR and MA terms.\n",
    "max_p=12,max_q=12:Maximum values for ARa nd MA\n",
    "m=1:Indicates a non seasonal model\n",
    "d=None:Automatically determines the differencing order.\n",
    "seasonal=False:Disables seasonal components.\n",
    "trace=True:Displays the sel\n",
    "\"\"\""
   ]
  },
  {
   "cell_type": "code",
   "execution_count": 19,
   "id": "bab8ff1e-9cb5-46d8-8519-567d02c7ae50",
   "metadata": {},
   "outputs": [],
   "source": [
    "import pmdarima as pm"
   ]
  },
  {
   "cell_type": "code",
   "execution_count": 20,
   "id": "27aebf3c-d5a5-4ad0-aa8b-08579a239d18",
   "metadata": {},
   "outputs": [
    {
     "name": "stdout",
     "output_type": "stream",
     "text": [
      "Performing stepwise search to minimize aic\n",
      " ARIMA(0,1,0)(0,0,0)[0] intercept   : AIC=1916.696, Time=0.08 sec\n",
      " ARIMA(1,1,0)(0,0,0)[0] intercept   : AIC=1908.134, Time=0.08 sec\n",
      " ARIMA(0,1,1)(0,0,0)[0] intercept   : AIC=1887.358, Time=0.15 sec\n",
      " ARIMA(0,1,0)(0,0,0)[0]             : AIC=1914.726, Time=0.02 sec\n",
      " ARIMA(1,1,1)(0,0,0)[0] intercept   : AIC=1874.405, Time=0.22 sec\n",
      " ARIMA(2,1,1)(0,0,0)[0] intercept   : AIC=1875.051, Time=0.41 sec\n",
      " ARIMA(1,1,2)(0,0,0)[0] intercept   : AIC=1874.985, Time=0.41 sec\n",
      " ARIMA(0,1,2)(0,0,0)[0] intercept   : AIC=1873.101, Time=0.23 sec\n",
      " ARIMA(0,1,3)(0,0,0)[0] intercept   : AIC=1874.951, Time=0.47 sec\n",
      " ARIMA(1,1,3)(0,0,0)[0] intercept   : AIC=1869.771, Time=0.50 sec\n",
      " ARIMA(2,1,3)(0,0,0)[0] intercept   : AIC=inf, Time=0.95 sec\n",
      " ARIMA(1,1,4)(0,0,0)[0] intercept   : AIC=inf, Time=0.97 sec\n",
      " ARIMA(0,1,4)(0,0,0)[0] intercept   : AIC=1859.122, Time=0.66 sec\n",
      " ARIMA(0,1,5)(0,0,0)[0] intercept   : AIC=1853.611, Time=0.96 sec\n",
      " ARIMA(1,1,5)(0,0,0)[0] intercept   : AIC=1849.428, Time=0.96 sec\n",
      " ARIMA(2,1,5)(0,0,0)[0] intercept   : AIC=1804.824, Time=1.35 sec\n",
      " ARIMA(2,1,4)(0,0,0)[0] intercept   : AIC=1837.041, Time=1.10 sec\n",
      " ARIMA(3,1,5)(0,0,0)[0] intercept   : AIC=1802.538, Time=1.36 sec\n",
      " ARIMA(3,1,4)(0,0,0)[0] intercept   : AIC=inf, Time=1.20 sec\n",
      " ARIMA(4,1,5)(0,0,0)[0] intercept   : AIC=1812.357, Time=1.46 sec\n",
      " ARIMA(3,1,6)(0,0,0)[0] intercept   : AIC=1814.111, Time=1.74 sec\n",
      " ARIMA(2,1,6)(0,0,0)[0] intercept   : AIC=inf, Time=1.41 sec\n",
      " ARIMA(4,1,4)(0,0,0)[0] intercept   : AIC=1823.257, Time=1.24 sec\n",
      " ARIMA(4,1,6)(0,0,0)[0] intercept   : AIC=1814.946, Time=1.64 sec\n",
      " ARIMA(3,1,5)(0,0,0)[0]             : AIC=1807.501, Time=1.09 sec\n",
      "\n",
      "Best model:  ARIMA(3,1,5)(0,0,0)[0] intercept\n",
      "Total fit time: 20.688 seconds\n"
     ]
    }
   ],
   "source": [
    "ar_model=pm.auto_arima(Train.Footfalls, start_p=0, start_q=0,\n",
    "                       max_p=12, max_q=12, #maximum p and q\n",
    "                       m=1,                # frequency of series\n",
    "                       d=None,             #let model determine 'd'\n",
    "                       seasonal=False,     #No seasonality\n",
    "                       start_P=0, trace=True,\n",
    "                       error_action='warn', stepwise=True)"
   ]
  },
  {
   "cell_type": "code",
   "execution_count": 21,
   "id": "ceb57671-242b-47b0-83df-ba2f745243c1",
   "metadata": {},
   "outputs": [],
   "source": [
    "#Best parameters ARIMA\n",
    "#ARIMA with AR=3, I=1, MA=5\n",
    "model= ARIMA(Train.Footfalls, order =(3,1,5))"
   ]
  },
  {
   "cell_type": "code",
   "execution_count": 22,
   "id": "bcc99d18-9bde-4b7b-9536-fed41042e4e0",
   "metadata": {},
   "outputs": [
    {
     "name": "stderr",
     "output_type": "stream",
     "text": [
      "C:\\Users\\HP\\anaconda3\\Lib\\site-packages\\statsmodels\\base\\model.py:607: ConvergenceWarning: Maximum Likelihood optimization failed to converge. Check mle_retvals\n",
      "  warnings.warn(\"Maximum Likelihood optimization failed to \"\n"
     ]
    }
   ],
   "source": [
    "res=model.fit()"
   ]
  },
  {
   "cell_type": "code",
   "execution_count": 23,
   "id": "500c9a0c-a69e-42cf-a48b-024480549484",
   "metadata": {},
   "outputs": [
    {
     "name": "stdout",
     "output_type": "stream",
     "text": [
      "                               SARIMAX Results                                \n",
      "==============================================================================\n",
      "Dep. Variable:              Footfalls   No. Observations:                  147\n",
      "Model:                 ARIMA(3, 1, 5)   Log Likelihood                -894.750\n",
      "Date:                Thu, 30 Jan 2025   AIC                           1807.501\n",
      "Time:                        16:32:16   BIC                           1834.353\n",
      "Sample:                             0   HQIC                          1818.411\n",
      "                                - 147                                         \n",
      "Covariance Type:                  opg                                         \n",
      "==============================================================================\n",
      "                 coef    std err          z      P>|z|      [0.025      0.975]\n",
      "------------------------------------------------------------------------------\n",
      "ar.L1          0.4529      0.262      1.728      0.084      -0.061       0.967\n",
      "ar.L2         -0.9933      0.013    -76.397      0.000      -1.019      -0.968\n",
      "ar.L3          0.4567      0.264      1.727      0.084      -0.062       0.975\n",
      "ma.L1         -0.9272      0.217     -4.268      0.000      -1.353      -0.501\n",
      "ma.L2          1.4703      0.203      7.239      0.000       1.072       1.868\n",
      "ma.L3         -1.4136      0.243     -5.806      0.000      -1.891      -0.936\n",
      "ma.L4          0.5315      0.229      2.320      0.020       0.082       0.981\n",
      "ma.L5         -0.5262      0.160     -3.296      0.001      -0.839      -0.213\n",
      "sigma2      1.879e+04   4336.285      4.333      0.000    1.03e+04    2.73e+04\n",
      "===================================================================================\n",
      "Ljung-Box (L1) (Q):                   0.27   Jarque-Bera (JB):                 2.80\n",
      "Prob(Q):                              0.60   Prob(JB):                         0.25\n",
      "Heteroskedasticity (H):               0.98   Skew:                            -0.09\n",
      "Prob(H) (two-sided):                  0.93   Kurtosis:                         2.35\n",
      "===================================================================================\n",
      "\n",
      "Warnings:\n",
      "[1] Covariance matrix calculated using the outer product of gradients (complex-step).\n"
     ]
    }
   ],
   "source": [
    "print(res.summary())"
   ]
  },
  {
   "cell_type": "code",
   "execution_count": 24,
   "id": "a317f7e3-8379-4a0a-85a5-d494f3929830",
   "metadata": {},
   "outputs": [],
   "source": [
    "#Forecast for next 12 months\n",
    "start_index=len(Train)\n",
    "end_index=start_index + 11\n",
    "forecast_best= res1.predict(start=start_index, end=end_index)"
   ]
  },
  {
   "cell_type": "code",
   "execution_count": 25,
   "id": "2b559707-5c02-4bdc-a773-70ef98dfbd46",
   "metadata": {},
   "outputs": [
    {
     "name": "stdout",
     "output_type": "stream",
     "text": [
      "Performing stepwise search to minimize aic\n",
      " ARIMA(0,1,0)(0,0,0)[0] intercept   : AIC=1916.696, Time=0.03 sec\n",
      " ARIMA(1,1,0)(0,0,0)[0] intercept   : AIC=1908.134, Time=0.13 sec\n",
      " ARIMA(0,1,1)(0,0,0)[0] intercept   : AIC=1887.358, Time=0.12 sec\n",
      " ARIMA(0,1,0)(0,0,0)[0]             : AIC=1914.726, Time=0.02 sec\n",
      " ARIMA(1,1,1)(0,0,0)[0] intercept   : AIC=1874.405, Time=0.22 sec\n",
      " ARIMA(2,1,1)(0,0,0)[0] intercept   : AIC=1875.051, Time=0.40 sec\n",
      " ARIMA(1,1,2)(0,0,0)[0] intercept   : AIC=1874.985, Time=0.43 sec\n",
      " ARIMA(0,1,2)(0,0,0)[0] intercept   : AIC=1873.101, Time=0.20 sec\n",
      " ARIMA(0,1,3)(0,0,0)[0] intercept   : AIC=1874.951, Time=0.41 sec\n",
      " ARIMA(1,1,3)(0,0,0)[0] intercept   : AIC=1869.771, Time=0.51 sec\n",
      " ARIMA(2,1,3)(0,0,0)[0] intercept   : AIC=inf, Time=0.89 sec\n",
      " ARIMA(1,1,4)(0,0,0)[0] intercept   : AIC=inf, Time=0.85 sec\n",
      " ARIMA(0,1,4)(0,0,0)[0] intercept   : AIC=1859.122, Time=0.58 sec\n",
      " ARIMA(0,1,5)(0,0,0)[0] intercept   : AIC=1853.611, Time=0.87 sec\n",
      " ARIMA(1,1,5)(0,0,0)[0] intercept   : AIC=1849.428, Time=1.05 sec\n",
      " ARIMA(2,1,5)(0,0,0)[0] intercept   : AIC=1804.824, Time=1.25 sec\n",
      " ARIMA(2,1,4)(0,0,0)[0] intercept   : AIC=1837.041, Time=1.10 sec\n",
      " ARIMA(3,1,5)(0,0,0)[0] intercept   : AIC=1802.538, Time=1.26 sec\n",
      " ARIMA(3,1,4)(0,0,0)[0] intercept   : AIC=inf, Time=1.22 sec\n",
      " ARIMA(4,1,5)(0,0,0)[0] intercept   : AIC=1812.357, Time=1.65 sec\n",
      " ARIMA(3,1,6)(0,0,0)[0] intercept   : AIC=1814.111, Time=1.59 sec\n",
      " ARIMA(2,1,6)(0,0,0)[0] intercept   : AIC=inf, Time=1.48 sec\n",
      " ARIMA(4,1,4)(0,0,0)[0] intercept   : AIC=1823.257, Time=1.10 sec\n",
      " ARIMA(4,1,6)(0,0,0)[0] intercept   : AIC=1814.946, Time=1.45 sec\n",
      " ARIMA(3,1,5)(0,0,0)[0]             : AIC=1807.501, Time=1.21 sec\n",
      "\n",
      "Best model:  ARIMA(3,1,5)(0,0,0)[0] intercept\n",
      "Total fit time: 20.063 seconds\n"
     ]
    }
   ],
   "source": [
    "ar_model=pm.auto_arima(Train.Footfalls, start_p=0, start_q=0,\n",
    "                       max_p=12, max_q=12, #maximum p and q\n",
    "                       m=1,                # frequency of series\n",
    "                       d=None,             #let model determine 'd'\n",
    "                       seasonal=False,     #No seasonality\n",
    "                       start_P=0, trace=True,\n",
    "                       error_action='warn', stepwise=True)"
   ]
  },
  {
   "cell_type": "code",
   "execution_count": 26,
   "id": "914f2142-35d2-4639-a514-a626c686f657",
   "metadata": {},
   "outputs": [],
   "source": [
    "#Best parameters ARIMA\n",
    "#ARIMA with AR=3, I=1, MA=5\n",
    "model= ARIMA(Train.Footfalls, order =(3,1,5))"
   ]
  },
  {
   "cell_type": "code",
   "execution_count": 27,
   "id": "c17216a8-2ccd-4bfc-b1f8-29cd94caae43",
   "metadata": {},
   "outputs": [
    {
     "name": "stderr",
     "output_type": "stream",
     "text": [
      "C:\\Users\\HP\\anaconda3\\Lib\\site-packages\\statsmodels\\base\\model.py:607: ConvergenceWarning: Maximum Likelihood optimization failed to converge. Check mle_retvals\n",
      "  warnings.warn(\"Maximum Likelihood optimization failed to \"\n"
     ]
    }
   ],
   "source": [
    "res=model.fit()"
   ]
  },
  {
   "cell_type": "code",
   "execution_count": 28,
   "id": "a5e20777-aed5-4a4d-9148-df0e6efb0e78",
   "metadata": {},
   "outputs": [
    {
     "name": "stdout",
     "output_type": "stream",
     "text": [
      "                               SARIMAX Results                                \n",
      "==============================================================================\n",
      "Dep. Variable:              Footfalls   No. Observations:                  147\n",
      "Model:                 ARIMA(3, 1, 5)   Log Likelihood                -894.750\n",
      "Date:                Thu, 30 Jan 2025   AIC                           1807.501\n",
      "Time:                        16:33:56   BIC                           1834.353\n",
      "Sample:                             0   HQIC                          1818.411\n",
      "                                - 147                                         \n",
      "Covariance Type:                  opg                                         \n",
      "==============================================================================\n",
      "                 coef    std err          z      P>|z|      [0.025      0.975]\n",
      "------------------------------------------------------------------------------\n",
      "ar.L1          0.4529      0.262      1.728      0.084      -0.061       0.967\n",
      "ar.L2         -0.9933      0.013    -76.397      0.000      -1.019      -0.968\n",
      "ar.L3          0.4567      0.264      1.727      0.084      -0.062       0.975\n",
      "ma.L1         -0.9272      0.217     -4.268      0.000      -1.353      -0.501\n",
      "ma.L2          1.4703      0.203      7.239      0.000       1.072       1.868\n",
      "ma.L3         -1.4136      0.243     -5.806      0.000      -1.891      -0.936\n",
      "ma.L4          0.5315      0.229      2.320      0.020       0.082       0.981\n",
      "ma.L5         -0.5262      0.160     -3.296      0.001      -0.839      -0.213\n",
      "sigma2      1.879e+04   4336.285      4.333      0.000    1.03e+04    2.73e+04\n",
      "===================================================================================\n",
      "Ljung-Box (L1) (Q):                   0.27   Jarque-Bera (JB):                 2.80\n",
      "Prob(Q):                              0.60   Prob(JB):                         0.25\n",
      "Heteroskedasticity (H):               0.98   Skew:                            -0.09\n",
      "Prob(H) (two-sided):                  0.93   Kurtosis:                         2.35\n",
      "===================================================================================\n",
      "\n",
      "Warnings:\n",
      "[1] Covariance matrix calculated using the outer product of gradients (complex-step).\n"
     ]
    }
   ],
   "source": [
    "print(res.summary())"
   ]
  },
  {
   "cell_type": "code",
   "execution_count": 32,
   "id": "d49031d4-5a28-4a72-8894-a833a0dcef7e",
   "metadata": {},
   "outputs": [],
   "source": [
    "#Forecast for next 12 months\n",
    "start_index=len(Train)\n",
    "end_index=start_index + 11\n",
    "forecast_best= res.predict(start=start_index, end=end_index)"
   ]
  },
  {
   "cell_type": "code",
   "execution_count": 33,
   "id": "10e68107-a0ed-4b1f-9774-2327f4cf2afa",
   "metadata": {},
   "outputs": [
    {
     "name": "stdout",
     "output_type": "stream",
     "text": [
      "147    1951.292763\n",
      "148    1869.786093\n",
      "149    1865.812854\n",
      "150    2004.772005\n",
      "151    1975.367957\n",
      "152    1822.211621\n",
      "153    1845.518175\n",
      "154    1994.771980\n",
      "155    1969.270948\n",
      "156    1820.114991\n",
      "157    1846.057841\n",
      "158    1994.314509\n",
      "Name: predicted_mean, dtype: float64\n"
     ]
    }
   ],
   "source": [
    "print(forecast_best)"
   ]
  },
  {
   "cell_type": "code",
   "execution_count": 34,
   "id": "4e2d4a1c-26de-418d-87f2-19bf722f9a00",
   "metadata": {},
   "outputs": [
    {
     "name": "stdout",
     "output_type": "stream",
     "text": [
      "Test RMSE: 177.245942\n"
     ]
    }
   ],
   "source": [
    "#Evaluate forecats\n",
    "rmse_best=sqrt(mean_squared_error(Test.Footfalls, forecast_best))\n",
    "print('Test RMSE: %3f' % rmse_best)"
   ]
  },
  {
   "cell_type": "code",
   "execution_count": 35,
   "id": "2ebc0cac-bee2-4c51-aab3-9b5043f1684a",
   "metadata": {},
   "outputs": [
    {
     "data": {
      "image/png": "[encoded data removed]",
      "text/plain": [
       "<Figure size 640x480 with 1 Axes>"
      ]
     },
     "metadata": {},
     "output_type": "display_data"
    }
   ],
   "source": [
    "pyplot.plot(Test.Footfalls)\n",
    "pyplot.plot(forecast_test,color='red')\n",
    "pyplot.show()"
   ]
  },
  {
   "cell_type": "code",
   "execution_count": null,
   "id": "e39acb8d-ac62-4738-aeb0-db33a62c306e",
   "metadata": {},
   "outputs": [],
   "source": []
  }
 ],
 "metadata": {
  "kernelspec": {
   "display_name": "Python 3 (ipykernel)",
   "language": "python",
   "name": "python3"
  },
  "language_info": {
   "codemirror_mode": {
    "name": "ipython",
    "version": 3
   },
   "file_extension": ".py",
   "mimetype": "text/x-python",
   "name": "python",
   "nbconvert_exporter": "python",
   "pygments_lexer": "ipython3",
   "version": "3.12.3"
  }
 },
 "nbformat": 4,
 "nbformat_minor": 5
}

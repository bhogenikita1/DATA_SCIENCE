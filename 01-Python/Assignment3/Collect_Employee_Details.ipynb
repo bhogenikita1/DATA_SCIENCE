{
 "cells": [
  {
   "attachments": {},
   "cell_type": "raw",
   "id": "1d269766-2809-40be-a667-f07fe4e5f342",
   "metadata": {},
   "source": [
    "1. Write a Python function named collect_employee_details() that collects details of a \r\n",
    "specified number of employees. The function should:\r\n",
    "1. Prompt the user to enter the number of employees (residents).\r\n",
    "2. For each employee, col   t:\r",
    "    am     Age\r\n",
    "o gn    ation\r\n",
    "o Band (should be one of 'A', 'B', 'C', or 'D'; case-insensitive input but stor    ed in \r\n",
    "uppercase)\r\n",
    "3. Validate the fo    llowing:\r\n",
    "o Number of residents must be greate    r than 0.\r\n",
    "o Age must be between 21 and 58 (both i    nclusive).\r\n",
    "o Band must be one of 'A', 'B', 'C', or 'D'.\r\n",
    "If any validation fails, print \"Invalid\" and terminate the function     immediately    .\r\n",
    "Test Case \r\n",
    "No. Input E    xpected Output\r\n",
    "TC1 Number of resid    ents: 0 Invalid\r\n",
    "TC2 Number of resid    ents: -2 Invalid\r\n",
    "TC3 Number of residents: 1    , Age: 20 Invalid\r\n",
    "TC4 Number of residents:     1, Age: 59 Invalid\r\n",
    "TC5 Number of residents:     1, Band: E Invalid\r\n",
    "TC6 Number of residents: 1, Age: 30, Band: b (Va    lid input, continue)\r\n",
    "TC7 Number of residents: 2, First entry valid, Second \r\n",
    "entry Age: 60\r\n",
    "Invalid\r\n",
    "TC8 Number of residents: 2, First entry valid, Second \r\n",
    "Band: F\r\n",
    "Invalid\r\n",
    "TC9 Number of residents: 2, All inputs valid (Name, \r\n",
    "Age, Designation, Band)\r\n",
    "Function completes without \r\n",
    "printing Invalid"
   ]
  },
  {
   "cell_type": "code",
   "execution_count": 17,
   "id": "d07b4baf-555e-4aac-b727-766f606886b9",
   "metadata": {},
   "outputs": [
    {
     "name": "stdin",
     "output_type": "stream",
     "text": [
      "Enter the number of residents:  2\n"
     ]
    },
    {
     "name": "stdout",
     "output_type": "stream",
     "text": [
      "\n",
      "Enter details for resident 1:\n"
     ]
    },
    {
     "name": "stdin",
     "output_type": "stream",
     "text": [
      "Name:  nik\n",
      "Age:  21\n",
      "Designation:  eng\n",
      "Band (A/B/C/D):  s\n"
     ]
    },
    {
     "name": "stdout",
     "output_type": "stream",
     "text": [
      "Invalid\n"
     ]
    }
   ],
   "source": [
    "def collect_employee_details():\n",
    "    try:\n",
    "        num_employees = int(input(\"Enter the number of residents: \"))\n",
    "        if num_employees <= 0:\n",
    "            print(\"Invalid\")\n",
    "            return\n",
    "\n",
    "        employees = []\n",
    "\n",
    "        for i in range(num_employees):\n",
    "            print(f\"\\nEnter details for resident {i + 1}:\")\n",
    "\n",
    "            name = input(\"Name: \").strip()\n",
    "            age = int(input(\"Age: \"))\n",
    "            if age < 21 or age > 58:\n",
    "                print(\"Invalid\")\n",
    "                return\n",
    "\n",
    "            designation = input(\"Designation: \").strip()\n",
    "            band = input(\"Band (A/B/C/D): \").strip().upper()\n",
    "            if band not in ['A', 'B', 'C', 'D']:\n",
    "                print(\"Invalid\")\n",
    "                return\n",
    "\n",
    "            # If all validations pass, store the details\n",
    "            employees.append({\n",
    "                'Name': name,\n",
    "                'Age': age,\n",
    "                'Designation': designation,\n",
    "                'Band': band\n",
    "            })\n",
    "\n",
    "        # Function completes without printing Invalid\n",
    "        print(\"\\nAll employee details collected successfully.\")\n",
    "        for emp in employees:\n",
    "            print(emp)\n",
    "\n",
    "    except ValueError:\n",
    "        print(\"Invalid\")\n",
    "\n",
    "\n",
    "collect_employee_details()\n"
   ]
  }
 ],
 "metadata": {
  "kernelspec": {
   "display_name": "Python 3 (ipykernel)",
   "language": "python",
   "name": "python3"
  },
  "language_info": {
   "codemirror_mode": {
    "name": "ipython",
    "version": 3
   },
   "file_extension": ".py",
   "mimetype": "text/x-python",
   "name": "python",
   "nbconvert_exporter": "python",
   "pygments_lexer": "ipython3",
   "version": "3.12.3"
  }
 },
 "nbformat": 4,
 "nbformat_minor": 5
}

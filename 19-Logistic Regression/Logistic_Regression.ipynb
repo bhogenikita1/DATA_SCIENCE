{
 "cells": [
  {
   "cell_type": "code",
   "execution_count": 1,
   "id": "9f8a0c70-9de3-4b39-9998-6ed46e0c54af",
   "metadata": {},
   "outputs": [],
   "source": [
    "#21/01/2025\n",
    "import pandas as pd \n",
    "from matplotlib import pyplot as plt\n",
    "%matplotlib inline"
   ]
  },
  {
   "cell_type": "code",
   "execution_count": 2,
   "id": "a1e74ab0-40a0-45de-b18d-0ec4e035fc8e",
   "metadata": {},
   "outputs": [
    {
     "data": {
      "text/html": [
       "<div>\n",
       "<style scoped>\n",
       "    .dataframe tbody tr th:only-of-type {\n",
       "        vertical-align: middle;\n",
       "    }\n",
       "\n",
       "    .dataframe tbody tr th {\n",
       "        vertical-align: top;\n",
       "    }\n",
       "\n",
       "    .dataframe thead th {\n",
       "        text-align: right;\n",
       "    }\n",
       "</style>\n",
       "<table border=\"1\" class=\"dataframe\">\n",
       "  <thead>\n",
       "    <tr style=\"text-align: right;\">\n",
       "      <th></th>\n",
       "      <th>age</th>\n",
       "      <th>bought_insurance</th>\n",
       "    </tr>\n",
       "  </thead>\n",
       "  <tbody>\n",
       "    <tr>\n",
       "      <th>0</th>\n",
       "      <td>22</td>\n",
       "      <td>0</td>\n",
       "    </tr>\n",
       "    <tr>\n",
       "      <th>1</th>\n",
       "      <td>25</td>\n",
       "      <td>0</td>\n",
       "    </tr>\n",
       "    <tr>\n",
       "      <th>2</th>\n",
       "      <td>47</td>\n",
       "      <td>1</td>\n",
       "    </tr>\n",
       "    <tr>\n",
       "      <th>3</th>\n",
       "      <td>52</td>\n",
       "      <td>0</td>\n",
       "    </tr>\n",
       "    <tr>\n",
       "      <th>4</th>\n",
       "      <td>46</td>\n",
       "      <td>1</td>\n",
       "    </tr>\n",
       "  </tbody>\n",
       "</table>\n",
       "</div>"
      ],
      "text/plain": [
       "   age  bought_insurance\n",
       "0   22                 0\n",
       "1   25                 0\n",
       "2   47                 1\n",
       "3   52                 0\n",
       "4   46                 1"
      ]
     },
     "execution_count": 2,
     "metadata": {},
     "output_type": "execute_result"
    }
   ],
   "source": [
    "df=pd.read_csv(\"insurance_data.csv\")\n",
    "df.head()"
   ]
  },
  {
   "cell_type": "code",
   "execution_count": 3,
   "id": "78db5df5-d16c-4415-939a-cdb3c123a4bc",
   "metadata": {},
   "outputs": [
    {
     "data": {
      "text/plain": [
       "<matplotlib.collections.PathCollection at 0x1dd5090b9e0>"
      ]
     },
     "execution_count": 3,
     "metadata": {},
     "output_type": "execute_result"
    },
    {
     "data": {
      "image/png": "[encoded data removed]",
      "text/plain": [
       "<Figure size 640x480 with 1 Axes>"
      ]
     },
     "metadata": {},
     "output_type": "display_data"
    }
   ],
   "source": [
    "plt.scatter(df.age,df.bought_insurance,marker='+',color='red')"
   ]
  },
  {
   "cell_type": "code",
   "execution_count": 4,
   "id": "dbb0abc3-4c04-4fe4-922e-d0f11817030e",
   "metadata": {},
   "outputs": [],
   "source": [
    "from sklearn.model_selection import train_test_split"
   ]
  },
  {
   "cell_type": "code",
   "execution_count": 5,
   "id": "773ec793-2fba-4388-a084-0f3ccff9999b",
   "metadata": {},
   "outputs": [],
   "source": [
    "X_train,X_test,y_train,y_test= train_test_split(df[['age']],df.bought_insurance,train_size=0.8)"
   ]
  },
  {
   "cell_type": "code",
   "execution_count": 6,
   "id": "6df4a890-7e21-48da-894b-00a4530974ee",
   "metadata": {},
   "outputs": [
    {
     "data": {
      "text/html": [
       "<div>\n",
       "<style scoped>\n",
       "    .dataframe tbody tr th:only-of-type {\n",
       "        vertical-align: middle;\n",
       "    }\n",
       "\n",
       "    .dataframe tbody tr th {\n",
       "        vertical-align: top;\n",
       "    }\n",
       "\n",
       "    .dataframe thead th {\n",
       "        text-align: right;\n",
       "    }\n",
       "</style>\n",
       "<table border=\"1\" class=\"dataframe\">\n",
       "  <thead>\n",
       "    <tr style=\"text-align: right;\">\n",
       "      <th></th>\n",
       "      <th>age</th>\n",
       "    </tr>\n",
       "  </thead>\n",
       "  <tbody>\n",
       "    <tr>\n",
       "      <th>1</th>\n",
       "      <td>25</td>\n",
       "    </tr>\n",
       "    <tr>\n",
       "      <th>20</th>\n",
       "      <td>21</td>\n",
       "    </tr>\n",
       "    <tr>\n",
       "      <th>12</th>\n",
       "      <td>27</td>\n",
       "    </tr>\n",
       "    <tr>\n",
       "      <th>14</th>\n",
       "      <td>49</td>\n",
       "    </tr>\n",
       "    <tr>\n",
       "      <th>10</th>\n",
       "      <td>18</td>\n",
       "    </tr>\n",
       "    <tr>\n",
       "      <th>24</th>\n",
       "      <td>50</td>\n",
       "    </tr>\n",
       "  </tbody>\n",
       "</table>\n",
       "</div>"
      ],
      "text/plain": [
       "    age\n",
       "1    25\n",
       "20   21\n",
       "12   27\n",
       "14   49\n",
       "10   18\n",
       "24   50"
      ]
     },
     "execution_count": 6,
     "metadata": {},
     "output_type": "execute_result"
    }
   ],
   "source": [
    "X_test"
   ]
  },
  {
   "cell_type": "code",
   "execution_count": 7,
   "id": "a78ced49-805b-4e02-aec5-7d313622cc45",
   "metadata": {},
   "outputs": [],
   "source": [
    "from sklearn.linear_model import LogisticRegression"
   ]
  },
  {
   "cell_type": "code",
   "execution_count": 8,
   "id": "95f55c41-7731-4a3e-9f46-713ac2904a9f",
   "metadata": {},
   "outputs": [],
   "source": [
    "model=LogisticRegression()"
   ]
  },
  {
   "cell_type": "code",
   "execution_count": 9,
   "id": "bbf2f1b0-4ec8-4d36-9123-1ee2d2b3ab9a",
   "metadata": {},
   "outputs": [
    {
     "data": {
      "text/html": [
       "<style>#sk-container-id-1 {\n",
       "  /* Definition of color scheme common for light and dark mode */\n",
       "  --sklearn-color-text: black;\n",
       "  --sklearn-color-line: gray;\n",
       "  /* Definition of color scheme for unfitted estimators */\n",
       "  --sklearn-color-unfitted-level-0: #fff5e6;\n",
       "  --sklearn-color-unfitted-level-1: #f6e4d2;\n",
       "  --sklearn-color-unfitted-level-2: #ffe0b3;\n",
       "  --sklearn-color-unfitted-level-3: chocolate;\n",
       "  /* Definition of color scheme for fitted estimators */\n",
       "  --sklearn-color-fitted-level-0: #f0f8ff;\n",
       "  --sklearn-color-fitted-level-1: #d4ebff;\n",
       "  --sklearn-color-fitted-level-2: #b3dbfd;\n",
       "  --sklearn-color-fitted-level-3: cornflowerblue;\n",
       "\n",
       "  /* Specific color for light theme */\n",
       "  --sklearn-color-text-on-default-background: var(--sg-text-color, var(--theme-code-foreground, var(--jp-content-font-color1, black)));\n",
       "  --sklearn-color-background: var(--sg-background-color, var(--theme-background, var(--jp-layout-color0, white)));\n",
       "  --sklearn-color-border-box: var(--sg-text-color, var(--theme-code-foreground, var(--jp-content-font-color1, black)));\n",
       "  --sklearn-color-icon: #696969;\n",
       "\n",
       "  @media (prefers-color-scheme: dark) {\n",
       "    /* Redefinition of color scheme for dark theme */\n",
       "    --sklearn-color-text-on-default-background: var(--sg-text-color, var(--theme-code-foreground, var(--jp-content-font-color1, white)));\n",
       "    --sklearn-color-background: var(--sg-background-color, var(--theme-background, var(--jp-layout-color0, #111)));\n",
       "    --sklearn-color-border-box: var(--sg-text-color, var(--theme-code-foreground, var(--jp-content-font-color1, white)));\n",
       "    --sklearn-color-icon: #878787;\n",
       "  }\n",
       "}\n",
       "\n",
       "#sk-container-id-1 {\n",
       "  color: var(--sklearn-color-text);\n",
       "}\n",
       "\n",
       "#sk-container-id-1 pre {\n",
       "  padding: 0;\n",
       "}\n",
       "\n",
       "#sk-container-id-1 input.sk-hidden--visually {\n",
       "  border: 0;\n",
       "  clip: rect(1px 1px 1px 1px);\n",
       "  clip: rect(1px, 1px, 1px, 1px);\n",
       "  height: 1px;\n",
       "  margin: -1px;\n",
       "  overflow: hidden;\n",
       "  padding: 0;\n",
       "  position: absolute;\n",
       "  width: 1px;\n",
       "}\n",
       "\n",
       "#sk-container-id-1 div.sk-dashed-wrapped {\n",
       "  border: 1px dashed var(--sklearn-color-line);\n",
       "  margin: 0 0.4em 0.5em 0.4em;\n",
       "  box-sizing: border-box;\n",
       "  padding-bottom: 0.4em;\n",
       "  background-color: var(--sklearn-color-background);\n",
       "}\n",
       "\n",
       "#sk-container-id-1 div.sk-container {\n",
       "  /* jupyter's `normalize.less` sets `[hidden] { display: none; }`\n",
       "     but bootstrap.min.css set `[hidden] { display: none !important; }`\n",
       "     so we also need the `!important` here to be able to override the\n",
       "     default hidden behavior on the sphinx rendered scikit-learn.org.\n",
       "     See: https://github.com/scikit-learn/scikit-learn/issues/21755 */\n",
       "  display: inline-block !important;\n",
       "  position: relative;\n",
       "}\n",
       "\n",
       "#sk-container-id-1 div.sk-text-repr-fallback {\n",
       "  display: none;\n",
       "}\n",
       "\n",
       "div.sk-parallel-item,\n",
       "div.sk-serial,\n",
       "div.sk-item {\n",
       "  /* draw centered vertical line to link estimators */\n",
       "  background-image: linear-gradient(var(--sklearn-color-text-on-default-background), var(--sklearn-color-text-on-default-background));\n",
       "  background-size: 2px 100%;\n",
       "  background-repeat: no-repeat;\n",
       "  background-position: center center;\n",
       "}\n",
       "\n",
       "/* Parallel-specific style estimator block */\n",
       "\n",
       "#sk-container-id-1 div.sk-parallel-item::after {\n",
       "  content: \"\";\n",
       "  width: 100%;\n",
       "  border-bottom: 2px solid var(--sklearn-color-text-on-default-background);\n",
       "  flex-grow: 1;\n",
       "}\n",
       "\n",
       "#sk-container-id-1 div.sk-parallel {\n",
       "  display: flex;\n",
       "  align-items: stretch;\n",
       "  justify-content: center;\n",
       "  background-color: var(--sklearn-color-background);\n",
       "  position: relative;\n",
       "}\n",
       "\n",
       "#sk-container-id-1 div.sk-parallel-item {\n",
       "  display: flex;\n",
       "  flex-direction: column;\n",
       "}\n",
       "\n",
       "#sk-container-id-1 div.sk-parallel-item:first-child::after {\n",
       "  align-self: flex-end;\n",
       "  width: 50%;\n",
       "}\n",
       "\n",
       "#sk-container-id-1 div.sk-parallel-item:last-child::after {\n",
       "  align-self: flex-start;\n",
       "  width: 50%;\n",
       "}\n",
       "\n",
       "#sk-container-id-1 div.sk-parallel-item:only-child::after {\n",
       "  width: 0;\n",
       "}\n",
       "\n",
       "/* Serial-specific style estimator block */\n",
       "\n",
       "#sk-container-id-1 div.sk-serial {\n",
       "  display: flex;\n",
       "  flex-direction: column;\n",
       "  align-items: center;\n",
       "  background-color: var(--sklearn-color-background);\n",
       "  padding-right: 1em;\n",
       "  padding-left: 1em;\n",
       "}\n",
       "\n",
       "\n",
       "/* Toggleable style: style used for estimator/Pipeline/ColumnTransformer box that is\n",
       "clickable and can be expanded/collapsed.\n",
       "- Pipeline and ColumnTransformer use this feature and define the default style\n",
       "- Estimators will overwrite some part of the style using the `sk-estimator` class\n",
       "*/\n",
       "\n",
       "/* Pipeline and ColumnTransformer style (default) */\n",
       "\n",
       "#sk-container-id-1 div.sk-toggleable {\n",
       "  /* Default theme specific background. It is overwritten whether we have a\n",
       "  specific estimator or a Pipeline/ColumnTransformer */\n",
       "  background-color: var(--sklearn-color-background);\n",
       "}\n",
       "\n",
       "/* Toggleable label */\n",
       "#sk-container-id-1 label.sk-toggleable__label {\n",
       "  cursor: pointer;\n",
       "  display: block;\n",
       "  width: 100%;\n",
       "  margin-bottom: 0;\n",
       "  padding: 0.5em;\n",
       "  box-sizing: border-box;\n",
       "  text-align: center;\n",
       "}\n",
       "\n",
       "#sk-container-id-1 label.sk-toggleable__label-arrow:before {\n",
       "  /* Arrow on the left of the label */\n",
       "  content: \"▸\";\n",
       "  float: left;\n",
       "  margin-right: 0.25em;\n",
       "  color: var(--sklearn-color-icon);\n",
       "}\n",
       "\n",
       "#sk-container-id-1 label.sk-toggleable__label-arrow:hover:before {\n",
       "  color: var(--sklearn-color-text);\n",
       "}\n",
       "\n",
       "/* Toggleable content - dropdown */\n",
       "\n",
       "#sk-container-id-1 div.sk-toggleable__content {\n",
       "  max-height: 0;\n",
       "  max-width: 0;\n",
       "  overflow: hidden;\n",
       "  text-align: left;\n",
       "  /* unfitted */\n",
       "  background-color: var(--sklearn-color-unfitted-level-0);\n",
       "}\n",
       "\n",
       "#sk-container-id-1 div.sk-toggleable__content.fitted {\n",
       "  /* fitted */\n",
       "  background-color: var(--sklearn-color-fitted-level-0);\n",
       "}\n",
       "\n",
       "#sk-container-id-1 div.sk-toggleable__content pre {\n",
       "  margin: 0.2em;\n",
       "  border-radius: 0.25em;\n",
       "  color: var(--sklearn-color-text);\n",
       "  /* unfitted */\n",
       "  background-color: var(--sklearn-color-unfitted-level-0);\n",
       "}\n",
       "\n",
       "#sk-container-id-1 div.sk-toggleable__content.fitted pre {\n",
       "  /* unfitted */\n",
       "  background-color: var(--sklearn-color-fitted-level-0);\n",
       "}\n",
       "\n",
       "#sk-container-id-1 input.sk-toggleable__control:checked~div.sk-toggleable__content {\n",
       "  /* Expand drop-down */\n",
       "  max-height: 200px;\n",
       "  max-width: 100%;\n",
       "  overflow: auto;\n",
       "}\n",
       "\n",
       "#sk-container-id-1 input.sk-toggleable__control:checked~label.sk-toggleable__label-arrow:before {\n",
       "  content: \"▾\";\n",
       "}\n",
       "\n",
       "/* Pipeline/ColumnTransformer-specific style */\n",
       "\n",
       "#sk-container-id-1 div.sk-label input.sk-toggleable__control:checked~label.sk-toggleable__label {\n",
       "  color: var(--sklearn-color-text);\n",
       "  background-color: var(--sklearn-color-unfitted-level-2);\n",
       "}\n",
       "\n",
       "#sk-container-id-1 div.sk-label.fitted input.sk-toggleable__control:checked~label.sk-toggleable__label {\n",
       "  background-color: var(--sklearn-color-fitted-level-2);\n",
       "}\n",
       "\n",
       "/* Estimator-specific style */\n",
       "\n",
       "/* Colorize estimator box */\n",
       "#sk-container-id-1 div.sk-estimator input.sk-toggleable__control:checked~label.sk-toggleable__label {\n",
       "  /* unfitted */\n",
       "  background-color: var(--sklearn-color-unfitted-level-2);\n",
       "}\n",
       "\n",
       "#sk-container-id-1 div.sk-estimator.fitted input.sk-toggleable__control:checked~label.sk-toggleable__label {\n",
       "  /* fitted */\n",
       "  background-color: var(--sklearn-color-fitted-level-2);\n",
       "}\n",
       "\n",
       "#sk-container-id-1 div.sk-label label.sk-toggleable__label,\n",
       "#sk-container-id-1 div.sk-label label {\n",
       "  /* The background is the default theme color */\n",
       "  color: var(--sklearn-color-text-on-default-background);\n",
       "}\n",
       "\n",
       "/* On hover, darken the color of the background */\n",
       "#sk-container-id-1 div.sk-label:hover label.sk-toggleable__label {\n",
       "  color: var(--sklearn-color-text);\n",
       "  background-color: var(--sklearn-color-unfitted-level-2);\n",
       "}\n",
       "\n",
       "/* Label box, darken color on hover, fitted */\n",
       "#sk-container-id-1 div.sk-label.fitted:hover label.sk-toggleable__label.fitted {\n",
       "  color: var(--sklearn-color-text);\n",
       "  background-color: var(--sklearn-color-fitted-level-2);\n",
       "}\n",
       "\n",
       "/* Estimator label */\n",
       "\n",
       "#sk-container-id-1 div.sk-label label {\n",
       "  font-family: monospace;\n",
       "  font-weight: bold;\n",
       "  display: inline-block;\n",
       "  line-height: 1.2em;\n",
       "}\n",
       "\n",
       "#sk-container-id-1 div.sk-label-container {\n",
       "  text-align: center;\n",
       "}\n",
       "\n",
       "/* Estimator-specific */\n",
       "#sk-container-id-1 div.sk-estimator {\n",
       "  font-family: monospace;\n",
       "  border: 1px dotted var(--sklearn-color-border-box);\n",
       "  border-radius: 0.25em;\n",
       "  box-sizing: border-box;\n",
       "  margin-bottom: 0.5em;\n",
       "  /* unfitted */\n",
       "  background-color: var(--sklearn-color-unfitted-level-0);\n",
       "}\n",
       "\n",
       "#sk-container-id-1 div.sk-estimator.fitted {\n",
       "  /* fitted */\n",
       "  background-color: var(--sklearn-color-fitted-level-0);\n",
       "}\n",
       "\n",
       "/* on hover */\n",
       "#sk-container-id-1 div.sk-estimator:hover {\n",
       "  /* unfitted */\n",
       "  background-color: var(--sklearn-color-unfitted-level-2);\n",
       "}\n",
       "\n",
       "#sk-container-id-1 div.sk-estimator.fitted:hover {\n",
       "  /* fitted */\n",
       "  background-color: var(--sklearn-color-fitted-level-2);\n",
       "}\n",
       "\n",
       "/* Specification for estimator info (e.g. \"i\" and \"?\") */\n",
       "\n",
       "/* Common style for \"i\" and \"?\" */\n",
       "\n",
       ".sk-estimator-doc-link,\n",
       "a:link.sk-estimator-doc-link,\n",
       "a:visited.sk-estimator-doc-link {\n",
       "  float: right;\n",
       "  font-size: smaller;\n",
       "  line-height: 1em;\n",
       "  font-family: monospace;\n",
       "  background-color: var(--sklearn-color-background);\n",
       "  border-radius: 1em;\n",
       "  height: 1em;\n",
       "  width: 1em;\n",
       "  text-decoration: none !important;\n",
       "  margin-left: 1ex;\n",
       "  /* unfitted */\n",
       "  border: var(--sklearn-color-unfitted-level-1) 1pt solid;\n",
       "  color: var(--sklearn-color-unfitted-level-1);\n",
       "}\n",
       "\n",
       ".sk-estimator-doc-link.fitted,\n",
       "a:link.sk-estimator-doc-link.fitted,\n",
       "a:visited.sk-estimator-doc-link.fitted {\n",
       "  /* fitted */\n",
       "  border: var(--sklearn-color-fitted-level-1) 1pt solid;\n",
       "  color: var(--sklearn-color-fitted-level-1);\n",
       "}\n",
       "\n",
       "/* On hover */\n",
       "div.sk-estimator:hover .sk-estimator-doc-link:hover,\n",
       ".sk-estimator-doc-link:hover,\n",
       "div.sk-label-container:hover .sk-estimator-doc-link:hover,\n",
       ".sk-estimator-doc-link:hover {\n",
       "  /* unfitted */\n",
       "  background-color: var(--sklearn-color-unfitted-level-3);\n",
       "  color: var(--sklearn-color-background);\n",
       "  text-decoration: none;\n",
       "}\n",
       "\n",
       "div.sk-estimator.fitted:hover .sk-estimator-doc-link.fitted:hover,\n",
       ".sk-estimator-doc-link.fitted:hover,\n",
       "div.sk-label-container:hover .sk-estimator-doc-link.fitted:hover,\n",
       ".sk-estimator-doc-link.fitted:hover {\n",
       "  /* fitted */\n",
       "  background-color: var(--sklearn-color-fitted-level-3);\n",
       "  color: var(--sklearn-color-background);\n",
       "  text-decoration: none;\n",
       "}\n",
       "\n",
       "/* Span, style for the box shown on hovering the info icon */\n",
       ".sk-estimator-doc-link span {\n",
       "  display: none;\n",
       "  z-index: 9999;\n",
       "  position: relative;\n",
       "  font-weight: normal;\n",
       "  right: .2ex;\n",
       "  padding: .5ex;\n",
       "  margin: .5ex;\n",
       "  width: min-content;\n",
       "  min-width: 20ex;\n",
       "  max-width: 50ex;\n",
       "  color: var(--sklearn-color-text);\n",
       "  box-shadow: 2pt 2pt 4pt #999;\n",
       "  /* unfitted */\n",
       "  background: var(--sklearn-color-unfitted-level-0);\n",
       "  border: .5pt solid var(--sklearn-color-unfitted-level-3);\n",
       "}\n",
       "\n",
       ".sk-estimator-doc-link.fitted span {\n",
       "  /* fitted */\n",
       "  background: var(--sklearn-color-fitted-level-0);\n",
       "  border: var(--sklearn-color-fitted-level-3);\n",
       "}\n",
       "\n",
       ".sk-estimator-doc-link:hover span {\n",
       "  display: block;\n",
       "}\n",
       "\n",
       "/* \"?\"-specific style due to the `<a>` HTML tag */\n",
       "\n",
       "#sk-container-id-1 a.estimator_doc_link {\n",
       "  float: right;\n",
       "  font-size: 1rem;\n",
       "  line-height: 1em;\n",
       "  font-family: monospace;\n",
       "  background-color: var(--sklearn-color-background);\n",
       "  border-radius: 1rem;\n",
       "  height: 1rem;\n",
       "  width: 1rem;\n",
       "  text-decoration: none;\n",
       "  /* unfitted */\n",
       "  color: var(--sklearn-color-unfitted-level-1);\n",
       "  border: var(--sklearn-color-unfitted-level-1) 1pt solid;\n",
       "}\n",
       "\n",
       "#sk-container-id-1 a.estimator_doc_link.fitted {\n",
       "  /* fitted */\n",
       "  border: var(--sklearn-color-fitted-level-1) 1pt solid;\n",
       "  color: var(--sklearn-color-fitted-level-1);\n",
       "}\n",
       "\n",
       "/* On hover */\n",
       "#sk-container-id-1 a.estimator_doc_link:hover {\n",
       "  /* unfitted */\n",
       "  background-color: var(--sklearn-color-unfitted-level-3);\n",
       "  color: var(--sklearn-color-background);\n",
       "  text-decoration: none;\n",
       "}\n",
       "\n",
       "#sk-container-id-1 a.estimator_doc_link.fitted:hover {\n",
       "  /* fitted */\n",
       "  background-color: var(--sklearn-color-fitted-level-3);\n",
       "}\n",
       "</style><div id=\"sk-container-id-1\" class=\"sk-top-container\"><div class=\"sk-text-repr-fallback\"><pre>LogisticRegression()</pre><b>In a Jupyter environment, please rerun this cell to show the HTML representation or trust the notebook. <br />On GitHub, the HTML representation is unable to render, please try loading this page with nbviewer.org.</b></div><div class=\"sk-container\" hidden><div class=\"sk-item\"><div class=\"sk-estimator fitted sk-toggleable\"><input class=\"sk-toggleable__control sk-hidden--visually\" id=\"sk-estimator-id-1\" type=\"checkbox\" checked><label for=\"sk-estimator-id-1\" class=\"sk-toggleable__label fitted sk-toggleable__label-arrow fitted\">&nbsp;&nbsp;LogisticRegression<a class=\"sk-estimator-doc-link fitted\" rel=\"noreferrer\" target=\"_blank\" href=\"https://scikit-learn.org/1.4/modules/generated/sklearn.linear_model.LogisticRegression.html\">?<span>Documentation for LogisticRegression</span></a><span class=\"sk-estimator-doc-link fitted\">i<span>Fitted</span></span></label><div class=\"sk-toggleable__content fitted\"><pre>LogisticRegression()</pre></div> </div></div></div></div>"
      ],
      "text/plain": [
       "LogisticRegression()"
      ]
     },
     "execution_count": 9,
     "metadata": {},
     "output_type": "execute_result"
    }
   ],
   "source": [
    "model.fit(X_train,y_train)"
   ]
  },
  {
   "cell_type": "code",
   "execution_count": 10,
   "id": "6b7751dc-3dc0-4849-968f-4fafe5fb1c3d",
   "metadata": {},
   "outputs": [
    {
     "data": {
      "text/html": [
       "<div>\n",
       "<style scoped>\n",
       "    .dataframe tbody tr th:only-of-type {\n",
       "        vertical-align: middle;\n",
       "    }\n",
       "\n",
       "    .dataframe tbody tr th {\n",
       "        vertical-align: top;\n",
       "    }\n",
       "\n",
       "    .dataframe thead th {\n",
       "        text-align: right;\n",
       "    }\n",
       "</style>\n",
       "<table border=\"1\" class=\"dataframe\">\n",
       "  <thead>\n",
       "    <tr style=\"text-align: right;\">\n",
       "      <th></th>\n",
       "      <th>age</th>\n",
       "    </tr>\n",
       "  </thead>\n",
       "  <tbody>\n",
       "    <tr>\n",
       "      <th>1</th>\n",
       "      <td>25</td>\n",
       "    </tr>\n",
       "    <tr>\n",
       "      <th>20</th>\n",
       "      <td>21</td>\n",
       "    </tr>\n",
       "    <tr>\n",
       "      <th>12</th>\n",
       "      <td>27</td>\n",
       "    </tr>\n",
       "    <tr>\n",
       "      <th>14</th>\n",
       "      <td>49</td>\n",
       "    </tr>\n",
       "    <tr>\n",
       "      <th>10</th>\n",
       "      <td>18</td>\n",
       "    </tr>\n",
       "    <tr>\n",
       "      <th>24</th>\n",
       "      <td>50</td>\n",
       "    </tr>\n",
       "  </tbody>\n",
       "</table>\n",
       "</div>"
      ],
      "text/plain": [
       "    age\n",
       "1    25\n",
       "20   21\n",
       "12   27\n",
       "14   49\n",
       "10   18\n",
       "24   50"
      ]
     },
     "execution_count": 10,
     "metadata": {},
     "output_type": "execute_result"
    }
   ],
   "source": [
    "X_test"
   ]
  },
  {
   "cell_type": "code",
   "execution_count": 11,
   "id": "0d1f454c-c0fd-4e25-9876-62f18b77dcb6",
   "metadata": {},
   "outputs": [],
   "source": [
    "y_predicted=model.predict(X_test)"
   ]
  },
  {
   "cell_type": "code",
   "execution_count": 12,
   "id": "8d091284-a54f-4407-9d3d-0c83023f9c9c",
   "metadata": {},
   "outputs": [
    {
     "data": {
      "text/plain": [
       "array([[0.81742353, 0.18257647],\n",
       "       [0.87539456, 0.12460544],\n",
       "       [0.78137907, 0.21862093],\n",
       "       [0.23072582, 0.76927418],\n",
       "       [0.90783006, 0.09216994],\n",
       "       [0.2113427 , 0.7886573 ]])"
      ]
     },
     "execution_count": 12,
     "metadata": {},
     "output_type": "execute_result"
    }
   ],
   "source": [
    "model.predict_proba(X_test)"
   ]
  },
  {
   "cell_type": "code",
   "execution_count": 13,
   "id": "6ced6484-a172-4341-ac8e-2b0fa8c82cde",
   "metadata": {},
   "outputs": [
    {
     "data": {
      "text/plain": [
       "1.0"
      ]
     },
     "execution_count": 13,
     "metadata": {},
     "output_type": "execute_result"
    }
   ],
   "source": [
    "model.score(X_test,y_test)"
   ]
  },
  {
   "cell_type": "code",
   "execution_count": 14,
   "id": "af0b2e87-245b-41d9-a44c-99cef5c8da2e",
   "metadata": {},
   "outputs": [
    {
     "data": {
      "text/plain": [
       "array([0, 0, 0, 1, 0, 1], dtype=int64)"
      ]
     },
     "execution_count": 14,
     "metadata": {},
     "output_type": "execute_result"
    }
   ],
   "source": [
    "y_predicted"
   ]
  },
  {
   "cell_type": "code",
   "execution_count": 15,
   "id": "f6cd3110-c246-4157-aa40-6b896209cbbc",
   "metadata": {},
   "outputs": [
    {
     "data": {
      "text/html": [
       "<div>\n",
       "<style scoped>\n",
       "    .dataframe tbody tr th:only-of-type {\n",
       "        vertical-align: middle;\n",
       "    }\n",
       "\n",
       "    .dataframe tbody tr th {\n",
       "        vertical-align: top;\n",
       "    }\n",
       "\n",
       "    .dataframe thead th {\n",
       "        text-align: right;\n",
       "    }\n",
       "</style>\n",
       "<table border=\"1\" class=\"dataframe\">\n",
       "  <thead>\n",
       "    <tr style=\"text-align: right;\">\n",
       "      <th></th>\n",
       "      <th>age</th>\n",
       "    </tr>\n",
       "  </thead>\n",
       "  <tbody>\n",
       "    <tr>\n",
       "      <th>1</th>\n",
       "      <td>25</td>\n",
       "    </tr>\n",
       "    <tr>\n",
       "      <th>20</th>\n",
       "      <td>21</td>\n",
       "    </tr>\n",
       "    <tr>\n",
       "      <th>12</th>\n",
       "      <td>27</td>\n",
       "    </tr>\n",
       "    <tr>\n",
       "      <th>14</th>\n",
       "      <td>49</td>\n",
       "    </tr>\n",
       "    <tr>\n",
       "      <th>10</th>\n",
       "      <td>18</td>\n",
       "    </tr>\n",
       "    <tr>\n",
       "      <th>24</th>\n",
       "      <td>50</td>\n",
       "    </tr>\n",
       "  </tbody>\n",
       "</table>\n",
       "</div>"
      ],
      "text/plain": [
       "    age\n",
       "1    25\n",
       "20   21\n",
       "12   27\n",
       "14   49\n",
       "10   18\n",
       "24   50"
      ]
     },
     "execution_count": 15,
     "metadata": {},
     "output_type": "execute_result"
    }
   ],
   "source": [
    "X_test"
   ]
  },
  {
   "cell_type": "code",
   "execution_count": 16,
   "id": "6881a0bf-c006-4e6b-b0c5-f2e955010e58",
   "metadata": {},
   "outputs": [
    {
     "data": {
      "text/plain": [
       "array([[0.11263357]])"
      ]
     },
     "execution_count": 16,
     "metadata": {},
     "output_type": "execute_result"
    }
   ],
   "source": [
    "model.coef_"
   ]
  },
  {
   "cell_type": "markdown",
   "id": "d9a8bb1a-e454-4e5c-b9db-5e86ea3c3aa3",
   "metadata": {},
   "source": [
    "let's defines sigmoid function"
   ]
  },
  {
   "cell_type": "code",
   "execution_count": 17,
   "id": "4e545322-13c8-4c87-98d8-1e6c0c08a367",
   "metadata": {},
   "outputs": [
    {
     "data": {
      "text/plain": [
       "array([-4.31482737])"
      ]
     },
     "execution_count": 17,
     "metadata": {},
     "output_type": "execute_result"
    }
   ],
   "source": [
    "model.intercept_"
   ]
  },
  {
   "cell_type": "code",
   "execution_count": 18,
   "id": "3d8e78ae-9557-418c-a944-66af3034c8f3",
   "metadata": {},
   "outputs": [],
   "source": [
    "import math\n",
    "def sigmoid(x):\n",
    "    return 1/(1+math.exp(-x))"
   ]
  },
  {
   "cell_type": "code",
   "execution_count": 19,
   "id": "3f9d5aa4-a9e0-4484-aee9-0e8daab5add4",
   "metadata": {},
   "outputs": [],
   "source": [
    "def prediction_function(age):\n",
    "    z=0.042*age-1.53  #0.04150133 - 0.042 and -1.527 -1.53\n",
    "    y=sigmoid(z)\n",
    "    return y"
   ]
  },
  {
   "cell_type": "code",
   "execution_count": 20,
   "id": "91efb392-0373-40b2-b809-635a3fbdc7ec",
   "metadata": {},
   "outputs": [
    {
     "data": {
      "text/plain": [
       "0.4850044983805899"
      ]
     },
     "execution_count": 20,
     "metadata": {},
     "output_type": "execute_result"
    }
   ],
   "source": [
    "age=35\n",
    "prediction_function(age)"
   ]
  },
  {
   "cell_type": "markdown",
   "id": "6a7de4bb-4ec8-4dbc-9f2f-e8c100155197",
   "metadata": {},
   "source": [
    "0.485<0.5 which means person with age 35 will not buy insurance"
   ]
  },
  {
   "cell_type": "code",
   "execution_count": 21,
   "id": "c5296a40-95f2-4022-93fd-32064a541cdf",
   "metadata": {},
   "outputs": [
    {
     "data": {
      "text/plain": [
       "0.568565299077705"
      ]
     },
     "execution_count": 21,
     "metadata": {},
     "output_type": "execute_result"
    }
   ],
   "source": [
    "age=43\n",
    "prediction_function(age)"
   ]
  },
  {
   "cell_type": "markdown",
   "id": "fe03c0a2-f158-48b3-b9fd-86ee2f6cd4f3",
   "metadata": {},
   "source": [
    "0.5685>0.5 which means person with age 43 will buy insurance"
   ]
  },
  {
   "cell_type": "markdown",
   "id": "2108ddf0-5668-4f39-b97b-6d18bf5dac1a",
   "metadata": {},
   "source": [
    "# 22/01/2025"
   ]
  },
  {
   "cell_type": "code",
   "execution_count": 22,
   "id": "39ca045a-7153-4966-b9b2-531e2192db1e",
   "metadata": {},
   "outputs": [],
   "source": [
    "#column with continous value==>mean imputation\n",
    "#column with Discrete/catogorical value==>mode imputation\n"
   ]
  },
  {
   "cell_type": "code",
   "execution_count": 23,
   "id": "07d77c4f-5f1f-453c-8b0d-4e8677a06848",
   "metadata": {},
   "outputs": [],
   "source": [
    "import pandas as pd\n",
    "import numpy as np\n",
    "import matplotlib.pyplot as plt\n",
    "import statsmodels.formula.api as sm\n",
    "from sklearn import metrics\n",
    "from sklearn.metrics import roc_curve,auc\n",
    "from sklearn.metrics import classification_report\n",
    "from sklearn.model_selection import train_test_split"
   ]
  },
  {
   "cell_type": "code",
   "execution_count": 24,
   "id": "882b88e2-d15a-4b64-a4e7-f03dcc07cef7",
   "metadata": {},
   "outputs": [],
   "source": [
    "claimants=pd.read_csv(\"claimants.csv\")"
   ]
  },
  {
   "cell_type": "code",
   "execution_count": 25,
   "id": "a24fbfe0-f26a-43d0-94d2-8408e42a533d",
   "metadata": {},
   "outputs": [
    {
     "data": {
      "text/html": [
       "<div>\n",
       "<style scoped>\n",
       "    .dataframe tbody tr th:only-of-type {\n",
       "        vertical-align: middle;\n",
       "    }\n",
       "\n",
       "    .dataframe tbody tr th {\n",
       "        vertical-align: top;\n",
       "    }\n",
       "\n",
       "    .dataframe thead th {\n",
       "        text-align: right;\n",
       "    }\n",
       "</style>\n",
       "<table border=\"1\" class=\"dataframe\">\n",
       "  <thead>\n",
       "    <tr style=\"text-align: right;\">\n",
       "      <th></th>\n",
       "      <th>CASENUM</th>\n",
       "      <th>ATTORNEY</th>\n",
       "      <th>CLMSEX</th>\n",
       "      <th>CLMINSUR</th>\n",
       "      <th>SEATBELT</th>\n",
       "      <th>CLMAGE</th>\n",
       "      <th>LOSS</th>\n",
       "    </tr>\n",
       "  </thead>\n",
       "  <tbody>\n",
       "    <tr>\n",
       "      <th>0</th>\n",
       "      <td>5</td>\n",
       "      <td>0</td>\n",
       "      <td>0.0</td>\n",
       "      <td>1.0</td>\n",
       "      <td>0.0</td>\n",
       "      <td>50.0</td>\n",
       "      <td>34.940</td>\n",
       "    </tr>\n",
       "    <tr>\n",
       "      <th>1</th>\n",
       "      <td>3</td>\n",
       "      <td>1</td>\n",
       "      <td>1.0</td>\n",
       "      <td>0.0</td>\n",
       "      <td>0.0</td>\n",
       "      <td>18.0</td>\n",
       "      <td>0.891</td>\n",
       "    </tr>\n",
       "    <tr>\n",
       "      <th>2</th>\n",
       "      <td>66</td>\n",
       "      <td>1</td>\n",
       "      <td>0.0</td>\n",
       "      <td>1.0</td>\n",
       "      <td>0.0</td>\n",
       "      <td>5.0</td>\n",
       "      <td>0.330</td>\n",
       "    </tr>\n",
       "    <tr>\n",
       "      <th>3</th>\n",
       "      <td>70</td>\n",
       "      <td>0</td>\n",
       "      <td>0.0</td>\n",
       "      <td>1.0</td>\n",
       "      <td>1.0</td>\n",
       "      <td>31.0</td>\n",
       "      <td>0.037</td>\n",
       "    </tr>\n",
       "    <tr>\n",
       "      <th>4</th>\n",
       "      <td>96</td>\n",
       "      <td>1</td>\n",
       "      <td>0.0</td>\n",
       "      <td>1.0</td>\n",
       "      <td>0.0</td>\n",
       "      <td>30.0</td>\n",
       "      <td>0.038</td>\n",
       "    </tr>\n",
       "  </tbody>\n",
       "</table>\n",
       "</div>"
      ],
      "text/plain": [
       "   CASENUM  ATTORNEY  CLMSEX  CLMINSUR  SEATBELT  CLMAGE    LOSS\n",
       "0        5         0     0.0       1.0       0.0    50.0  34.940\n",
       "1        3         1     1.0       0.0       0.0    18.0   0.891\n",
       "2       66         1     0.0       1.0       0.0     5.0   0.330\n",
       "3       70         0     0.0       1.0       1.0    31.0   0.037\n",
       "4       96         1     0.0       1.0       0.0    30.0   0.038"
      ]
     },
     "execution_count": 25,
     "metadata": {},
     "output_type": "execute_result"
    }
   ],
   "source": [
    "claimants.head()"
   ]
  },
  {
   "cell_type": "code",
   "execution_count": 26,
   "id": "11e7dd84-fcd4-4266-920b-cc34f33e0873",
   "metadata": {},
   "outputs": [],
   "source": [
    "#THe 0th column is CASENUM which is not useful, hence drop thecolumn 0"
   ]
  },
  {
   "cell_type": "code",
   "execution_count": 27,
   "id": "8254009e-17c2-4bbe-a9f2-c25ee8b361b0",
   "metadata": {},
   "outputs": [],
   "source": [
    "c1=claimants.drop('CASENUM',axis=1)"
   ]
  },
  {
   "cell_type": "code",
   "execution_count": 28,
   "id": "fa0460a3-85b6-4dd7-ba67-dd7434319b25",
   "metadata": {},
   "outputs": [
    {
     "data": {
      "text/html": [
       "<div>\n",
       "<style scoped>\n",
       "    .dataframe tbody tr th:only-of-type {\n",
       "        vertical-align: middle;\n",
       "    }\n",
       "\n",
       "    .dataframe tbody tr th {\n",
       "        vertical-align: top;\n",
       "    }\n",
       "\n",
       "    .dataframe thead th {\n",
       "        text-align: right;\n",
       "    }\n",
       "</style>\n",
       "<table border=\"1\" class=\"dataframe\">\n",
       "  <thead>\n",
       "    <tr style=\"text-align: right;\">\n",
       "      <th></th>\n",
       "      <th>ATTORNEY</th>\n",
       "      <th>CLMSEX</th>\n",
       "      <th>CLMINSUR</th>\n",
       "      <th>SEATBELT</th>\n",
       "      <th>CLMAGE</th>\n",
       "      <th>LOSS</th>\n",
       "    </tr>\n",
       "  </thead>\n",
       "  <tbody>\n",
       "    <tr>\n",
       "      <th>0</th>\n",
       "      <td>0</td>\n",
       "      <td>0.0</td>\n",
       "      <td>1.0</td>\n",
       "      <td>0.0</td>\n",
       "      <td>50.0</td>\n",
       "      <td>34.940</td>\n",
       "    </tr>\n",
       "    <tr>\n",
       "      <th>1</th>\n",
       "      <td>1</td>\n",
       "      <td>1.0</td>\n",
       "      <td>0.0</td>\n",
       "      <td>0.0</td>\n",
       "      <td>18.0</td>\n",
       "      <td>0.891</td>\n",
       "    </tr>\n",
       "    <tr>\n",
       "      <th>2</th>\n",
       "      <td>1</td>\n",
       "      <td>0.0</td>\n",
       "      <td>1.0</td>\n",
       "      <td>0.0</td>\n",
       "      <td>5.0</td>\n",
       "      <td>0.330</td>\n",
       "    </tr>\n",
       "    <tr>\n",
       "      <th>3</th>\n",
       "      <td>0</td>\n",
       "      <td>0.0</td>\n",
       "      <td>1.0</td>\n",
       "      <td>1.0</td>\n",
       "      <td>31.0</td>\n",
       "      <td>0.037</td>\n",
       "    </tr>\n",
       "    <tr>\n",
       "      <th>4</th>\n",
       "      <td>1</td>\n",
       "      <td>0.0</td>\n",
       "      <td>1.0</td>\n",
       "      <td>0.0</td>\n",
       "      <td>30.0</td>\n",
       "      <td>0.038</td>\n",
       "    </tr>\n",
       "  </tbody>\n",
       "</table>\n",
       "</div>"
      ],
      "text/plain": [
       "   ATTORNEY  CLMSEX  CLMINSUR  SEATBELT  CLMAGE    LOSS\n",
       "0         0     0.0       1.0       0.0    50.0  34.940\n",
       "1         1     1.0       0.0       0.0    18.0   0.891\n",
       "2         1     0.0       1.0       0.0     5.0   0.330\n",
       "3         0     0.0       1.0       1.0    31.0   0.037\n",
       "4         1     0.0       1.0       0.0    30.0   0.038"
      ]
     },
     "execution_count": 28,
     "metadata": {},
     "output_type": "execute_result"
    }
   ],
   "source": [
    "c1.head()"
   ]
  },
  {
   "cell_type": "code",
   "execution_count": 29,
   "id": "d0228282-b53e-4139-bae0-f1898047c283",
   "metadata": {},
   "outputs": [
    {
     "data": {
      "text/html": [
       "<div>\n",
       "<style scoped>\n",
       "    .dataframe tbody tr th:only-of-type {\n",
       "        vertical-align: middle;\n",
       "    }\n",
       "\n",
       "    .dataframe tbody tr th {\n",
       "        vertical-align: top;\n",
       "    }\n",
       "\n",
       "    .dataframe thead th {\n",
       "        text-align: right;\n",
       "    }\n",
       "</style>\n",
       "<table border=\"1\" class=\"dataframe\">\n",
       "  <thead>\n",
       "    <tr style=\"text-align: right;\">\n",
       "      <th></th>\n",
       "      <th>ATTORNEY</th>\n",
       "      <th>CLMSEX</th>\n",
       "      <th>CLMINSUR</th>\n",
       "      <th>SEATBELT</th>\n",
       "      <th>CLMAGE</th>\n",
       "      <th>LOSS</th>\n",
       "    </tr>\n",
       "  </thead>\n",
       "  <tbody>\n",
       "    <tr>\n",
       "      <th>count</th>\n",
       "      <td>1340.000000</td>\n",
       "      <td>1328.000000</td>\n",
       "      <td>1299.000000</td>\n",
       "      <td>1292.000000</td>\n",
       "      <td>1151.000000</td>\n",
       "      <td>1340.000000</td>\n",
       "    </tr>\n",
       "    <tr>\n",
       "      <th>mean</th>\n",
       "      <td>0.488806</td>\n",
       "      <td>0.558735</td>\n",
       "      <td>0.907621</td>\n",
       "      <td>0.017028</td>\n",
       "      <td>28.414422</td>\n",
       "      <td>3.806307</td>\n",
       "    </tr>\n",
       "    <tr>\n",
       "      <th>std</th>\n",
       "      <td>0.500061</td>\n",
       "      <td>0.496725</td>\n",
       "      <td>0.289671</td>\n",
       "      <td>0.129425</td>\n",
       "      <td>20.304451</td>\n",
       "      <td>10.636903</td>\n",
       "    </tr>\n",
       "    <tr>\n",
       "      <th>min</th>\n",
       "      <td>0.000000</td>\n",
       "      <td>0.000000</td>\n",
       "      <td>0.000000</td>\n",
       "      <td>0.000000</td>\n",
       "      <td>0.000000</td>\n",
       "      <td>0.000000</td>\n",
       "    </tr>\n",
       "    <tr>\n",
       "      <th>25%</th>\n",
       "      <td>0.000000</td>\n",
       "      <td>0.000000</td>\n",
       "      <td>1.000000</td>\n",
       "      <td>0.000000</td>\n",
       "      <td>9.000000</td>\n",
       "      <td>0.400000</td>\n",
       "    </tr>\n",
       "    <tr>\n",
       "      <th>50%</th>\n",
       "      <td>0.000000</td>\n",
       "      <td>1.000000</td>\n",
       "      <td>1.000000</td>\n",
       "      <td>0.000000</td>\n",
       "      <td>30.000000</td>\n",
       "      <td>1.069500</td>\n",
       "    </tr>\n",
       "    <tr>\n",
       "      <th>75%</th>\n",
       "      <td>1.000000</td>\n",
       "      <td>1.000000</td>\n",
       "      <td>1.000000</td>\n",
       "      <td>0.000000</td>\n",
       "      <td>43.000000</td>\n",
       "      <td>3.781500</td>\n",
       "    </tr>\n",
       "    <tr>\n",
       "      <th>max</th>\n",
       "      <td>1.000000</td>\n",
       "      <td>1.000000</td>\n",
       "      <td>1.000000</td>\n",
       "      <td>1.000000</td>\n",
       "      <td>95.000000</td>\n",
       "      <td>173.604000</td>\n",
       "    </tr>\n",
       "  </tbody>\n",
       "</table>\n",
       "</div>"
      ],
      "text/plain": [
       "          ATTORNEY       CLMSEX     CLMINSUR     SEATBELT       CLMAGE  \\\n",
       "count  1340.000000  1328.000000  1299.000000  1292.000000  1151.000000   \n",
       "mean      0.488806     0.558735     0.907621     0.017028    28.414422   \n",
       "std       0.500061     0.496725     0.289671     0.129425    20.304451   \n",
       "min       0.000000     0.000000     0.000000     0.000000     0.000000   \n",
       "25%       0.000000     0.000000     1.000000     0.000000     9.000000   \n",
       "50%       0.000000     1.000000     1.000000     0.000000    30.000000   \n",
       "75%       1.000000     1.000000     1.000000     0.000000    43.000000   \n",
       "max       1.000000     1.000000     1.000000     1.000000    95.000000   \n",
       "\n",
       "              LOSS  \n",
       "count  1340.000000  \n",
       "mean      3.806307  \n",
       "std      10.636903  \n",
       "min       0.000000  \n",
       "25%       0.400000  \n",
       "50%       1.069500  \n",
       "75%       3.781500  \n",
       "max     173.604000  "
      ]
     },
     "execution_count": 29,
     "metadata": {},
     "output_type": "execute_result"
    }
   ],
   "source": [
    "c1.describe()"
   ]
  },
  {
   "cell_type": "code",
   "execution_count": 30,
   "id": "a9b9d45e-036f-47b9-9314-0e6ef46e694e",
   "metadata": {},
   "outputs": [],
   "source": [
    "#Let us check the null values"
   ]
  },
  {
   "cell_type": "code",
   "execution_count": 31,
   "id": "cd1ffd15-55c4-42f8-b2e4-c24974acce8a",
   "metadata": {},
   "outputs": [
    {
     "data": {
      "text/plain": [
       "ATTORNEY      0\n",
       "CLMSEX       12\n",
       "CLMINSUR     41\n",
       "SEATBELT     48\n",
       "CLMAGE      189\n",
       "LOSS          0\n",
       "dtype: int64"
      ]
     },
     "execution_count": 31,
     "metadata": {},
     "output_type": "execute_result"
    }
   ],
   "source": [
    "c1.isna().sum()"
   ]
  },
  {
   "cell_type": "code",
   "execution_count": 32,
   "id": "31cd1956-22aa-42af-a844-a8d7315a7a18",
   "metadata": {},
   "outputs": [],
   "source": [
    "#There are several null values around 290"
   ]
  },
  {
   "cell_type": "code",
   "execution_count": 33,
   "id": "85d7f6ef-a08c-470c-8f62-df41c226ef9d",
   "metadata": {},
   "outputs": [],
   "source": [
    "#Let us use mean imputaion for continous data and mode imputation"
   ]
  },
  {
   "cell_type": "code",
   "execution_count": 34,
   "id": "80b6d39c-d01f-450b-b838-75dfeb991a07",
   "metadata": {},
   "outputs": [],
   "source": [
    "mean_value=c1.CLMAGE.mean()"
   ]
  },
  {
   "cell_type": "code",
   "execution_count": 35,
   "id": "6b86e796-f4b0-4d78-b19e-9c54939587f3",
   "metadata": {},
   "outputs": [
    {
     "data": {
      "text/plain": [
       "28.414422241529106"
      ]
     },
     "execution_count": 35,
     "metadata": {},
     "output_type": "execute_result"
    }
   ],
   "source": [
    "mean_value"
   ]
  },
  {
   "cell_type": "code",
   "execution_count": 36,
   "id": "15c75e8b-ff19-47e4-9e1d-f830397ca1ee",
   "metadata": {},
   "outputs": [],
   "source": [
    "#mean_value=c1.CLMSEX.mode()"
   ]
  },
  {
   "cell_type": "code",
   "execution_count": 37,
   "id": "961be462-0d4d-4b75-9a5f-2cfd6706f18c",
   "metadata": {},
   "outputs": [],
   "source": [
    "#mean_value"
   ]
  },
  {
   "cell_type": "code",
   "execution_count": 38,
   "id": "84cfeee2-374b-4d10-ab86-e3ecdcddda1e",
   "metadata": {},
   "outputs": [],
   "source": [
    "c1.CLMAGE =c1.CLMAGE.fillna(mean_value)"
   ]
  },
  {
   "cell_type": "code",
   "execution_count": 39,
   "id": "220a6ac1-a963-46cb-967e-e2db4dc3b3d1",
   "metadata": {},
   "outputs": [
    {
     "data": {
      "text/plain": [
       "0"
      ]
     },
     "execution_count": 39,
     "metadata": {},
     "output_type": "execute_result"
    }
   ],
   "source": [
    "c1.CLMAGE.isna().sum()"
   ]
  },
  {
   "cell_type": "code",
   "execution_count": 40,
   "id": "96590665-a6a2-426a-98fe-1df6894812eb",
   "metadata": {},
   "outputs": [],
   "source": [
    "###\n",
    "#for discrete value like CLMSEX we neew to use mode imputation"
   ]
  },
  {
   "cell_type": "code",
   "execution_count": 41,
   "id": "ea2e437a-fbcc-466e-a516-cb70a6f4c375",
   "metadata": {},
   "outputs": [],
   "source": [
    "mode_CLMSEX=c1.CLMSEX.mode()"
   ]
  },
  {
   "cell_type": "code",
   "execution_count": 42,
   "id": "5e254328-ecc5-4cf0-8211-87de1d0a5d18",
   "metadata": {},
   "outputs": [
    {
     "data": {
      "text/plain": [
       "0    1.0\n",
       "Name: CLMSEX, dtype: float64"
      ]
     },
     "execution_count": 42,
     "metadata": {},
     "output_type": "execute_result"
    }
   ],
   "source": [
    "mode_CLMSEX"
   ]
  },
  {
   "cell_type": "code",
   "execution_count": 43,
   "id": "ef6156bb-9f89-4570-9052-135282b89e9f",
   "metadata": {},
   "outputs": [],
   "source": [
    "#HERE if you will observe the outputs it is 0 1 i.e\n",
    "#mode_CLMSEX[0]=0,mode_CLMSEX[1]=1,WE are passing mode_CLMSEX[0]"
   ]
  },
  {
   "cell_type": "code",
   "execution_count": 44,
   "id": "3987cd0c-ce58-48e1-854b-79b4fd6dca0e",
   "metadata": {},
   "outputs": [],
   "source": [
    "c1.CLMSEX=c1.CLMSEX.fillna((mode_CLMSEX)[0])"
   ]
  },
  {
   "cell_type": "code",
   "execution_count": 45,
   "id": "ef26a781-8b14-4df0-aa64-f9ff2292e507",
   "metadata": {},
   "outputs": [
    {
     "data": {
      "text/plain": [
       "0"
      ]
     },
     "execution_count": 45,
     "metadata": {},
     "output_type": "execute_result"
    }
   ],
   "source": [
    "c1.CLMSEX.isna().sum()"
   ]
  },
  {
   "cell_type": "code",
   "execution_count": 46,
   "id": "fc9b4b5d-4b62-4bd3-ab0d-3a98487fb43e",
   "metadata": {},
   "outputs": [],
   "source": [
    "#CLMINSUR"
   ]
  },
  {
   "cell_type": "code",
   "execution_count": 47,
   "id": "09392626-7d07-44e6-8716-99099a8fa1c9",
   "metadata": {},
   "outputs": [],
   "source": [
    "mode_INSUR=c1['CLMINSUR'].mode()"
   ]
  },
  {
   "cell_type": "code",
   "execution_count": 48,
   "id": "8c434132-b415-402c-9ce1-189f5489f0e6",
   "metadata": {},
   "outputs": [
    {
     "data": {
      "text/plain": [
       "0    1.0\n",
       "Name: CLMINSUR, dtype: float64"
      ]
     },
     "execution_count": 48,
     "metadata": {},
     "output_type": "execute_result"
    }
   ],
   "source": [
    "mode_INSUR"
   ]
  },
  {
   "cell_type": "code",
   "execution_count": 49,
   "id": "162944ad-eb25-42fb-9c27-0e6dfae582ae",
   "metadata": {},
   "outputs": [],
   "source": [
    "c1.CLMINSUR=c1.CLMINSUR.fillna((mode_INSUR)[0])\n"
   ]
  },
  {
   "cell_type": "code",
   "execution_count": 50,
   "id": "4abac727-221b-4391-a3ed-3f47971ec472",
   "metadata": {},
   "outputs": [
    {
     "data": {
      "text/plain": [
       "0"
      ]
     },
     "execution_count": 50,
     "metadata": {},
     "output_type": "execute_result"
    }
   ],
   "source": [
    "c1.CLMINSUR.isna().sum()\n"
   ]
  },
  {
   "cell_type": "code",
   "execution_count": 51,
   "id": "923f848a-e829-4951-95c4-feb465809d4e",
   "metadata": {},
   "outputs": [],
   "source": [
    "#Seat belt"
   ]
  },
  {
   "cell_type": "code",
   "execution_count": 52,
   "id": "3b43a70b-55ea-40b6-b527-02779cd48cbb",
   "metadata": {},
   "outputs": [],
   "source": [
    "mode_SB=c1['SEATBELT'].mode()\n"
   ]
  },
  {
   "cell_type": "code",
   "execution_count": 53,
   "id": "a5000340-954c-4d5a-840a-0aa1a31319e2",
   "metadata": {},
   "outputs": [
    {
     "data": {
      "text/plain": [
       "0    0.0\n",
       "Name: SEATBELT, dtype: float64"
      ]
     },
     "execution_count": 53,
     "metadata": {},
     "output_type": "execute_result"
    }
   ],
   "source": [
    "mode_SB"
   ]
  },
  {
   "cell_type": "code",
   "execution_count": 54,
   "id": "031e4aa8-b658-4482-8f4e-cd11b4d7760e",
   "metadata": {},
   "outputs": [],
   "source": [
    "c1.SEATBELT=c1.SEATBELT.fillna((mode_SB)[0])\n"
   ]
  },
  {
   "cell_type": "code",
   "execution_count": 55,
   "id": "fdf6cd8d-82f0-44bb-96e3-e2eed0f551ff",
   "metadata": {},
   "outputs": [
    {
     "data": {
      "text/plain": [
       "0"
      ]
     },
     "execution_count": 55,
     "metadata": {},
     "output_type": "execute_result"
    }
   ],
   "source": [
    "c1.SEATBELT.isna().sum()\n"
   ]
  },
  {
   "cell_type": "markdown",
   "id": "612176f6-39a9-4410-9302-7e9503f3d3a2",
   "metadata": {},
   "source": [
    "# #23/01/2025 #"
   ]
  },
  {
   "cell_type": "code",
   "execution_count": 56,
   "id": "94e9107d-f401-42ba-9d8d-c33fb7ca422a",
   "metadata": {},
   "outputs": [],
   "source": [
    "#Model building"
   ]
  },
  {
   "cell_type": "code",
   "execution_count": 57,
   "id": "04949262-afb9-4ce1-80fe-88ec71801a47",
   "metadata": {},
   "outputs": [
    {
     "name": "stdout",
     "output_type": "stream",
     "text": [
      "Optimization terminated successfully.\n",
      "         Current function value: 0.609131\n",
      "         Iterations 7\n"
     ]
    }
   ],
   "source": [
    "logit_model=sm.logit('ATTORNEY~CLMAGE+LOSS+CLMINSUR+CLMSEX+SEATBELT',data=c1).fit()"
   ]
  },
  {
   "cell_type": "code",
   "execution_count": 58,
   "id": "a9a90b5d-2f21-4546-84e4-5e17b226d466",
   "metadata": {},
   "outputs": [
    {
     "data": {
      "text/html": [
       "<table class=\"simpletable\">\n",
       "<caption>Logit Regression Results</caption>\n",
       "<tr>\n",
       "  <th>Dep. Variable:</th>       <td>ATTORNEY</td>     <th>  No. Observations:  </th>  <td>  1340</td>  \n",
       "</tr>\n",
       "<tr>\n",
       "  <th>Model:</th>                 <td>Logit</td>      <th>  Df Residuals:      </th>  <td>  1334</td>  \n",
       "</tr>\n",
       "<tr>\n",
       "  <th>Method:</th>                 <td>MLE</td>       <th>  Df Model:          </th>  <td>     5</td>  \n",
       "</tr>\n",
       "<tr>\n",
       "  <th>Date:</th>            <td>Thu, 23 Jan 2025</td> <th>  Pseudo R-squ.:     </th>  <td>0.1209</td>  \n",
       "</tr>\n",
       "<tr>\n",
       "  <th>Time:</th>                <td>15:14:04</td>     <th>  Log-Likelihood:    </th> <td> -816.24</td> \n",
       "</tr>\n",
       "<tr>\n",
       "  <th>converged:</th>             <td>True</td>       <th>  LL-Null:           </th> <td> -928.48</td> \n",
       "</tr>\n",
       "<tr>\n",
       "  <th>Covariance Type:</th>     <td>nonrobust</td>    <th>  LLR p-value:       </th> <td>1.620e-46</td>\n",
       "</tr>\n",
       "</table>\n",
       "<table class=\"simpletable\">\n",
       "<tr>\n",
       "      <td></td>         <th>coef</th>     <th>std err</th>      <th>z</th>      <th>P>|z|</th>  <th>[0.025</th>    <th>0.975]</th>  \n",
       "</tr>\n",
       "<tr>\n",
       "  <th>Intercept</th> <td>   -0.1493</td> <td>    0.226</td> <td>   -0.660</td> <td> 0.509</td> <td>   -0.592</td> <td>    0.294</td>\n",
       "</tr>\n",
       "<tr>\n",
       "  <th>CLMAGE</th>    <td>    0.0066</td> <td>    0.003</td> <td>    2.058</td> <td> 0.040</td> <td>    0.000</td> <td>    0.013</td>\n",
       "</tr>\n",
       "<tr>\n",
       "  <th>LOSS</th>      <td>   -0.3228</td> <td>    0.029</td> <td>  -10.962</td> <td> 0.000</td> <td>   -0.381</td> <td>   -0.265</td>\n",
       "</tr>\n",
       "<tr>\n",
       "  <th>CLMINSUR</th>  <td>    0.5284</td> <td>    0.210</td> <td>    2.516</td> <td> 0.012</td> <td>    0.117</td> <td>    0.940</td>\n",
       "</tr>\n",
       "<tr>\n",
       "  <th>CLMSEX</th>    <td>    0.3204</td> <td>    0.120</td> <td>    2.674</td> <td> 0.008</td> <td>    0.086</td> <td>    0.555</td>\n",
       "</tr>\n",
       "<tr>\n",
       "  <th>SEATBELT</th>  <td>   -0.6718</td> <td>    0.522</td> <td>   -1.286</td> <td> 0.198</td> <td>   -1.696</td> <td>    0.352</td>\n",
       "</tr>\n",
       "</table>"
      ],
      "text/latex": [
       "\\begin{center}\n",
       "\\begin{tabular}{lclc}\n",
       "\\toprule\n",
       "\\textbf{Dep. Variable:}   &     ATTORNEY     & \\textbf{  No. Observations:  } &     1340    \\\\\n",
       "\\textbf{Model:}           &      Logit       & \\textbf{  Df Residuals:      } &     1334    \\\\\n",
       "\\textbf{Method:}          &       MLE        & \\textbf{  Df Model:          } &        5    \\\\\n",
       "\\textbf{Date:}            & Thu, 23 Jan 2025 & \\textbf{  Pseudo R-squ.:     } &   0.1209    \\\\\n",
       "\\textbf{Time:}            &     15:14:04     & \\textbf{  Log-Likelihood:    } &   -816.24   \\\\\n",
       "\\textbf{converged:}       &       True       & \\textbf{  LL-Null:           } &   -928.48   \\\\\n",
       "\\textbf{Covariance Type:} &    nonrobust     & \\textbf{  LLR p-value:       } & 1.620e-46   \\\\\n",
       "\\bottomrule\n",
       "\\end{tabular}\n",
       "\\begin{tabular}{lcccccc}\n",
       "                   & \\textbf{coef} & \\textbf{std err} & \\textbf{z} & \\textbf{P$> |$z$|$} & \\textbf{[0.025} & \\textbf{0.975]}  \\\\\n",
       "\\midrule\n",
       "\\textbf{Intercept} &      -0.1493  &        0.226     &    -0.660  &         0.509        &       -0.592    &        0.294     \\\\\n",
       "\\textbf{CLMAGE}    &       0.0066  &        0.003     &     2.058  &         0.040        &        0.000    &        0.013     \\\\\n",
       "\\textbf{LOSS}      &      -0.3228  &        0.029     &   -10.962  &         0.000        &       -0.381    &       -0.265     \\\\\n",
       "\\textbf{CLMINSUR}  &       0.5284  &        0.210     &     2.516  &         0.012        &        0.117    &        0.940     \\\\\n",
       "\\textbf{CLMSEX}    &       0.3204  &        0.120     &     2.674  &         0.008        &        0.086    &        0.555     \\\\\n",
       "\\textbf{SEATBELT}  &      -0.6718  &        0.522     &    -1.286  &         0.198        &       -1.696    &        0.352     \\\\\n",
       "\\bottomrule\n",
       "\\end{tabular}\n",
       "%\\caption{Logit Regression Results}\n",
       "\\end{center}"
      ],
      "text/plain": [
       "<class 'statsmodels.iolib.summary.Summary'>\n",
       "\"\"\"\n",
       "                           Logit Regression Results                           \n",
       "==============================================================================\n",
       "Dep. Variable:               ATTORNEY   No. Observations:                 1340\n",
       "Model:                          Logit   Df Residuals:                     1334\n",
       "Method:                           MLE   Df Model:                            5\n",
       "Date:                Thu, 23 Jan 2025   Pseudo R-squ.:                  0.1209\n",
       "Time:                        15:14:04   Log-Likelihood:                -816.24\n",
       "converged:                       True   LL-Null:                       -928.48\n",
       "Covariance Type:            nonrobust   LLR p-value:                 1.620e-46\n",
       "==============================================================================\n",
       "                 coef    std err          z      P>|z|      [0.025      0.975]\n",
       "------------------------------------------------------------------------------\n",
       "Intercept     -0.1493      0.226     -0.660      0.509      -0.592       0.294\n",
       "CLMAGE         0.0066      0.003      2.058      0.040       0.000       0.013\n",
       "LOSS          -0.3228      0.029    -10.962      0.000      -0.381      -0.265\n",
       "CLMINSUR       0.5284      0.210      2.516      0.012       0.117       0.940\n",
       "CLMSEX         0.3204      0.120      2.674      0.008       0.086       0.555\n",
       "SEATBELT      -0.6718      0.522     -1.286      0.198      -1.696       0.352\n",
       "==============================================================================\n",
       "\"\"\""
      ]
     },
     "execution_count": 58,
     "metadata": {},
     "output_type": "execute_result"
    }
   ],
   "source": [
    "logit_model.summary()\n",
    "#coefficient"
   ]
  },
  {
   "cell_type": "code",
   "execution_count": 59,
   "id": "6b4271de-d1f9-407e-8911-9f3da9332aed",
   "metadata": {},
   "outputs": [
    {
     "data": {
      "text/html": [
       "<table class=\"simpletable\">\n",
       "<tr>\n",
       "        <td>Model:</td>              <td>Logit</td>           <td>Method:</td>          <td>MLE</td>   \n",
       "</tr>\n",
       "<tr>\n",
       "  <td>Dependent Variable:</td>     <td>ATTORNEY</td>     <td>Pseudo R-squared:</td>    <td>0.121</td>  \n",
       "</tr>\n",
       "<tr>\n",
       "         <td>Date:</td>        <td>2025-01-23 15:14</td>       <td>AIC:</td>         <td>1644.4709</td>\n",
       "</tr>\n",
       "<tr>\n",
       "   <td>No. Observations:</td>        <td>1340</td>             <td>BIC:</td>         <td>1675.6734</td>\n",
       "</tr>\n",
       "<tr>\n",
       "       <td>Df Model:</td>              <td>5</td>         <td>Log-Likelihood:</td>    <td>-816.24</td> \n",
       "</tr>\n",
       "<tr>\n",
       "     <td>Df Residuals:</td>          <td>1334</td>           <td>LL-Null:</td>        <td>-928.48</td> \n",
       "</tr>\n",
       "<tr>\n",
       "      <td>Converged:</td>           <td>1.0000</td>        <td>LLR p-value:</td>    <td>1.6204e-46</td>\n",
       "</tr>\n",
       "<tr>\n",
       "    <td>No. Iterations:</td>        <td>7.0000</td>           <td>Scale:</td>         <td>1.0000</td>  \n",
       "</tr>\n",
       "</table>\n",
       "<table class=\"simpletable\">\n",
       "<tr>\n",
       "      <td></td>       <th>Coef.</th>  <th>Std.Err.</th>     <th>z</th>     <th>P>|z|</th> <th>[0.025</th>  <th>0.975]</th> \n",
       "</tr>\n",
       "<tr>\n",
       "  <th>Intercept</th> <td>-0.1493</td>  <td>0.2260</td>   <td>-0.6604</td> <td>0.5090</td> <td>-0.5922</td> <td>0.2937</td> \n",
       "</tr>\n",
       "<tr>\n",
       "  <th>CLMAGE</th>    <td>0.0066</td>   <td>0.0032</td>   <td>2.0583</td>  <td>0.0396</td> <td>0.0003</td>  <td>0.0128</td> \n",
       "</tr>\n",
       "<tr>\n",
       "  <th>LOSS</th>      <td>-0.3228</td>  <td>0.0294</td>  <td>-10.9615</td> <td>0.0000</td> <td>-0.3805</td> <td>-0.2651</td>\n",
       "</tr>\n",
       "<tr>\n",
       "  <th>CLMINSUR</th>  <td>0.5284</td>   <td>0.2100</td>   <td>2.5159</td>  <td>0.0119</td> <td>0.1168</td>  <td>0.9400</td> \n",
       "</tr>\n",
       "<tr>\n",
       "  <th>CLMSEX</th>    <td>0.3204</td>   <td>0.1198</td>   <td>2.6736</td>  <td>0.0075</td> <td>0.0855</td>  <td>0.5552</td> \n",
       "</tr>\n",
       "<tr>\n",
       "  <th>SEATBELT</th>  <td>-0.6718</td>  <td>0.5224</td>   <td>-1.2860</td> <td>0.1984</td> <td>-1.6958</td> <td>0.3521</td> \n",
       "</tr>\n",
       "</table><br/>\n"
      ],
      "text/latex": [
       "\\begin{table}\n",
       "\\caption{Results: Logit}\n",
       "\\label{}\n",
       "\\begin{center}\n",
       "\\begin{tabular}{llll}\n",
       "\\hline\n",
       "Model:              & Logit            & Method:           & MLE         \\\\\n",
       "Dependent Variable: & ATTORNEY         & Pseudo R-squared: & 0.121       \\\\\n",
       "Date:               & 2025-01-23 15:14 & AIC:              & 1644.4709   \\\\\n",
       "No. Observations:   & 1340             & BIC:              & 1675.6734   \\\\\n",
       "Df Model:           & 5                & Log-Likelihood:   & -816.24     \\\\\n",
       "Df Residuals:       & 1334             & LL-Null:          & -928.48     \\\\\n",
       "Converged:          & 1.0000           & LLR p-value:      & 1.6204e-46  \\\\\n",
       "No. Iterations:     & 7.0000           & Scale:            & 1.0000      \\\\\n",
       "\\hline\n",
       "\\end{tabular}\n",
       "\\end{center}\n",
       "\n",
       "\\begin{center}\n",
       "\\begin{tabular}{lrrrrrr}\n",
       "\\hline\n",
       "          &   Coef. & Std.Err. &        z & P$> |$z$|$ &  [0.025 &  0.975]  \\\\\n",
       "\\hline\n",
       "Intercept & -0.1493 &   0.2260 &  -0.6604 &      0.5090 & -0.5922 &  0.2937  \\\\\n",
       "CLMAGE    &  0.0066 &   0.0032 &   2.0583 &      0.0396 &  0.0003 &  0.0128  \\\\\n",
       "LOSS      & -0.3228 &   0.0294 & -10.9615 &      0.0000 & -0.3805 & -0.2651  \\\\\n",
       "CLMINSUR  &  0.5284 &   0.2100 &   2.5159 &      0.0119 &  0.1168 &  0.9400  \\\\\n",
       "CLMSEX    &  0.3204 &   0.1198 &   2.6736 &      0.0075 &  0.0855 &  0.5552  \\\\\n",
       "SEATBELT  & -0.6718 &   0.5224 &  -1.2860 &      0.1984 & -1.6958 &  0.3521  \\\\\n",
       "\\hline\n",
       "\\end{tabular}\n",
       "\\end{center}\n",
       "\\end{table}\n",
       "\\bigskip\n"
      ],
      "text/plain": [
       "<class 'statsmodels.iolib.summary2.Summary'>\n",
       "\"\"\"\n",
       "                         Results: Logit\n",
       "=================================================================\n",
       "Model:              Logit            Method:           MLE       \n",
       "Dependent Variable: ATTORNEY         Pseudo R-squared: 0.121     \n",
       "Date:               2025-01-23 15:14 AIC:              1644.4709 \n",
       "No. Observations:   1340             BIC:              1675.6734 \n",
       "Df Model:           5                Log-Likelihood:   -816.24   \n",
       "Df Residuals:       1334             LL-Null:          -928.48   \n",
       "Converged:          1.0000           LLR p-value:      1.6204e-46\n",
       "No. Iterations:     7.0000           Scale:            1.0000    \n",
       "------------------------------------------------------------------\n",
       "              Coef.   Std.Err.     z      P>|z|    [0.025   0.975]\n",
       "------------------------------------------------------------------\n",
       "Intercept    -0.1493    0.2260   -0.6604  0.5090  -0.5922   0.2937\n",
       "CLMAGE        0.0066    0.0032    2.0583  0.0396   0.0003   0.0128\n",
       "LOSS         -0.3228    0.0294  -10.9615  0.0000  -0.3805  -0.2651\n",
       "CLMINSUR      0.5284    0.2100    2.5159  0.0119   0.1168   0.9400\n",
       "CLMSEX        0.3204    0.1198    2.6736  0.0075   0.0855   0.5552\n",
       "SEATBELT     -0.6718    0.5224   -1.2860  0.1984  -1.6958   0.3521\n",
       "=================================================================\n",
       "\n",
       "\"\"\""
      ]
     },
     "execution_count": 59,
     "metadata": {},
     "output_type": "execute_result"
    }
   ],
   "source": [
    "logit_model.summary2()\n",
    "#lower th AIC( Akaike Information Criterion) better the model"
   ]
  },
  {
   "cell_type": "code",
   "execution_count": 60,
   "id": "a7e20ce6-42f8-48b3-8b3f-6b9a694b0aec",
   "metadata": {},
   "outputs": [],
   "source": [
    "#let us go for prediction"
   ]
  },
  {
   "cell_type": "code",
   "execution_count": 61,
   "id": "9a4d201c-7302-44cd-8f06-235380ce2329",
   "metadata": {},
   "outputs": [],
   "source": [
    "pred = logit_model.predict(c1.iloc[:,1:])"
   ]
  },
  {
   "cell_type": "code",
   "execution_count": 62,
   "id": "e5632693-c4c9-46b7-b937-b2146c0830a3",
   "metadata": {},
   "outputs": [
    {
     "data": {
      "text/plain": [
       "0       0.000026\n",
       "1       0.500422\n",
       "2       0.575767\n",
       "3       0.474743\n",
       "4       0.637341\n",
       "          ...   \n",
       "1335    0.593816\n",
       "1336    0.451543\n",
       "1337    0.715776\n",
       "1338    0.309620\n",
       "1339    0.662483\n",
       "Length: 1340, dtype: float64"
      ]
     },
     "execution_count": 62,
     "metadata": {},
     "output_type": "execute_result"
    }
   ],
   "source": [
    "pred"
   ]
  },
  {
   "cell_type": "code",
   "execution_count": 63,
   "id": "5c10007a-1700-4d04-8da9-f592f4613219",
   "metadata": {},
   "outputs": [],
   "source": [
    "#############"
   ]
  },
  {
   "cell_type": "code",
   "execution_count": 64,
   "id": "5163a0b7-4d10-423e-85de-571bb144bf10",
   "metadata": {},
   "outputs": [],
   "source": [
    "#To derive ROC curve"
   ]
  },
  {
   "cell_type": "code",
   "execution_count": 65,
   "id": "145cb021-700d-4cc3-9b48-3f923e54356d",
   "metadata": {},
   "outputs": [],
   "source": [
    "#ROC curve has tpr on y-axis and fpr on x-axis, ideally, tpr must be high and fpr must be low"
   ]
  },
  {
   "cell_type": "code",
   "execution_count": 66,
   "id": "b97ccd64-32c3-4f36-b116-f2326d864d37",
   "metadata": {},
   "outputs": [],
   "source": [
    "fpr,tpr,thresholds=roc_curve(c1.ATTORNEY,pred)"
   ]
  },
  {
   "cell_type": "code",
   "execution_count": 67,
   "id": "b5dd39e0-7f68-4605-91c5-033829727f3f",
   "metadata": {},
   "outputs": [],
   "source": [
    "#to identiyfy optimum threshold"
   ]
  },
  {
   "cell_type": "code",
   "execution_count": 68,
   "id": "7e258239-1b9b-4f07-abb4-b53cc2d7e73a",
   "metadata": {},
   "outputs": [],
   "source": [
    "optimal_idx=np.argmax(tpr-fpr)"
   ]
  },
  {
   "cell_type": "code",
   "execution_count": 69,
   "id": "50d6e030-2d2c-4ae0-bf8a-950ded76929b",
   "metadata": {},
   "outputs": [],
   "source": [
    "optimal_threshold=thresholds[optimal_idx]"
   ]
  },
  {
   "cell_type": "code",
   "execution_count": 70,
   "id": "1e302658-1a11-4bdf-be55-fe722140be12",
   "metadata": {},
   "outputs": [
    {
     "data": {
      "text/plain": [
       "0.5294418043694737"
      ]
     },
     "execution_count": 70,
     "metadata": {},
     "output_type": "execute_result"
    }
   ],
   "source": [
    "optimal_threshold"
   ]
  },
  {
   "cell_type": "code",
   "execution_count": 71,
   "id": "a0075b74-9bd0-41ac-9eed-82911b56be91",
   "metadata": {},
   "outputs": [],
   "source": [
    "#0.52944, by default you can take 0.5 value as threshold\n",
    "#now we want to identify if new value is given to the  model, it will fall in which region 0 or 1, for that we need to derive ROC curve "
   ]
  },
  {
   "cell_type": "code",
   "execution_count": 72,
   "id": "156bcd67-8c21-45b9-bd37-ddfbac4b3d1c",
   "metadata": {},
   "outputs": [],
   "source": [
    "#To draw ROC curve"
   ]
  },
  {
   "cell_type": "code",
   "execution_count": 73,
   "id": "1d05ee33-d732-48f5-8813-e7322c2c1012",
   "metadata": {},
   "outputs": [],
   "source": [
    "import pylab as pl"
   ]
  },
  {
   "cell_type": "code",
   "execution_count": 74,
   "id": "b24c7be4-1932-44dd-9402-5b4c14a203ba",
   "metadata": {},
   "outputs": [],
   "source": [
    "i=np.arange(len(tpr))\n",
    "roc = pd.DataFrame({\n",
    "    'fpr':pd.Series(fpr,index=i),\n",
    "    'tpr':pd.Series(tpr,index=i),\n",
    "    '1-fpr':pd.Series(1-fpr,index=i),\n",
    "    'tf':pd.Series(tpr-(1-fpr),index=i),\n",
    "    'threshold':pd.Series(thresholds,index=i)\n",
    "})"
   ]
  },
  {
   "cell_type": "code",
   "execution_count": 75,
   "id": "65fb5b76-9aea-4e32-8b69-68b876e48ec7",
   "metadata": {},
   "outputs": [],
   "source": [
    "#this code creates a DataFrame called roc using Pandas(pd)\n",
    "##It organizes various metrics related to the Reciever Operating Characteristics into columns.Each column represents a specific metric, and the rows are index"
   ]
  },
  {
   "cell_type": "code",
   "execution_count": 76,
   "id": "a6e4ae54-0883-4b83-8cb2-99f997205d4a",
   "metadata": {},
   "outputs": [
    {
     "name": "stdout",
     "output_type": "stream",
     "text": [
      "area under the curve 0.760101\n"
     ]
    },
    {
     "data": {
      "image/png": "[encoded data removed]",
      "text/plain": [
       "<Figure size 640x480 with 1 Axes>"
      ]
     },
     "metadata": {},
     "output_type": "display_data"
    }
   ],
   "source": [
    "#this code cretes a dataframe called roc using Pandas (pd)\n",
    "#Plot the ROC\n",
    "plt.plot(fpr,tpr)\n",
    "plt.xlabel(\"False positive rate\");plt.ylabel(\"True positive rate\")\n",
    "roc_auc=auc(fpr,tpr)\n",
    "print(\"area under the curve %f\"%roc_auc)"
   ]
  },
  {
   "cell_type": "code",
   "execution_count": 77,
   "id": "7e15f185-3c4e-4d1b-9a6c-486d69e9e8de",
   "metadata": {},
   "outputs": [],
   "source": [
    "#############################################\n",
    "#now let us add prediction column in dataframe\n",
    "c1[\"pred\"]=np.zeros(1340)\n",
    "c1.loc[pred>optimal_threshold,\"pred\"]=1"
   ]
  },
  {
   "cell_type": "code",
   "execution_count": 78,
   "id": "19e8f90d-bec4-46b5-b6bf-a149d4acdfa3",
   "metadata": {},
   "outputs": [
    {
     "data": {
      "text/plain": [
       "'              precision    recall  f1-score   support\\n\\n         0.0       0.67      0.74      0.70       615\\n         1.0       0.76      0.69      0.72       725\\n\\n    accuracy                           0.71      1340\\n   macro avg       0.71      0.72      0.71      1340\\nweighted avg       0.72      0.71      0.71      1340\\n'"
      ]
     },
     "execution_count": 78,
     "metadata": {},
     "output_type": "execute_result"
    }
   ],
   "source": [
    "#if predicted value is greater than optimal threshold then change pred column a classification report\n",
    "classification=classification_report(c1[\"pred\"],c1[\"ATTORNEY\"])\n",
    "classification"
   ]
  },
  {
   "cell_type": "code",
   "execution_count": 79,
   "id": "54b7b13e-aeb5-482f-8fb3-79e5aeaeecde",
   "metadata": {},
   "outputs": [],
   "source": [
    "####################################################\n",
    "#Spliting the data into train and test data\n",
    "train_data,test_data=train_test_split(c1,test_size=0.3)"
   ]
  },
  {
   "cell_type": "code",
   "execution_count": 80,
   "id": "e0e7dd99-5aa7-4be2-9ce9-ca9b28850b42",
   "metadata": {},
   "outputs": [
    {
     "name": "stdout",
     "output_type": "stream",
     "text": [
      "Optimization terminated successfully.\n",
      "         Current function value: 0.602270\n",
      "         Iterations 8\n"
     ]
    },
    {
     "data": {
      "text/html": [
       "<table class=\"simpletable\">\n",
       "<caption>Logit Regression Results</caption>\n",
       "<tr>\n",
       "  <th>Dep. Variable:</th>       <td>ATTORNEY</td>     <th>  No. Observations:  </th>  <td>   938</td>  \n",
       "</tr>\n",
       "<tr>\n",
       "  <th>Model:</th>                 <td>Logit</td>      <th>  Df Residuals:      </th>  <td>   933</td>  \n",
       "</tr>\n",
       "<tr>\n",
       "  <th>Method:</th>                 <td>MLE</td>       <th>  Df Model:          </th>  <td>     4</td>  \n",
       "</tr>\n",
       "<tr>\n",
       "  <th>Date:</th>            <td>Thu, 23 Jan 2025</td> <th>  Pseudo R-squ.:     </th>  <td>0.1298</td>  \n",
       "</tr>\n",
       "<tr>\n",
       "  <th>Time:</th>                <td>15:14:12</td>     <th>  Log-Likelihood:    </th> <td> -564.93</td> \n",
       "</tr>\n",
       "<tr>\n",
       "  <th>converged:</th>             <td>True</td>       <th>  LL-Null:           </th> <td> -649.23</td> \n",
       "</tr>\n",
       "<tr>\n",
       "  <th>Covariance Type:</th>     <td>nonrobust</td>    <th>  LLR p-value:       </th> <td>2.084e-35</td>\n",
       "</tr>\n",
       "</table>\n",
       "<table class=\"simpletable\">\n",
       "<tr>\n",
       "      <td></td>         <th>coef</th>     <th>std err</th>      <th>z</th>      <th>P>|z|</th>  <th>[0.025</th>    <th>0.975]</th>  \n",
       "</tr>\n",
       "<tr>\n",
       "  <th>Intercept</th> <td>    0.0966</td> <td>    0.252</td> <td>    0.383</td> <td> 0.702</td> <td>   -0.398</td> <td>    0.591</td>\n",
       "</tr>\n",
       "<tr>\n",
       "  <th>CLMAGE</th>    <td>    0.0073</td> <td>    0.004</td> <td>    1.914</td> <td> 0.056</td> <td>   -0.000</td> <td>    0.015</td>\n",
       "</tr>\n",
       "<tr>\n",
       "  <th>LOSS</th>      <td>   -0.3602</td> <td>    0.037</td> <td>   -9.771</td> <td> 0.000</td> <td>   -0.432</td> <td>   -0.288</td>\n",
       "</tr>\n",
       "<tr>\n",
       "  <th>CLMINSUR</th>  <td>    0.4611</td> <td>    0.245</td> <td>    1.883</td> <td> 0.060</td> <td>   -0.019</td> <td>    0.941</td>\n",
       "</tr>\n",
       "<tr>\n",
       "  <th>SEATBELT</th>  <td>    0.0812</td> <td>    0.599</td> <td>    0.136</td> <td> 0.892</td> <td>   -1.093</td> <td>    1.255</td>\n",
       "</tr>\n",
       "</table>"
      ],
      "text/latex": [
       "\\begin{center}\n",
       "\\begin{tabular}{lclc}\n",
       "\\toprule\n",
       "\\textbf{Dep. Variable:}   &     ATTORNEY     & \\textbf{  No. Observations:  } &      938    \\\\\n",
       "\\textbf{Model:}           &      Logit       & \\textbf{  Df Residuals:      } &      933    \\\\\n",
       "\\textbf{Method:}          &       MLE        & \\textbf{  Df Model:          } &        4    \\\\\n",
       "\\textbf{Date:}            & Thu, 23 Jan 2025 & \\textbf{  Pseudo R-squ.:     } &   0.1298    \\\\\n",
       "\\textbf{Time:}            &     15:14:12     & \\textbf{  Log-Likelihood:    } &   -564.93   \\\\\n",
       "\\textbf{converged:}       &       True       & \\textbf{  LL-Null:           } &   -649.23   \\\\\n",
       "\\textbf{Covariance Type:} &    nonrobust     & \\textbf{  LLR p-value:       } & 2.084e-35   \\\\\n",
       "\\bottomrule\n",
       "\\end{tabular}\n",
       "\\begin{tabular}{lcccccc}\n",
       "                   & \\textbf{coef} & \\textbf{std err} & \\textbf{z} & \\textbf{P$> |$z$|$} & \\textbf{[0.025} & \\textbf{0.975]}  \\\\\n",
       "\\midrule\n",
       "\\textbf{Intercept} &       0.0966  &        0.252     &     0.383  &         0.702        &       -0.398    &        0.591     \\\\\n",
       "\\textbf{CLMAGE}    &       0.0073  &        0.004     &     1.914  &         0.056        &       -0.000    &        0.015     \\\\\n",
       "\\textbf{LOSS}      &      -0.3602  &        0.037     &    -9.771  &         0.000        &       -0.432    &       -0.288     \\\\\n",
       "\\textbf{CLMINSUR}  &       0.4611  &        0.245     &     1.883  &         0.060        &       -0.019    &        0.941     \\\\\n",
       "\\textbf{SEATBELT}  &       0.0812  &        0.599     &     0.136  &         0.892        &       -1.093    &        1.255     \\\\\n",
       "\\bottomrule\n",
       "\\end{tabular}\n",
       "%\\caption{Logit Regression Results}\n",
       "\\end{center}"
      ],
      "text/plain": [
       "<class 'statsmodels.iolib.summary.Summary'>\n",
       "\"\"\"\n",
       "                           Logit Regression Results                           \n",
       "==============================================================================\n",
       "Dep. Variable:               ATTORNEY   No. Observations:                  938\n",
       "Model:                          Logit   Df Residuals:                      933\n",
       "Method:                           MLE   Df Model:                            4\n",
       "Date:                Thu, 23 Jan 2025   Pseudo R-squ.:                  0.1298\n",
       "Time:                        15:14:12   Log-Likelihood:                -564.93\n",
       "converged:                       True   LL-Null:                       -649.23\n",
       "Covariance Type:            nonrobust   LLR p-value:                 2.084e-35\n",
       "==============================================================================\n",
       "                 coef    std err          z      P>|z|      [0.025      0.975]\n",
       "------------------------------------------------------------------------------\n",
       "Intercept      0.0966      0.252      0.383      0.702      -0.398       0.591\n",
       "CLMAGE         0.0073      0.004      1.914      0.056      -0.000       0.015\n",
       "LOSS          -0.3602      0.037     -9.771      0.000      -0.432      -0.288\n",
       "CLMINSUR       0.4611      0.245      1.883      0.060      -0.019       0.941\n",
       "SEATBELT       0.0812      0.599      0.136      0.892      -1.093       1.255\n",
       "==============================================================================\n",
       "\"\"\""
      ]
     },
     "execution_count": 80,
     "metadata": {},
     "output_type": "execute_result"
    }
   ],
   "source": [
    "#model train using\n",
    "model=sm.logit('ATTORNEY~CLMAGE+LOSS+CLMINSUR+SEATBELT', data=train_data).fit()\n",
    "model.summary()"
   ]
  },
  {
   "cell_type": "code",
   "execution_count": 81,
   "id": "f560d2bb-9d13-4f5c-9c15-6453f30bb439",
   "metadata": {},
   "outputs": [
    {
     "data": {
      "text/html": [
       "<table class=\"simpletable\">\n",
       "<tr>\n",
       "        <td>Model:</td>              <td>Logit</td>           <td>Method:</td>          <td>MLE</td>   \n",
       "</tr>\n",
       "<tr>\n",
       "  <td>Dependent Variable:</td>     <td>ATTORNEY</td>     <td>Pseudo R-squared:</td>    <td>0.130</td>  \n",
       "</tr>\n",
       "<tr>\n",
       "         <td>Date:</td>        <td>2025-01-23 15:14</td>       <td>AIC:</td>         <td>1139.8581</td>\n",
       "</tr>\n",
       "<tr>\n",
       "   <td>No. Observations:</td>         <td>938</td>             <td>BIC:</td>         <td>1164.0769</td>\n",
       "</tr>\n",
       "<tr>\n",
       "       <td>Df Model:</td>              <td>4</td>         <td>Log-Likelihood:</td>    <td>-564.93</td> \n",
       "</tr>\n",
       "<tr>\n",
       "     <td>Df Residuals:</td>           <td>933</td>           <td>LL-Null:</td>        <td>-649.23</td> \n",
       "</tr>\n",
       "<tr>\n",
       "      <td>Converged:</td>           <td>1.0000</td>        <td>LLR p-value:</td>    <td>2.0840e-35</td>\n",
       "</tr>\n",
       "<tr>\n",
       "    <td>No. Iterations:</td>        <td>8.0000</td>           <td>Scale:</td>         <td>1.0000</td>  \n",
       "</tr>\n",
       "</table>\n",
       "<table class=\"simpletable\">\n",
       "<tr>\n",
       "      <td></td>       <th>Coef.</th>  <th>Std.Err.</th>    <th>z</th>     <th>P>|z|</th> <th>[0.025</th>  <th>0.975]</th> \n",
       "</tr>\n",
       "<tr>\n",
       "  <th>Intercept</th> <td>0.0966</td>   <td>0.2521</td>  <td>0.3832</td>  <td>0.7016</td> <td>-0.3976</td> <td>0.5908</td> \n",
       "</tr>\n",
       "<tr>\n",
       "  <th>CLMAGE</th>    <td>0.0073</td>   <td>0.0038</td>  <td>1.9144</td>  <td>0.0556</td> <td>-0.0002</td> <td>0.0147</td> \n",
       "</tr>\n",
       "<tr>\n",
       "  <th>LOSS</th>      <td>-0.3602</td>  <td>0.0369</td>  <td>-9.7707</td> <td>0.0000</td> <td>-0.4325</td> <td>-0.2880</td>\n",
       "</tr>\n",
       "<tr>\n",
       "  <th>CLMINSUR</th>  <td>0.4611</td>   <td>0.2448</td>  <td>1.8835</td>  <td>0.0596</td> <td>-0.0187</td> <td>0.9410</td> \n",
       "</tr>\n",
       "<tr>\n",
       "  <th>SEATBELT</th>  <td>0.0812</td>   <td>0.5990</td>  <td>0.1355</td>  <td>0.8922</td> <td>-1.0928</td> <td>1.2552</td> \n",
       "</tr>\n",
       "</table><br/>\n"
      ],
      "text/latex": [
       "\\begin{table}\n",
       "\\caption{Results: Logit}\n",
       "\\label{}\n",
       "\\begin{center}\n",
       "\\begin{tabular}{llll}\n",
       "\\hline\n",
       "Model:              & Logit            & Method:           & MLE         \\\\\n",
       "Dependent Variable: & ATTORNEY         & Pseudo R-squared: & 0.130       \\\\\n",
       "Date:               & 2025-01-23 15:14 & AIC:              & 1139.8581   \\\\\n",
       "No. Observations:   & 938              & BIC:              & 1164.0769   \\\\\n",
       "Df Model:           & 4                & Log-Likelihood:   & -564.93     \\\\\n",
       "Df Residuals:       & 933              & LL-Null:          & -649.23     \\\\\n",
       "Converged:          & 1.0000           & LLR p-value:      & 2.0840e-35  \\\\\n",
       "No. Iterations:     & 8.0000           & Scale:            & 1.0000      \\\\\n",
       "\\hline\n",
       "\\end{tabular}\n",
       "\\end{center}\n",
       "\n",
       "\\begin{center}\n",
       "\\begin{tabular}{lrrrrrr}\n",
       "\\hline\n",
       "          &   Coef. & Std.Err. &       z & P$> |$z$|$ &  [0.025 &  0.975]  \\\\\n",
       "\\hline\n",
       "Intercept &  0.0966 &   0.2521 &  0.3832 &      0.7016 & -0.3976 &  0.5908  \\\\\n",
       "CLMAGE    &  0.0073 &   0.0038 &  1.9144 &      0.0556 & -0.0002 &  0.0147  \\\\\n",
       "LOSS      & -0.3602 &   0.0369 & -9.7707 &      0.0000 & -0.4325 & -0.2880  \\\\\n",
       "CLMINSUR  &  0.4611 &   0.2448 &  1.8835 &      0.0596 & -0.0187 &  0.9410  \\\\\n",
       "SEATBELT  &  0.0812 &   0.5990 &  0.1355 &      0.8922 & -1.0928 &  1.2552  \\\\\n",
       "\\hline\n",
       "\\end{tabular}\n",
       "\\end{center}\n",
       "\\end{table}\n",
       "\\bigskip\n"
      ],
      "text/plain": [
       "<class 'statsmodels.iolib.summary2.Summary'>\n",
       "\"\"\"\n",
       "                         Results: Logit\n",
       "=================================================================\n",
       "Model:              Logit            Method:           MLE       \n",
       "Dependent Variable: ATTORNEY         Pseudo R-squared: 0.130     \n",
       "Date:               2025-01-23 15:14 AIC:              1139.8581 \n",
       "No. Observations:   938              BIC:              1164.0769 \n",
       "Df Model:           4                Log-Likelihood:   -564.93   \n",
       "Df Residuals:       933              LL-Null:          -649.23   \n",
       "Converged:          1.0000           LLR p-value:      2.0840e-35\n",
       "No. Iterations:     8.0000           Scale:            1.0000    \n",
       "------------------------------------------------------------------\n",
       "               Coef.   Std.Err.     z     P>|z|    [0.025   0.975]\n",
       "------------------------------------------------------------------\n",
       "Intercept      0.0966    0.2521   0.3832  0.7016  -0.3976   0.5908\n",
       "CLMAGE         0.0073    0.0038   1.9144  0.0556  -0.0002   0.0147\n",
       "LOSS          -0.3602    0.0369  -9.7707  0.0000  -0.4325  -0.2880\n",
       "CLMINSUR       0.4611    0.2448   1.8835  0.0596  -0.0187   0.9410\n",
       "SEATBELT       0.0812    0.5990   0.1355  0.8922  -1.0928   1.2552\n",
       "=================================================================\n",
       "\n",
       "\"\"\""
      ]
     },
     "execution_count": 81,
     "metadata": {},
     "output_type": "execute_result"
    }
   ],
   "source": [
    "model.summary2()"
   ]
  },
  {
   "cell_type": "code",
   "execution_count": 82,
   "id": "77429dc7-2b74-44ab-87d9-69e46408ed01",
   "metadata": {},
   "outputs": [],
   "source": [
    "#AIC is 1157\n",
    "#prediction on test data\n",
    "test_pred=model.predict(test_data)\n",
    "test_data[\"test_pred\"]=np.zeros(402)"
   ]
  },
  {
   "cell_type": "code",
   "execution_count": 83,
   "id": "49d8f2fe-dfa5-4814-ad1e-519bf767db22",
   "metadata": {},
   "outputs": [],
   "source": [
    "#taking threshold value as optimal threshold value\n",
    "test_data.loc[test_pred>optimal_threshold,\"test_pred\"]=1"
   ]
  },
  {
   "cell_type": "code",
   "execution_count": 84,
   "id": "d1c8f78a-356f-4afe-9944-6dee56c8650f",
   "metadata": {},
   "outputs": [
    {
     "data": {
      "text/html": [
       "<div>\n",
       "<style scoped>\n",
       "    .dataframe tbody tr th:only-of-type {\n",
       "        vertical-align: middle;\n",
       "    }\n",
       "\n",
       "    .dataframe tbody tr th {\n",
       "        vertical-align: top;\n",
       "    }\n",
       "\n",
       "    .dataframe thead th {\n",
       "        text-align: right;\n",
       "    }\n",
       "</style>\n",
       "<table border=\"1\" class=\"dataframe\">\n",
       "  <thead>\n",
       "    <tr style=\"text-align: right;\">\n",
       "      <th>ATTORNEY</th>\n",
       "      <th>0</th>\n",
       "      <th>1</th>\n",
       "    </tr>\n",
       "    <tr>\n",
       "      <th>test_pred</th>\n",
       "      <th></th>\n",
       "      <th></th>\n",
       "    </tr>\n",
       "  </thead>\n",
       "  <tbody>\n",
       "    <tr>\n",
       "      <th>0.0</th>\n",
       "      <td>127</td>\n",
       "      <td>44</td>\n",
       "    </tr>\n",
       "    <tr>\n",
       "      <th>1.0</th>\n",
       "      <td>68</td>\n",
       "      <td>163</td>\n",
       "    </tr>\n",
       "  </tbody>\n",
       "</table>\n",
       "</div>"
      ],
      "text/plain": [
       "ATTORNEY     0    1\n",
       "test_pred          \n",
       "0.0        127   44\n",
       "1.0         68  163"
      ]
     },
     "execution_count": 84,
     "metadata": {},
     "output_type": "execute_result"
    }
   ],
   "source": [
    "#COnfusion matrix\n",
    "confusion_matrix=pd.crosstab(test_data.test_pred,test_data.ATTORNEY)\n",
    "confusion_matrix"
   ]
  },
  {
   "cell_type": "code",
   "execution_count": 85,
   "id": "d2b07ccd-78c9-458c-a559-9bddfe35ad7e",
   "metadata": {},
   "outputs": [
    {
     "data": {
      "text/plain": [
       "0.001996387489305067"
      ]
     },
     "execution_count": 85,
     "metadata": {},
     "output_type": "execute_result"
    }
   ],
   "source": [
    "accuracy_test=(126/157)/402\n",
    "accuracy_test"
   ]
  },
  {
   "cell_type": "code",
   "execution_count": 86,
   "id": "187853f0-4038-4390-8f56-989b65d62074",
   "metadata": {},
   "outputs": [
    {
     "data": {
      "text/plain": [
       "'              precision    recall  f1-score   support\\n\\n         0.0       0.65      0.74      0.69       171\\n         1.0       0.79      0.71      0.74       231\\n\\n    accuracy                           0.72       402\\n   macro avg       0.72      0.72      0.72       402\\nweighted avg       0.73      0.72      0.72       402\\n'"
      ]
     },
     "execution_count": 86,
     "metadata": {},
     "output_type": "execute_result"
    }
   ],
   "source": [
    "#classification report\n",
    "classification_test=classification_report(test_data[\"test_pred\"],test_data[\"ATTORNEY\"])\n",
    "classification_test"
   ]
  },
  {
   "cell_type": "code",
   "execution_count": 87,
   "id": "3ce25e38-ee44-467a-aefa-b08d35ef0702",
   "metadata": {},
   "outputs": [],
   "source": [
    "#ROC curve and AUC\n",
    "fpr,tpr,threshold=metrics.roc_curve(test_data[\"ATTORNEY\"],test_pred)"
   ]
  },
  {
   "cell_type": "code",
   "execution_count": 92,
   "id": "861ac88c-90c1-4c0c-b133-bfa366d95c83",
   "metadata": {},
   "outputs": [
    {
     "data": {
      "text/plain": [
       "0.7889136628267063"
      ]
     },
     "execution_count": 92,
     "metadata": {},
     "output_type": "execute_result"
    },
    {
     "data": {
      "image/png": "[encoded data removed]",
      "text/plain": [
       "<Figure size 640x480 with 1 Axes>"
      ]
     },
     "metadata": {},
     "output_type": "display_data"
    }
   ],
   "source": [
    "#plot of ROC\n",
    "plt.plot(fpr,tpr);plt.xlabel(\"False positive rate\");plt.ylabel(\"True positive rate\")\n",
    "roc_auc_test=metrics.auc(fpr,tpr)\n",
    "roc_auc_test"
   ]
  },
  {
   "cell_type": "code",
   "execution_count": 93,
   "id": "c7045629-6197-408d-a00a-8108ce010c5d",
   "metadata": {},
   "outputs": [],
   "source": [
    "#Prediction on train data\n",
    "train_pred=model.predict(train_data.iloc[:,1:])"
   ]
  },
  {
   "cell_type": "code",
   "execution_count": 94,
   "id": "dd351f50-44a5-4d24-a197-6277c902378c",
   "metadata": {},
   "outputs": [],
   "source": [
    "#creating new column\n",
    "train_data['train_pred']=np.zeros(938)"
   ]
  },
  {
   "cell_type": "code",
   "execution_count": 95,
   "id": "98f1f836-3f41-4926-ad62-15fe86c6f1b6",
   "metadata": {},
   "outputs": [],
   "source": [
    "train_data.loc[train_pred>optimal_threshold,\"train_pred\"]=1"
   ]
  },
  {
   "cell_type": "code",
   "execution_count": 97,
   "id": "fb21b8e3-0750-4b37-81e3-ac7809b1689f",
   "metadata": {},
   "outputs": [
    {
     "data": {
      "text/html": [
       "<div>\n",
       "<style scoped>\n",
       "    .dataframe tbody tr th:only-of-type {\n",
       "        vertical-align: middle;\n",
       "    }\n",
       "\n",
       "    .dataframe tbody tr th {\n",
       "        vertical-align: top;\n",
       "    }\n",
       "\n",
       "    .dataframe thead th {\n",
       "        text-align: right;\n",
       "    }\n",
       "</style>\n",
       "<table border=\"1\" class=\"dataframe\">\n",
       "  <thead>\n",
       "    <tr style=\"text-align: right;\">\n",
       "      <th>ATTORNEY</th>\n",
       "      <th>0</th>\n",
       "      <th>1</th>\n",
       "    </tr>\n",
       "    <tr>\n",
       "      <th>train_pred</th>\n",
       "      <th></th>\n",
       "      <th></th>\n",
       "    </tr>\n",
       "  </thead>\n",
       "  <tbody>\n",
       "    <tr>\n",
       "      <th>0.0</th>\n",
       "      <td>324</td>\n",
       "      <td>109</td>\n",
       "    </tr>\n",
       "    <tr>\n",
       "      <th>1.0</th>\n",
       "      <td>166</td>\n",
       "      <td>339</td>\n",
       "    </tr>\n",
       "  </tbody>\n",
       "</table>\n",
       "</div>"
      ],
      "text/plain": [
       "ATTORNEY      0    1\n",
       "train_pred          \n",
       "0.0         324  109\n",
       "1.0         166  339"
      ]
     },
     "execution_count": 97,
     "metadata": {},
     "output_type": "execute_result"
    }
   ],
   "source": [
    "#confusion matrics\n",
    "confusion_matrix=pd.crosstab(train_data.train_pred,train_data.ATTORNEY)\n",
    "confusion_matrix"
   ]
  },
  {
   "cell_type": "code",
   "execution_count": 98,
   "id": "9ba5cb1b-bd1b-47e0-a2ce-bac5a4bba1e4",
   "metadata": {},
   "outputs": [
    {
     "data": {
      "text/plain": [
       "0.0009159019425367244"
      ]
     },
     "execution_count": 98,
     "metadata": {},
     "output_type": "execute_result"
    }
   ],
   "source": [
    "#Accuracy test\n",
    "accuracy_train=(311/362)/938\n",
    "accuracy_train"
   ]
  },
  {
   "cell_type": "code",
   "execution_count": 99,
   "id": "516d78ab-ef80-40dd-9b08-b193ec39fa64",
   "metadata": {},
   "outputs": [
    {
     "data": {
      "text/plain": [
       "'              precision    recall  f1-score   support\\n\\n         0.0       0.66      0.75      0.70       433\\n         1.0       0.76      0.67      0.71       505\\n\\n    accuracy                           0.71       938\\n   macro avg       0.71      0.71      0.71       938\\nweighted avg       0.71      0.71      0.71       938\\n'"
      ]
     },
     "execution_count": 99,
     "metadata": {},
     "output_type": "execute_result"
    }
   ],
   "source": [
    "#Classification report\n",
    "classification_train=classification_report(train_data.train_pred,train_data.ATTORNEY)\n",
    "classification_train"
   ]
  },
  {
   "cell_type": "code",
   "execution_count": null,
   "id": "3d61a9ad-36c7-422e-b1c5-66ee310af871",
   "metadata": {},
   "outputs": [],
   "source": []
  }
 ],
 "metadata": {
  "kernelspec": {
   "display_name": "Python 3 (ipykernel)",
   "language": "python",
   "name": "python3"
  },
  "language_info": {
   "codemirror_mode": {
    "name": "ipython",
    "version": 3
   },
   "file_extension": ".py",
   "mimetype": "text/x-python",
   "name": "python",
   "nbconvert_exporter": "python",
   "pygments_lexer": "ipython3",
   "version": "3.12.3"
  }
 },
 "nbformat": 4,
 "nbformat_minor": 5
}

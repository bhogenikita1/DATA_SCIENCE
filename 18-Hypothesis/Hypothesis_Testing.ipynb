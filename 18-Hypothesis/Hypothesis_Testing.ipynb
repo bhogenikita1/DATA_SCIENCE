{
 "cells": [
  {
   "cell_type": "code",
   "execution_count": 11,
   "id": "bad9f169-fb8d-48f3-bfd2-167515bd2ff2",
   "metadata": {},
   "outputs": [],
   "source": [
    "import pandas as pd\n",
    "import numpy as np\n",
    "import scipy\n",
    "from scipy import stats\n",
    "#Provides statistical functions;\n",
    "#stats contains a variety of statistical tests.\n",
    "from statsmodels.stats import descriptivestats as sd\n",
    "#Provides descriptive statistics tools, including the sign_test.\n",
    "from statsmodels.stats.weightstats import ztest\n",
    "#Used for conducting z-tests on datasets."
   ]
  },
  {
   "cell_type": "markdown",
   "id": "7e428f74-ab43-469c-aa9c-a2dd40e3e927",
   "metadata": {},
   "source": [
    "# 1-sample Sign-test"
   ]
  },
  {
   "cell_type": "code",
   "execution_count": 4,
   "id": "e45a539d-b817-4e7c-8482-332c94ae2506",
   "metadata": {},
   "outputs": [
    {
     "data": {
      "text/html": [
       "<div>\n",
       "<style scoped>\n",
       "    .dataframe tbody tr th:only-of-type {\n",
       "        vertical-align: middle;\n",
       "    }\n",
       "\n",
       "    .dataframe tbody tr th {\n",
       "        vertical-align: top;\n",
       "    }\n",
       "\n",
       "    .dataframe thead th {\n",
       "        text-align: right;\n",
       "    }\n",
       "</style>\n",
       "<table border=\"1\" class=\"dataframe\">\n",
       "  <thead>\n",
       "    <tr style=\"text-align: right;\">\n",
       "      <th></th>\n",
       "      <th>Scores</th>\n",
       "    </tr>\n",
       "  </thead>\n",
       "  <tbody>\n",
       "    <tr>\n",
       "      <th>0</th>\n",
       "      <td>60</td>\n",
       "    </tr>\n",
       "    <tr>\n",
       "      <th>1</th>\n",
       "      <td>75</td>\n",
       "    </tr>\n",
       "    <tr>\n",
       "      <th>2</th>\n",
       "      <td>90</td>\n",
       "    </tr>\n",
       "    <tr>\n",
       "      <th>3</th>\n",
       "      <td>99</td>\n",
       "    </tr>\n",
       "    <tr>\n",
       "      <th>4</th>\n",
       "      <td>98</td>\n",
       "    </tr>\n",
       "    <tr>\n",
       "      <th>5</th>\n",
       "      <td>80</td>\n",
       "    </tr>\n",
       "    <tr>\n",
       "      <th>6</th>\n",
       "      <td>90</td>\n",
       "    </tr>\n",
       "    <tr>\n",
       "      <th>7</th>\n",
       "      <td>100</td>\n",
       "    </tr>\n",
       "    <tr>\n",
       "      <th>8</th>\n",
       "      <td>70</td>\n",
       "    </tr>\n",
       "    <tr>\n",
       "      <th>9</th>\n",
       "      <td>75</td>\n",
       "    </tr>\n",
       "    <tr>\n",
       "      <th>10</th>\n",
       "      <td>72</td>\n",
       "    </tr>\n",
       "    <tr>\n",
       "      <th>11</th>\n",
       "      <td>71</td>\n",
       "    </tr>\n",
       "    <tr>\n",
       "      <th>12</th>\n",
       "      <td>70</td>\n",
       "    </tr>\n",
       "    <tr>\n",
       "      <th>13</th>\n",
       "      <td>98</td>\n",
       "    </tr>\n",
       "    <tr>\n",
       "      <th>14</th>\n",
       "      <td>97</td>\n",
       "    </tr>\n",
       "    <tr>\n",
       "      <th>15</th>\n",
       "      <td>90</td>\n",
       "    </tr>\n",
       "    <tr>\n",
       "      <th>16</th>\n",
       "      <td>97</td>\n",
       "    </tr>\n",
       "    <tr>\n",
       "      <th>17</th>\n",
       "      <td>99</td>\n",
       "    </tr>\n",
       "    <tr>\n",
       "      <th>18</th>\n",
       "      <td>65</td>\n",
       "    </tr>\n",
       "    <tr>\n",
       "      <th>19</th>\n",
       "      <td>88</td>\n",
       "    </tr>\n",
       "  </tbody>\n",
       "</table>\n",
       "</div>"
      ],
      "text/plain": [
       "    Scores\n",
       "0       60\n",
       "1       75\n",
       "2       90\n",
       "3       99\n",
       "4       98\n",
       "5       80\n",
       "6       90\n",
       "7      100\n",
       "8       70\n",
       "9       75\n",
       "10      72\n",
       "11      71\n",
       "12      70\n",
       "13      98\n",
       "14      97\n",
       "15      90\n",
       "16      97\n",
       "17      99\n",
       "18      65\n",
       "19      88"
      ]
     },
     "execution_count": 4,
     "metadata": {},
     "output_type": "execute_result"
    }
   ],
   "source": [
    "\n",
    "#whenever there is single sample and data is not normal \n",
    "marks=pd.read_csv(\"C:/Users/HP/Downloads/Signtest.csv\")\n",
    "marks"
   ]
  },
  {
   "cell_type": "code",
   "execution_count": 5,
   "id": "6f968d0a-9f31-4ed9-a86d-bb3ff1a81b21",
   "metadata": {},
   "outputs": [],
   "source": [
    "#Normal QQ plot\n",
    "import pylab"
   ]
  },
  {
   "cell_type": "code",
   "execution_count": 6,
   "id": "358f2756-72fe-447f-bd05-23081189a8cf",
   "metadata": {},
   "outputs": [
    {
     "data": {
      "text/plain": [
       "((array([-1.8241636 , -1.38768012, -1.11829229, -0.91222575, -0.73908135,\n",
       "         -0.5857176 , -0.44506467, -0.31273668, -0.18568928, -0.06158146,\n",
       "          0.06158146,  0.18568928,  0.31273668,  0.44506467,  0.5857176 ,\n",
       "          0.73908135,  0.91222575,  1.11829229,  1.38768012,  1.8241636 ]),\n",
       "  array([ 60,  65,  70,  70,  71,  72,  75,  75,  80,  88,  90,  90,  90,\n",
       "          97,  97,  98,  98,  99,  99, 100], dtype=int64)),\n",
       " (13.387642315268574, 84.2, 0.9528719246176001))"
      ]
     },
     "execution_count": 6,
     "metadata": {},
     "output_type": "execute_result"
    },
    {
     "data": {
      "image/png": "[encoded data removed]",
      "text/plain": [
       "<Figure size 640x480 with 1 Axes>"
      ]
     },
     "metadata": {},
     "output_type": "display_data"
    }
   ],
   "source": [
    "stats.probplot(marks.Scores,dist=\"norm\",plot=pylab)"
   ]
  },
  {
   "cell_type": "code",
   "execution_count": 7,
   "id": "e4386e8d-3b3a-4ca6-8bd3-b0d6849dfc86",
   "metadata": {},
   "outputs": [],
   "source": [
    "#Test for normality"
   ]
  },
  {
   "cell_type": "code",
   "execution_count": 8,
   "id": "eee0d1d6-00ba-48cb-b8fb-a0511a0b84dc",
   "metadata": {},
   "outputs": [],
   "source": [
    "shapiro_test=stats.shapiro(marks.Scores)"
   ]
  },
  {
   "cell_type": "code",
   "execution_count": 9,
   "id": "c2842274-a9b8-4137-8c11-3b5f05e8809e",
   "metadata": {},
   "outputs": [],
   "source": [
    "#performs the Shapiro-Wilk Test for normality.\n",
    "#H0(NULL Hypothesis):the data is normally distributed\n",
    "#H1(NULL Alternate Hypothesis): The data is not normally distributed\n",
    "#outputs a test statistics and p-value"
   ]
  },
  {
   "cell_type": "code",
   "execution_count": 10,
   "id": "a5ee4805-70df-4be3-b123-114a461f0d67",
   "metadata": {},
   "outputs": [
    {
     "name": "stdout",
     "output_type": "stream",
     "text": [
      "Shapiro Test: ShapiroResult(statistic=0.8875984049096806, pvalue=0.024299306804881928)\n"
     ]
    }
   ],
   "source": [
    "print(\"Shapiro Test:\",shapiro_test)"
   ]
  },
  {
   "cell_type": "code",
   "execution_count": 11,
   "id": "a8528321-2279-497c-8d10-0287c2e62569",
   "metadata": {},
   "outputs": [],
   "source": [
    "#p-value is 0.024<0.05 data is not normal"
   ]
  },
  {
   "cell_type": "code",
   "execution_count": 12,
   "id": "91595695-8556-4edc-b52d-af065871ef50",
   "metadata": {},
   "outputs": [],
   "source": [
    "#Descriptive statistics"
   ]
  },
  {
   "cell_type": "code",
   "execution_count": 13,
   "id": "7bd340bc-1919-4a5b-b2cc-15b8cd8b9465",
   "metadata": {},
   "outputs": [
    {
     "name": "stdout",
     "output_type": "stream",
     "text": [
      "count     20.00000\n",
      "mean      84.20000\n",
      "std       13.33614\n",
      "min       60.00000\n",
      "25%       71.75000\n",
      "50%       89.00000\n",
      "75%       97.25000\n",
      "max      100.00000\n",
      "Name: Scores, dtype: float64\n"
     ]
    }
   ],
   "source": [
    "print(marks.Scores.describe())"
   ]
  },
  {
   "cell_type": "code",
   "execution_count": 14,
   "id": "612bcfd7-5c03-4ab6-8321-c6f6fae7c6a6",
   "metadata": {},
   "outputs": [],
   "source": [
    "#mean=84.20 and ,median=89.00"
   ]
  },
  {
   "cell_type": "code",
   "execution_count": 15,
   "id": "7b3f6872-197b-4c85-9449-aa3d6f1cb0b8",
   "metadata": {},
   "outputs": [],
   "source": [
    "##1-sample Sign-test"
   ]
  },
  {
   "cell_type": "code",
   "execution_count": 16,
   "id": "20d39ecb-f6fe-4de7-83c3-22f0394c43f0",
   "metadata": {},
   "outputs": [],
   "source": [
    "sign_test_result=sd.sign_test(marks.Scores,mu0=marks.Scores.mean())"
   ]
  },
  {
   "cell_type": "code",
   "execution_count": 18,
   "id": "e759e034-d3c4-4a27-b4f9-670a22ff7fe7",
   "metadata": {},
   "outputs": [
    {
     "name": "stdout",
     "output_type": "stream",
     "text": [
      "(1.0, 0.8238029479980469)\n"
     ]
    }
   ],
   "source": [
    "print(sign_test_result)"
   ]
  },
  {
   "cell_type": "code",
   "execution_count": 19,
   "id": "f874ea2a-335a-4995-a318-c9d94fbdc7ba",
   "metadata": {},
   "outputs": [],
   "source": [
    "#Interpretation:"
   ]
  },
  {
   "cell_type": "code",
   "execution_count": 21,
   "id": "a3e318db-4b5b-49d3-9cc0-42288efaa950",
   "metadata": {},
   "outputs": [
    {
     "data": {
      "text/plain": [
       "'\\nH0:median=mean\\nh1:meadin!=mean\\nsince the p-value=0.82, is greater than 0.05 we fail to reject the null hypothesis\\n##CONCLUSION: The median and mean of scores are statistically not similar.\\n'"
      ]
     },
     "execution_count": 21,
     "metadata": {},
     "output_type": "execute_result"
    }
   ],
   "source": [
    "'''\n",
    "H0:median=mean\n",
    "h1:meadin!=mean\n",
    "since the p-value=0.82, is greater than 0.05 we fail to reject the null hypothesis\n",
    "##CONCLUSION: The median and mean of scores are statistically not similar.\n",
    "'''"
   ]
  },
  {
   "cell_type": "markdown",
   "id": "004e1e3b-73ac-41a2-89e4-b2ea2820795d",
   "metadata": {},
   "source": [
    "# 1-sample z-test"
   ]
  },
  {
   "cell_type": "code",
   "execution_count": 23,
   "id": "c1910398-0cf4-4574-8f70-bae654e0dfd5",
   "metadata": {},
   "outputs": [],
   "source": [
    "fabric=pd.read_csv(\"C:/Users/HP/Downloads/Fabric_data.csv\")"
   ]
  },
  {
   "cell_type": "code",
   "execution_count": 24,
   "id": "a8282097-7369-474d-9453-71035d3fa1ee",
   "metadata": {},
   "outputs": [
    {
     "data": {
      "text/html": [
       "<div>\n",
       "<style scoped>\n",
       "    .dataframe tbody tr th:only-of-type {\n",
       "        vertical-align: middle;\n",
       "    }\n",
       "\n",
       "    .dataframe tbody tr th {\n",
       "        vertical-align: top;\n",
       "    }\n",
       "\n",
       "    .dataframe thead th {\n",
       "        text-align: right;\n",
       "    }\n",
       "</style>\n",
       "<table border=\"1\" class=\"dataframe\">\n",
       "  <thead>\n",
       "    <tr style=\"text-align: right;\">\n",
       "      <th></th>\n",
       "      <th>Fabric_length</th>\n",
       "    </tr>\n",
       "  </thead>\n",
       "  <tbody>\n",
       "    <tr>\n",
       "      <th>0</th>\n",
       "      <td>151.2</td>\n",
       "    </tr>\n",
       "    <tr>\n",
       "      <th>1</th>\n",
       "      <td>160.3</td>\n",
       "    </tr>\n",
       "    <tr>\n",
       "      <th>2</th>\n",
       "      <td>147.5</td>\n",
       "    </tr>\n",
       "    <tr>\n",
       "      <th>3</th>\n",
       "      <td>149.2</td>\n",
       "    </tr>\n",
       "    <tr>\n",
       "      <th>4</th>\n",
       "      <td>159.2</td>\n",
       "    </tr>\n",
       "    <tr>\n",
       "      <th>5</th>\n",
       "      <td>155.6</td>\n",
       "    </tr>\n",
       "    <tr>\n",
       "      <th>6</th>\n",
       "      <td>148.1</td>\n",
       "    </tr>\n",
       "    <tr>\n",
       "      <th>7</th>\n",
       "      <td>154.8</td>\n",
       "    </tr>\n",
       "    <tr>\n",
       "      <th>8</th>\n",
       "      <td>156.8</td>\n",
       "    </tr>\n",
       "    <tr>\n",
       "      <th>9</th>\n",
       "      <td>167.5</td>\n",
       "    </tr>\n",
       "    <tr>\n",
       "      <th>10</th>\n",
       "      <td>164.5</td>\n",
       "    </tr>\n",
       "    <tr>\n",
       "      <th>11</th>\n",
       "      <td>147.9</td>\n",
       "    </tr>\n",
       "    <tr>\n",
       "      <th>12</th>\n",
       "      <td>154.1</td>\n",
       "    </tr>\n",
       "    <tr>\n",
       "      <th>13</th>\n",
       "      <td>159.4</td>\n",
       "    </tr>\n",
       "    <tr>\n",
       "      <th>14</th>\n",
       "      <td>147.5</td>\n",
       "    </tr>\n",
       "    <tr>\n",
       "      <th>15</th>\n",
       "      <td>148.2</td>\n",
       "    </tr>\n",
       "    <tr>\n",
       "      <th>16</th>\n",
       "      <td>154.2</td>\n",
       "    </tr>\n",
       "    <tr>\n",
       "      <th>17</th>\n",
       "      <td>148.1</td>\n",
       "    </tr>\n",
       "    <tr>\n",
       "      <th>18</th>\n",
       "      <td>163.1</td>\n",
       "    </tr>\n",
       "    <tr>\n",
       "      <th>19</th>\n",
       "      <td>155.2</td>\n",
       "    </tr>\n",
       "    <tr>\n",
       "      <th>20</th>\n",
       "      <td>154.6</td>\n",
       "    </tr>\n",
       "    <tr>\n",
       "      <th>21</th>\n",
       "      <td>155.4</td>\n",
       "    </tr>\n",
       "    <tr>\n",
       "      <th>22</th>\n",
       "      <td>158.2</td>\n",
       "    </tr>\n",
       "    <tr>\n",
       "      <th>23</th>\n",
       "      <td>157.6</td>\n",
       "    </tr>\n",
       "    <tr>\n",
       "      <th>24</th>\n",
       "      <td>158.4</td>\n",
       "    </tr>\n",
       "  </tbody>\n",
       "</table>\n",
       "</div>"
      ],
      "text/plain": [
       "    Fabric_length\n",
       "0           151.2\n",
       "1           160.3\n",
       "2           147.5\n",
       "3           149.2\n",
       "4           159.2\n",
       "5           155.6\n",
       "6           148.1\n",
       "7           154.8\n",
       "8           156.8\n",
       "9           167.5\n",
       "10          164.5\n",
       "11          147.9\n",
       "12          154.1\n",
       "13          159.4\n",
       "14          147.5\n",
       "15          148.2\n",
       "16          154.2\n",
       "17          148.1\n",
       "18          163.1\n",
       "19          155.2\n",
       "20          154.6\n",
       "21          155.4\n",
       "22          158.2\n",
       "23          157.6\n",
       "24          158.4"
      ]
     },
     "execution_count": 24,
     "metadata": {},
     "output_type": "execute_result"
    }
   ],
   "source": [
    "fabric"
   ]
  },
  {
   "cell_type": "code",
   "execution_count": 25,
   "id": "ec12724d-fbe3-4187-b1cf-ce3c63915e48",
   "metadata": {},
   "outputs": [],
   "source": [
    "#Normality Test"
   ]
  },
  {
   "cell_type": "code",
   "execution_count": 26,
   "id": "042339f4-9bc9-485b-b005-db2718f3e430",
   "metadata": {},
   "outputs": [],
   "source": [
    "fabric_normality=stats.shapiro(fabric)"
   ]
  },
  {
   "cell_type": "code",
   "execution_count": 27,
   "id": "28529895-1a64-4374-acc3-d62263b19759",
   "metadata": {},
   "outputs": [
    {
     "data": {
      "text/plain": [
       "ShapiroResult(statistic=0.9397524078584506, pvalue=0.1460935830606142)"
      ]
     },
     "execution_count": 27,
     "metadata": {},
     "output_type": "execute_result"
    }
   ],
   "source": [
    "fabric_normality"
   ]
  },
  {
   "cell_type": "code",
   "execution_count": 28,
   "id": "dc53b93a-ccf9-4633-99c1-8721414029ea",
   "metadata": {},
   "outputs": [],
   "source": [
    "#pvalue=0.1460935830606142 > 0.05"
   ]
  },
  {
   "cell_type": "code",
   "execution_count": 29,
   "id": "db98f39b-1beb-41b4-bee5-353e113dfad5",
   "metadata": {},
   "outputs": [],
   "source": [
    "fabric_mean=np.mean(fabric)"
   ]
  },
  {
   "cell_type": "code",
   "execution_count": 30,
   "id": "4c107e4b-32d8-437d-98b5-cee13183e133",
   "metadata": {},
   "outputs": [
    {
     "data": {
      "text/plain": [
       "155.064"
      ]
     },
     "execution_count": 30,
     "metadata": {},
     "output_type": "execute_result"
    }
   ],
   "source": [
    "fabric_mean"
   ]
  },
  {
   "cell_type": "markdown",
   "id": "5e05c013-a717-4fd5-b805-5b4c3f2f06b6",
   "metadata": {},
   "source": [
    "## Z-test"
   ]
  },
  {
   "cell_type": "code",
   "execution_count": 33,
   "id": "631ba0ae-5639-4f14-ae8d-4e5bd8b20639",
   "metadata": {},
   "outputs": [],
   "source": [
    "z_test_result,p_val=ztest(fabric[\"Fabric_length\"],value=150)"
   ]
  },
  {
   "cell_type": "code",
   "execution_count": 34,
   "id": "2fd1d806-b201-4a7d-8ac8-a75ffc221e97",
   "metadata": {},
   "outputs": [
    {
     "name": "stdout",
     "output_type": "stream",
     "text": [
      "Z-test Result:  4.488987748287781 P-value:  7.156241255356764e-06\n"
     ]
    }
   ],
   "source": [
    "print(\"Z-test Result: \",z_test_result,\"P-value: \",p_val)"
   ]
  },
  {
   "cell_type": "code",
   "execution_count": 35,
   "id": "804102dd-bf1e-477a-a1d4-aacc6d4f6fac",
   "metadata": {},
   "outputs": [
    {
     "data": {
      "text/plain": [
       "'\\n#Interpretation\\nResult: p-value= 7.15 x 10^-6\\nH0: \\n\\n'"
      ]
     },
     "execution_count": 35,
     "metadata": {},
     "output_type": "execute_result"
    }
   ],
   "source": [
    "'''\n",
    "#Interpretation\n",
    "Result: p-value= 7.15 x 10^-6\n",
    "H0: \n",
    "\n",
    "'''"
   ]
  },
  {
   "cell_type": "markdown",
   "id": "0e5cfefc-bcee-47c4-b333-77a5e935211a",
   "metadata": {},
   "source": [
    "# Man-Whiteny Test"
   ]
  },
  {
   "cell_type": "code",
   "execution_count": 36,
   "id": "b5167f36-f0b5-4364-b7a9-8ab0fd6283fb",
   "metadata": {},
   "outputs": [],
   "source": [
    "fuel=pd.read_csv(\"C:/Users/HP/Downloads/mann_whitney_additive.csv\")"
   ]
  },
  {
   "cell_type": "code",
   "execution_count": 37,
   "id": "05aac905-0aae-43bc-8f8d-15aa8e63f720",
   "metadata": {},
   "outputs": [
    {
     "data": {
      "text/html": [
       "<div>\n",
       "<style scoped>\n",
       "    .dataframe tbody tr th:only-of-type {\n",
       "        vertical-align: middle;\n",
       "    }\n",
       "\n",
       "    .dataframe tbody tr th {\n",
       "        vertical-align: top;\n",
       "    }\n",
       "\n",
       "    .dataframe thead th {\n",
       "        text-align: right;\n",
       "    }\n",
       "</style>\n",
       "<table border=\"1\" class=\"dataframe\">\n",
       "  <thead>\n",
       "    <tr style=\"text-align: right;\">\n",
       "      <th></th>\n",
       "      <th>Without additive</th>\n",
       "      <th>With Additive</th>\n",
       "    </tr>\n",
       "  </thead>\n",
       "  <tbody>\n",
       "    <tr>\n",
       "      <th>0</th>\n",
       "      <td>12.5</td>\n",
       "      <td>16.0</td>\n",
       "    </tr>\n",
       "    <tr>\n",
       "      <th>1</th>\n",
       "      <td>19.0</td>\n",
       "      <td>22.0</td>\n",
       "    </tr>\n",
       "    <tr>\n",
       "      <th>2</th>\n",
       "      <td>15.0</td>\n",
       "      <td>18.5</td>\n",
       "    </tr>\n",
       "    <tr>\n",
       "      <th>3</th>\n",
       "      <td>19.5</td>\n",
       "      <td>22.5</td>\n",
       "    </tr>\n",
       "    <tr>\n",
       "      <th>4</th>\n",
       "      <td>12.5</td>\n",
       "      <td>15.0</td>\n",
       "    </tr>\n",
       "    <tr>\n",
       "      <th>5</th>\n",
       "      <td>16.0</td>\n",
       "      <td>16.0</td>\n",
       "    </tr>\n",
       "    <tr>\n",
       "      <th>6</th>\n",
       "      <td>14.5</td>\n",
       "      <td>13.5</td>\n",
       "    </tr>\n",
       "    <tr>\n",
       "      <th>7</th>\n",
       "      <td>17.5</td>\n",
       "      <td>16.0</td>\n",
       "    </tr>\n",
       "    <tr>\n",
       "      <th>8</th>\n",
       "      <td>20.0</td>\n",
       "      <td>22.5</td>\n",
       "    </tr>\n",
       "    <tr>\n",
       "      <th>9</th>\n",
       "      <td>17.0</td>\n",
       "      <td>16.0</td>\n",
       "    </tr>\n",
       "  </tbody>\n",
       "</table>\n",
       "</div>"
      ],
      "text/plain": [
       "   Without additive  With Additive\n",
       "0              12.5           16.0\n",
       "1              19.0           22.0\n",
       "2              15.0           18.5\n",
       "3              19.5           22.5\n",
       "4              12.5           15.0\n",
       "5              16.0           16.0\n",
       "6              14.5           13.5\n",
       "7              17.5           16.0\n",
       "8              20.0           22.5\n",
       "9              17.0           16.0"
      ]
     },
     "execution_count": 37,
     "metadata": {},
     "output_type": "execute_result"
    }
   ],
   "source": [
    "fuel"
   ]
  },
  {
   "cell_type": "code",
   "execution_count": 38,
   "id": "43021c73-d4a4-49bc-985b-2e8788d2f8b5",
   "metadata": {},
   "outputs": [],
   "source": [
    "fuel.columns=[\"without_additive\",\"With_additive\"]"
   ]
  },
  {
   "cell_type": "code",
   "execution_count": 39,
   "id": "6cd8a11b-3ff3-4e14-8e1c-f84cb305202f",
   "metadata": {},
   "outputs": [],
   "source": [
    "#Normality Test"
   ]
  },
  {
   "cell_type": "code",
   "execution_count": 40,
   "id": "ce66c59a-bbe1-44b0-9c87-7ce07cd4fe1a",
   "metadata": {},
   "outputs": [
    {
     "name": "stdout",
     "output_type": "stream",
     "text": [
      "without_additive Normality:  ShapiroResult(statistic=0.9352245458832077, pvalue=0.5011960013441327)\n"
     ]
    }
   ],
   "source": [
    "print(\"without_additive Normality: \",stats.shapiro(fuel.without_additive))"
   ]
  },
  {
   "cell_type": "code",
   "execution_count": 42,
   "id": "4c48a8f2-fed2-41cc-bb29-61fef6171cc3",
   "metadata": {},
   "outputs": [],
   "source": [
    "#pvalue=0.50 > 0.05: Accept H0"
   ]
  },
  {
   "cell_type": "code",
   "execution_count": 44,
   "id": "04f5bd73-4463-49b5-9c13-ee7a671d883d",
   "metadata": {},
   "outputs": [
    {
     "name": "stdout",
     "output_type": "stream",
     "text": [
      "with_additive Normality:  ShapiroResult(statistic=0.8373827516988624, pvalue=0.041048403229593605)\n"
     ]
    }
   ],
   "source": [
    "print(\"with_additive Normality: \",stats.shapiro(fuel.With_additive))\n"
   ]
  },
  {
   "cell_type": "code",
   "execution_count": 45,
   "id": "f7d2fca4-19ab-4c15-831b-a5f062f9bfa0",
   "metadata": {},
   "outputs": [],
   "source": [
    "#pvalue=0.04 < 0.05 : Reject H0 ==> Data is not normal"
   ]
  },
  {
   "cell_type": "markdown",
   "id": "b1197372-a1a9-4fe5-bc9b-1a48335b1e05",
   "metadata": {},
   "source": [
    "# Man-Whiteny U Test"
   ]
  },
  {
   "cell_type": "code",
   "execution_count": 46,
   "id": "60773505-ed65-47b3-84bf-b2531214ba50",
   "metadata": {},
   "outputs": [],
   "source": [
    "mannWhiteny_result=stats.mannwhitneyu(fuel.without_additive,fuel.With_additive)"
   ]
  },
  {
   "cell_type": "code",
   "execution_count": 47,
   "id": "48aa58dc-fb72-4de9-ad81-dfac1df4bfe3",
   "metadata": {},
   "outputs": [
    {
     "name": "stdout",
     "output_type": "stream",
     "text": [
      "Mann-Whiteny Test Result:  MannwhitneyuResult(statistic=39.5, pvalue=0.4457311042015709)\n"
     ]
    }
   ],
   "source": [
    "print(\"Mann-Whiteny Test Result: \",mannWhiteny_result)"
   ]
  },
  {
   "cell_type": "markdown",
   "id": "27ceb4ae-889d-4251-a923-484b3b903512",
   "metadata": {},
   "source": [
    "'''\n",
    "<b>#Interpretation<br>\n",
    "Result: p-value= 7.15 x 10^-6<br>\n",
    "H0:  No difference in performance between without_additive and with_additive<br>\n",
    "h1: A significant difference exists.<br>\n",
    "since the p-value(0.445)>0.05 , we fail to reject the null hypothesis<br>\n",
    "Conclusion: Adding fuel addidtive does not significantly performance<br>\n",
    "Applies the Mann-Whitney U test to check if there is a significant differnece between H0 an H1<br>\n",
    "H0: No difference in performance between two groups<br>\n",
    "h1: Significant Differnce in performance<br>\n",
    "'''"
   ]
  },
  {
   "cell_type": "markdown",
   "id": "2000580a-8b21-43bf-8b0d-4d90e45d1d3c",
   "metadata": {},
   "source": [
    "# #Paired T-Test"
   ]
  },
  {
   "cell_type": "code",
   "execution_count": 50,
   "id": "5978936d-635b-4585-b6cd-1e5dfaa946aa",
   "metadata": {},
   "outputs": [],
   "source": [
    "#Objective: To check whether there is diff in transaction time of supplier_A and Supplier_B "
   ]
  },
  {
   "cell_type": "code",
   "execution_count": 51,
   "id": "3db05686-c750-4aec-b6cc-98046290eb8d",
   "metadata": {},
   "outputs": [],
   "source": [
    "sup=pd.read_csv(\"C:/Users/HP/Downloads/paired2.csv\")"
   ]
  },
  {
   "cell_type": "code",
   "execution_count": 52,
   "id": "3ae516fc-10a1-4c9c-985e-5fba35c82d59",
   "metadata": {},
   "outputs": [
    {
     "data": {
      "text/html": [
       "<div>\n",
       "<style scoped>\n",
       "    .dataframe tbody tr th:only-of-type {\n",
       "        vertical-align: middle;\n",
       "    }\n",
       "\n",
       "    .dataframe tbody tr th {\n",
       "        vertical-align: top;\n",
       "    }\n",
       "\n",
       "    .dataframe thead th {\n",
       "        text-align: right;\n",
       "    }\n",
       "</style>\n",
       "<table border=\"1\" class=\"dataframe\">\n",
       "  <thead>\n",
       "    <tr style=\"text-align: right;\">\n",
       "      <th></th>\n",
       "      <th>SupplierA</th>\n",
       "      <th>SupplierB</th>\n",
       "    </tr>\n",
       "  </thead>\n",
       "  <tbody>\n",
       "    <tr>\n",
       "      <th>0</th>\n",
       "      <td>6.15</td>\n",
       "      <td>7.15</td>\n",
       "    </tr>\n",
       "    <tr>\n",
       "      <th>1</th>\n",
       "      <td>6.22</td>\n",
       "      <td>7.22</td>\n",
       "    </tr>\n",
       "    <tr>\n",
       "      <th>2</th>\n",
       "      <td>6.76</td>\n",
       "      <td>7.76</td>\n",
       "    </tr>\n",
       "    <tr>\n",
       "      <th>3</th>\n",
       "      <td>4.29</td>\n",
       "      <td>5.29</td>\n",
       "    </tr>\n",
       "    <tr>\n",
       "      <th>4</th>\n",
       "      <td>7.08</td>\n",
       "      <td>8.08</td>\n",
       "    </tr>\n",
       "    <tr>\n",
       "      <th>...</th>\n",
       "      <td>...</td>\n",
       "      <td>...</td>\n",
       "    </tr>\n",
       "    <tr>\n",
       "      <th>115</th>\n",
       "      <td>5.85</td>\n",
       "      <td>6.85</td>\n",
       "    </tr>\n",
       "    <tr>\n",
       "      <th>116</th>\n",
       "      <td>5.04</td>\n",
       "      <td>6.04</td>\n",
       "    </tr>\n",
       "    <tr>\n",
       "      <th>117</th>\n",
       "      <td>5.68</td>\n",
       "      <td>6.68</td>\n",
       "    </tr>\n",
       "    <tr>\n",
       "      <th>118</th>\n",
       "      <td>4.77</td>\n",
       "      <td>5.77</td>\n",
       "    </tr>\n",
       "    <tr>\n",
       "      <th>119</th>\n",
       "      <td>3.57</td>\n",
       "      <td>4.57</td>\n",
       "    </tr>\n",
       "  </tbody>\n",
       "</table>\n",
       "<p>120 rows × 2 columns</p>\n",
       "</div>"
      ],
      "text/plain": [
       "     SupplierA  SupplierB\n",
       "0         6.15       7.15\n",
       "1         6.22       7.22\n",
       "2         6.76       7.76\n",
       "3         4.29       5.29\n",
       "4         7.08       8.08\n",
       "..         ...        ...\n",
       "115       5.85       6.85\n",
       "116       5.04       6.04\n",
       "117       5.68       6.68\n",
       "118       4.77       5.77\n",
       "119       3.57       4.57\n",
       "\n",
       "[120 rows x 2 columns]"
      ]
     },
     "execution_count": 52,
     "metadata": {},
     "output_type": "execute_result"
    }
   ],
   "source": [
    "sup"
   ]
  },
  {
   "cell_type": "markdown",
   "id": "e5185396-ce32-4f3b-966b-0772c2c2acdb",
   "metadata": {},
   "source": [
    "#Normality Tests"
   ]
  },
  {
   "cell_type": "code",
   "execution_count": 54,
   "id": "3a1b3c40-4349-4468-914d-1dc54c9f5432",
   "metadata": {},
   "outputs": [
    {
     "name": "stdout",
     "output_type": "stream",
     "text": [
      "Supplier A normality Test:  ShapiroResult(statistic=0.9940788430927854, pvalue=0.8962103654175757)\n"
     ]
    }
   ],
   "source": [
    "print(\"Supplier A normality Test: \",stats.shapiro(sup.SupplierA))"
   ]
  },
  {
   "cell_type": "code",
   "execution_count": 55,
   "id": "3ab2d773-0a17-488c-a92f-f042ca99cd92",
   "metadata": {},
   "outputs": [],
   "source": [
    "#pvalue=0.89 > 0.05 : fails to reject the HO ==> data is normal"
   ]
  },
  {
   "cell_type": "code",
   "execution_count": 56,
   "id": "00621fd6-717e-4acf-8b98-a05000609ca7",
   "metadata": {},
   "outputs": [
    {
     "name": "stdout",
     "output_type": "stream",
     "text": [
      "Supplier B normality Test:  ShapiroResult(statistic=0.9940788430927854, pvalue=0.8962103654175757)\n"
     ]
    }
   ],
   "source": [
    "print(\"Supplier B normality Test: \",stats.shapiro(sup.SupplierB))"
   ]
  },
  {
   "cell_type": "code",
   "execution_count": 57,
   "id": "3f2bc50b-bbcc-47a9-9a90-879c9adf6f5c",
   "metadata": {},
   "outputs": [],
   "source": [
    "#pvalue=0.89 >0.05 : fails to reject the HO ==> data is normal"
   ]
  },
  {
   "cell_type": "markdown",
   "id": "5eb078ac-bf40-47a2-b0fa-13c7c5f1f381",
   "metadata": {},
   "source": [
    "# Paired T-Test"
   ]
  },
  {
   "cell_type": "code",
   "execution_count": 60,
   "id": "54d3ee9b-aa7c-4a7f-bd73-46a05b67d14d",
   "metadata": {},
   "outputs": [
    {
     "name": "stderr",
     "output_type": "stream",
     "text": [
      "C:\\Users\\HP\\anaconda3\\Lib\\site-packages\\scipy\\stats\\_axis_nan_policy.py:531: RuntimeWarning: Precision loss occurred in moment calculation due to catastrophic cancellation. This occurs when the data are nearly identical. Results may be unreliable.\n",
      "  res = hypotest_fun_out(*samples, **kwds)\n"
     ]
    }
   ],
   "source": [
    "t_test_result,p_val=stats.ttest_rel(sup[\"SupplierA\"],sup[\"SupplierB\"])"
   ]
  },
  {
   "cell_type": "code",
   "execution_count": 62,
   "id": "f79a0aed-497a-48ec-84d3-6d33512a3182",
   "metadata": {},
   "outputs": [
    {
     "name": "stdout",
     "output_type": "stream",
     "text": [
      "Paired T-test Result:  -4.996833558918069e+16 P-value:  0.0\n"
     ]
    }
   ],
   "source": [
    "print(\"Paired T-test Result: \",t_test_result,\"P-value: \",p_val)"
   ]
  },
  {
   "cell_type": "code",
   "execution_count": null,
   "id": "8a75ec54-6ff2-417c-8566-396aed8da061",
   "metadata": {},
   "outputs": [],
   "source": [
    "'''\n",
    "<b>#Interpretation<br>\n",
    "Result: p-value= 0.00<br>\n",
    "H0:  No difference in performance between SupplierA and SupplierB <br>\n",
    "h1: A significant difference exists.<br>\n",
    "since the p-value(0.0)<0.05 , we reject null hypothesis<br>\n",
    "Conclusion: diff in transaction time of supplier_A and Supplier_B  <br>\n",
    "H0: No difference in performance between two groups<br>\n",
    "h1: Significant Differnce in performance<br>\n",
    "'''"
   ]
  },
  {
   "cell_type": "markdown",
   "id": "61a5cc3c-07ac-40e4-b93c-eba8511545b9",
   "metadata": {},
   "source": [
    "# 15/01/2025"
   ]
  },
  {
   "cell_type": "markdown",
   "id": "85a0edb2-5d85-4464-9e50-25a15a251ac4",
   "metadata": {},
   "source": [
    "# Two sample T-test"
   ]
  },
  {
   "cell_type": "code",
   "execution_count": 4,
   "id": "0e640291-c177-4315-a433-a70b8818296d",
   "metadata": {},
   "outputs": [],
   "source": [
    "import pandas as pd"
   ]
  },
  {
   "cell_type": "code",
   "execution_count": 19,
   "id": "411de1be-7115-4b8e-84d2-4bd5f2b3c4c6",
   "metadata": {},
   "outputs": [
    {
     "data": {
      "text/html": [
       "<div>\n",
       "<style scoped>\n",
       "    .dataframe tbody tr th:only-of-type {\n",
       "        vertical-align: middle;\n",
       "    }\n",
       "\n",
       "    .dataframe tbody tr th {\n",
       "        vertical-align: top;\n",
       "    }\n",
       "\n",
       "    .dataframe thead th {\n",
       "        text-align: right;\n",
       "    }\n",
       "</style>\n",
       "<table border=\"1\" class=\"dataframe\">\n",
       "  <thead>\n",
       "    <tr style=\"text-align: right;\">\n",
       "      <th></th>\n",
       "      <th>Interest Rate Waiver ($ spent)</th>\n",
       "      <th>Standard Promotion ($ spent)</th>\n",
       "    </tr>\n",
       "  </thead>\n",
       "  <tbody>\n",
       "    <tr>\n",
       "      <th>0</th>\n",
       "      <td>1989.10</td>\n",
       "      <td>1272.25</td>\n",
       "    </tr>\n",
       "    <tr>\n",
       "      <th>1</th>\n",
       "      <td>1808.38</td>\n",
       "      <td>1250.38</td>\n",
       "    </tr>\n",
       "    <tr>\n",
       "      <th>2</th>\n",
       "      <td>1153.75</td>\n",
       "      <td>1474.78</td>\n",
       "    </tr>\n",
       "    <tr>\n",
       "      <th>3</th>\n",
       "      <td>1745.64</td>\n",
       "      <td>2064.89</td>\n",
       "    </tr>\n",
       "    <tr>\n",
       "      <th>4</th>\n",
       "      <td>1008.24</td>\n",
       "      <td>2030.87</td>\n",
       "    </tr>\n",
       "    <tr>\n",
       "      <th>...</th>\n",
       "      <td>...</td>\n",
       "      <td>...</td>\n",
       "    </tr>\n",
       "    <tr>\n",
       "      <th>245</th>\n",
       "      <td>1730.41</td>\n",
       "      <td>2047.49</td>\n",
       "    </tr>\n",
       "    <tr>\n",
       "      <th>246</th>\n",
       "      <td>947.66</td>\n",
       "      <td>1685.44</td>\n",
       "    </tr>\n",
       "    <tr>\n",
       "      <th>247</th>\n",
       "      <td>1516.43</td>\n",
       "      <td>1840.55</td>\n",
       "    </tr>\n",
       "    <tr>\n",
       "      <th>248</th>\n",
       "      <td>1609.69</td>\n",
       "      <td>1603.48</td>\n",
       "    </tr>\n",
       "    <tr>\n",
       "      <th>249</th>\n",
       "      <td>918.35</td>\n",
       "      <td>1475.98</td>\n",
       "    </tr>\n",
       "  </tbody>\n",
       "</table>\n",
       "<p>250 rows × 2 columns</p>\n",
       "</div>"
      ],
      "text/plain": [
       "     Interest Rate Waiver ($ spent)  Standard Promotion ($ spent)\n",
       "0                           1989.10                       1272.25\n",
       "1                           1808.38                       1250.38\n",
       "2                           1153.75                       1474.78\n",
       "3                           1745.64                       2064.89\n",
       "4                           1008.24                       2030.87\n",
       "..                              ...                           ...\n",
       "245                         1730.41                       2047.49\n",
       "246                          947.66                       1685.44\n",
       "247                         1516.43                       1840.55\n",
       "248                         1609.69                       1603.48\n",
       "249                          918.35                       1475.98\n",
       "\n",
       "[250 rows x 2 columns]"
      ]
     },
     "execution_count": 19,
     "metadata": {},
     "output_type": "execute_result"
    }
   ],
   "source": [
    "offers=pd.read_excel(\"C:/Users/HP/Downloads/Promotion.xlsx\")\n",
    "offers"
   ]
  },
  {
   "cell_type": "code",
   "execution_count": 45,
   "id": "4e56e355-afcb-406d-87e5-8df9bd05bca8",
   "metadata": {},
   "outputs": [
    {
     "data": {
      "text/html": [
       "<div>\n",
       "<style scoped>\n",
       "    .dataframe tbody tr th:only-of-type {\n",
       "        vertical-align: middle;\n",
       "    }\n",
       "\n",
       "    .dataframe tbody tr th {\n",
       "        vertical-align: top;\n",
       "    }\n",
       "\n",
       "    .dataframe thead th {\n",
       "        text-align: right;\n",
       "    }\n",
       "</style>\n",
       "<table border=\"1\" class=\"dataframe\">\n",
       "  <thead>\n",
       "    <tr style=\"text-align: right;\">\n",
       "      <th></th>\n",
       "      <th>InterestRateWaiver</th>\n",
       "      <th>StandardPromotion</th>\n",
       "    </tr>\n",
       "  </thead>\n",
       "  <tbody>\n",
       "    <tr>\n",
       "      <th>count</th>\n",
       "      <td>250.00000</td>\n",
       "      <td>250.000000</td>\n",
       "    </tr>\n",
       "    <tr>\n",
       "      <th>mean</th>\n",
       "      <td>1637.50000</td>\n",
       "      <td>1566.388960</td>\n",
       "    </tr>\n",
       "    <tr>\n",
       "      <th>std</th>\n",
       "      <td>356.70306</td>\n",
       "      <td>346.673271</td>\n",
       "    </tr>\n",
       "    <tr>\n",
       "      <th>min</th>\n",
       "      <td>745.65000</td>\n",
       "      <td>544.600000</td>\n",
       "    </tr>\n",
       "    <tr>\n",
       "      <th>25%</th>\n",
       "      <td>1407.26750</td>\n",
       "      <td>1361.290000</td>\n",
       "    </tr>\n",
       "    <tr>\n",
       "      <th>50%</th>\n",
       "      <td>1661.08000</td>\n",
       "      <td>1547.360000</td>\n",
       "    </tr>\n",
       "    <tr>\n",
       "      <th>75%</th>\n",
       "      <td>1884.88000</td>\n",
       "      <td>1788.362500</td>\n",
       "    </tr>\n",
       "    <tr>\n",
       "      <th>max</th>\n",
       "      <td>2637.88000</td>\n",
       "      <td>2713.030000</td>\n",
       "    </tr>\n",
       "  </tbody>\n",
       "</table>\n",
       "</div>"
      ],
      "text/plain": [
       "       InterestRateWaiver  StandardPromotion\n",
       "count           250.00000         250.000000\n",
       "mean           1637.50000        1566.388960\n",
       "std             356.70306         346.673271\n",
       "min             745.65000         544.600000\n",
       "25%            1407.26750        1361.290000\n",
       "50%            1661.08000        1547.360000\n",
       "75%            1884.88000        1788.362500\n",
       "max            2637.88000        2713.030000"
      ]
     },
     "execution_count": 45,
     "metadata": {},
     "output_type": "execute_result"
    }
   ],
   "source": [
    "offers.describe()"
   ]
  },
  {
   "cell_type": "code",
   "execution_count": 20,
   "id": "3e600233-553e-45b8-9599-02e29326c685",
   "metadata": {},
   "outputs": [],
   "source": [
    "offers.columns=[\"InterestRateWaiver\",\"StandardPromotion\"]"
   ]
  },
  {
   "cell_type": "code",
   "execution_count": 21,
   "id": "386a95a7-d0b1-468b-a817-a722994fce63",
   "metadata": {},
   "outputs": [],
   "source": [
    "#Normality test"
   ]
  },
  {
   "cell_type": "code",
   "execution_count": 22,
   "id": "baf85ea3-6eea-4492-88d0-7fd26a66ee63",
   "metadata": {},
   "outputs": [
    {
     "name": "stdout",
     "output_type": "stream",
     "text": [
      "InterestRateWaiver Normality:  ShapiroResult(statistic=0.9923668605850225, pvalue=0.22460944304178543)\n"
     ]
    }
   ],
   "source": [
    "print(\"InterestRateWaiver Normality: \",stats.shapiro(offers.InterestRateWaiver))"
   ]
  },
  {
   "cell_type": "code",
   "execution_count": 24,
   "id": "5fb5d023-2ec2-424e-b052-8fcc829f2982",
   "metadata": {},
   "outputs": [
    {
     "name": "stdout",
     "output_type": "stream",
     "text": [
      "StandardPromotion Normality:  ShapiroResult(statistic=0.9919790893297836, pvalue=0.1916020629878476)\n"
     ]
    }
   ],
   "source": [
    "print(\"StandardPromotion Normality: \",stats.shapiro(offers.StandardPromotion))"
   ]
  },
  {
   "cell_type": "code",
   "execution_count": 25,
   "id": "c2d77b92-5a9f-4215-959a-8d53571a73d9",
   "metadata": {},
   "outputs": [],
   "source": [
    "#Variance test"
   ]
  },
  {
   "cell_type": "code",
   "execution_count": 26,
   "id": "021c5f80-c3be-4fb2-aea5-931d8cad50f3",
   "metadata": {},
   "outputs": [
    {
     "name": "stdout",
     "output_type": "stream",
     "text": [
      "Levene Test (Varience): LeveneResult(statistic=1.1334674473666406, pvalue=0.2875528565130808)\n"
     ]
    }
   ],
   "source": [
    "levene_test=scipy.stats.levene(offers.InterestRateWaiver,offers.StandardPromotion)\n",
    "print(\"Levene Test (Varience):\",levene_test)"
   ]
  },
  {
   "cell_type": "code",
   "execution_count": 27,
   "id": "bb7dd277-beae-4afc-ba1b-021a81ae305c",
   "metadata": {},
   "outputs": [],
   "source": [
    "#p-value= 0.2875\n",
    "#H0=variance equal\n",
    "#H1=variance unequal\n",
    "#pvalue=0.2875>0.05 Fail to reject null hypothesis(H0 is accpetd)"
   ]
  },
  {
   "cell_type": "code",
   "execution_count": 28,
   "id": "59cbdc82-11ca-44c0-80c5-4caa597f5676",
   "metadata": {},
   "outputs": [],
   "source": [
    "#Two sample T-test"
   ]
  },
  {
   "cell_type": "code",
   "execution_count": 29,
   "id": "28f10a67-ee62-4d0d-b025-4d87ad99151a",
   "metadata": {},
   "outputs": [
    {
     "name": "stdout",
     "output_type": "stream",
     "text": [
      "Two sample T-test:  TtestResult(statistic=2.2604251631369405, pvalue=0.02422584468584315, df=498.0)\n"
     ]
    }
   ],
   "source": [
    "ttest_result=scipy.stats.ttest_ind(offers.InterestRateWaiver,offers.StandardPromotion)\n",
    "print(\"Two sample T-test: \",ttest_result)"
   ]
  },
  {
   "cell_type": "code",
   "execution_count": 31,
   "id": "697f9616-6f2b-4978-b6c3-d7b8f3e5f79b",
   "metadata": {},
   "outputs": [],
   "source": [
    "#result:\n",
    "#p-value=0.024\n",
    "#Interepretation\n",
    "#H0: Both offers have the same mean impact\n",
    "#H1: The impacts of the two offers are different\n",
    "#p value(0.0242)<0.05 ===>Reject the null hypothesis(H0)\n",
    "#Conclusion: there is significant differnce in between the two promotional offers "
   ]
  },
  {
   "cell_type": "markdown",
   "id": "b2f236a0-db57-4906-83a9-efc5c1061144",
   "metadata": {},
   "source": [
    "# Mood's Median Test"
   ]
  },
  {
   "cell_type": "code",
   "execution_count": 32,
   "id": "ffc787c0-6b25-432d-b541-63187effe07d",
   "metadata": {},
   "outputs": [],
   "source": [
    "#Objective: Is the medians of pooh and piglet and tigger are statistically equal\n",
    "#it has equal medians are not"
   ]
  },
  {
   "cell_type": "code",
   "execution_count": 33,
   "id": "8af266c3-115f-488a-b862-ba142338a259",
   "metadata": {},
   "outputs": [],
   "source": [
    "animals=pd.read_csv(\"C:/Users/HP/Downloads/animals.csv\")"
   ]
  },
  {
   "cell_type": "code",
   "execution_count": 34,
   "id": "22428165-48bc-4720-b190-723ca9f54b35",
   "metadata": {},
   "outputs": [
    {
     "data": {
      "text/html": [
       "<div>\n",
       "<style scoped>\n",
       "    .dataframe tbody tr th:only-of-type {\n",
       "        vertical-align: middle;\n",
       "    }\n",
       "\n",
       "    .dataframe tbody tr th {\n",
       "        vertical-align: top;\n",
       "    }\n",
       "\n",
       "    .dataframe thead th {\n",
       "        text-align: right;\n",
       "    }\n",
       "</style>\n",
       "<table border=\"1\" class=\"dataframe\">\n",
       "  <thead>\n",
       "    <tr style=\"text-align: right;\">\n",
       "      <th></th>\n",
       "      <th>Pooh</th>\n",
       "      <th>Piglet</th>\n",
       "      <th>Tigger</th>\n",
       "    </tr>\n",
       "  </thead>\n",
       "  <tbody>\n",
       "    <tr>\n",
       "      <th>0</th>\n",
       "      <td>3</td>\n",
       "      <td>2</td>\n",
       "      <td>4</td>\n",
       "    </tr>\n",
       "    <tr>\n",
       "      <th>1</th>\n",
       "      <td>5</td>\n",
       "      <td>4</td>\n",
       "      <td>4</td>\n",
       "    </tr>\n",
       "    <tr>\n",
       "      <th>2</th>\n",
       "      <td>4</td>\n",
       "      <td>2</td>\n",
       "      <td>4</td>\n",
       "    </tr>\n",
       "    <tr>\n",
       "      <th>3</th>\n",
       "      <td>4</td>\n",
       "      <td>2</td>\n",
       "      <td>4</td>\n",
       "    </tr>\n",
       "    <tr>\n",
       "      <th>4</th>\n",
       "      <td>4</td>\n",
       "      <td>1</td>\n",
       "      <td>5</td>\n",
       "    </tr>\n",
       "  </tbody>\n",
       "</table>\n",
       "</div>"
      ],
      "text/plain": [
       "   Pooh  Piglet  Tigger\n",
       "0     3       2       4\n",
       "1     5       4       4\n",
       "2     4       2       4\n",
       "3     4       2       4\n",
       "4     4       1       5"
      ]
     },
     "execution_count": 34,
     "metadata": {},
     "output_type": "execute_result"
    }
   ],
   "source": [
    "animals.head()"
   ]
  },
  {
   "cell_type": "code",
   "execution_count": 35,
   "id": "8bef04f2-5791-45ed-a943-0e8c2106bf98",
   "metadata": {},
   "outputs": [],
   "source": [
    "#Normality Test"
   ]
  },
  {
   "cell_type": "code",
   "execution_count": 36,
   "id": "a23ca7bd-2461-4985-8abe-a1c4f44e4d1a",
   "metadata": {},
   "outputs": [
    {
     "name": "stdout",
     "output_type": "stream",
     "text": [
      "Pooh Normality: ShapiroResult(statistic=0.7940640042001077, pvalue=0.012278706990549835)\n"
     ]
    }
   ],
   "source": [
    "print(\"Pooh Normality:\",stats.shapiro(animals.Pooh))"
   ]
  },
  {
   "cell_type": "code",
   "execution_count": 37,
   "id": "c3eb1316-c2b3-4d45-882f-511f6afdeed4",
   "metadata": {},
   "outputs": [
    {
     "name": "stdout",
     "output_type": "stream",
     "text": [
      "Piglet Normality:  ShapiroResult(statistic=0.8406218876778937, pvalue=0.0448877061706223)\n"
     ]
    }
   ],
   "source": [
    "print(\"Piglet Normality: \",stats.shapiro(animals.Piglet))"
   ]
  },
  {
   "cell_type": "code",
   "execution_count": 38,
   "id": "017b308e-030c-4d0b-b687-331ddea9e553",
   "metadata": {},
   "outputs": [
    {
     "name": "stdout",
     "output_type": "stream",
     "text": [
      "Tigger Normality:  ShapiroResult(statistic=0.8148397633016432, pvalue=0.02194779011724865)\n"
     ]
    }
   ],
   "source": [
    "print(\"Tigger Normality: \",stats.shapiro(animals.Tigger))"
   ]
  },
  {
   "cell_type": "code",
   "execution_count": 40,
   "id": "ab283732-02fc-4ef3-ae81-2e615ecfe676",
   "metadata": {},
   "outputs": [],
   "source": [
    "#H0: Data is normal\n",
    "#H1: Data is not normal\n",
    "#since all p values are less than 0.05 hence reject the null hypothesis\n",
    "#Data is not normal,hence mood's test"
   ]
  },
  {
   "cell_type": "markdown",
   "id": "d344f95a-f1a9-4ddb-8c0c-25cfa46c35ae",
   "metadata": {},
   "source": [
    "# Mood's median test"
   ]
  },
  {
   "cell_type": "code",
   "execution_count": 41,
   "id": "167c5b96-164f-496c-96eb-011784a09593",
   "metadata": {},
   "outputs": [
    {
     "name": "stdout",
     "output_type": "stream",
     "text": [
      "Mood's Median Test:  MedianTestResult(statistic=3.3599999999999994, pvalue=0.18637397603941, median=4.0, table=array([[ 3,  0,  2],\n",
      "       [ 7, 10,  8]], dtype=int64))\n"
     ]
    }
   ],
   "source": [
    "median_test_result=stats.median_test(animals.Pooh,animals.Piglet,animals.Tigger)\n",
    "print(\"Mood's Median Test: \",median_test_result)"
   ]
  },
  {
   "cell_type": "code",
   "execution_count": 43,
   "id": "2a337ab3-01c0-4b7a-a0d6-f432e549c07d",
   "metadata": {},
   "outputs": [],
   "source": [
    "#Result:\n",
    "#Interpretation:\n",
    "#H0: All groups have eual medians\n",
    "#H1: All groups have not equal medians\n",
    "#p-value 0.1863>0.05==> Fails to reject the Null Hypothesis(Accept the H0)\n",
    "#Conclusion: All groups have significantly equal medians"
   ]
  },
  {
   "cell_type": "code",
   "execution_count": 44,
   "id": "98a0054e-0503-4c74-b4f7-ac1c01c0c830",
   "metadata": {},
   "outputs": [
    {
     "data": {
      "text/html": [
       "<div>\n",
       "<style scoped>\n",
       "    .dataframe tbody tr th:only-of-type {\n",
       "        vertical-align: middle;\n",
       "    }\n",
       "\n",
       "    .dataframe tbody tr th {\n",
       "        vertical-align: top;\n",
       "    }\n",
       "\n",
       "    .dataframe thead th {\n",
       "        text-align: right;\n",
       "    }\n",
       "</style>\n",
       "<table border=\"1\" class=\"dataframe\">\n",
       "  <thead>\n",
       "    <tr style=\"text-align: right;\">\n",
       "      <th></th>\n",
       "      <th>Pooh</th>\n",
       "      <th>Piglet</th>\n",
       "      <th>Tigger</th>\n",
       "    </tr>\n",
       "  </thead>\n",
       "  <tbody>\n",
       "    <tr>\n",
       "      <th>count</th>\n",
       "      <td>10.000000</td>\n",
       "      <td>10.000000</td>\n",
       "      <td>10.000000</td>\n",
       "    </tr>\n",
       "    <tr>\n",
       "      <th>mean</th>\n",
       "      <td>4.200000</td>\n",
       "      <td>2.300000</td>\n",
       "      <td>4.000000</td>\n",
       "    </tr>\n",
       "    <tr>\n",
       "      <th>std</th>\n",
       "      <td>0.632456</td>\n",
       "      <td>0.823273</td>\n",
       "      <td>0.666667</td>\n",
       "    </tr>\n",
       "    <tr>\n",
       "      <th>min</th>\n",
       "      <td>3.000000</td>\n",
       "      <td>1.000000</td>\n",
       "      <td>3.000000</td>\n",
       "    </tr>\n",
       "    <tr>\n",
       "      <th>25%</th>\n",
       "      <td>4.000000</td>\n",
       "      <td>2.000000</td>\n",
       "      <td>4.000000</td>\n",
       "    </tr>\n",
       "    <tr>\n",
       "      <th>50%</th>\n",
       "      <td>4.000000</td>\n",
       "      <td>2.000000</td>\n",
       "      <td>4.000000</td>\n",
       "    </tr>\n",
       "    <tr>\n",
       "      <th>75%</th>\n",
       "      <td>4.750000</td>\n",
       "      <td>2.750000</td>\n",
       "      <td>4.000000</td>\n",
       "    </tr>\n",
       "    <tr>\n",
       "      <th>max</th>\n",
       "      <td>5.000000</td>\n",
       "      <td>4.000000</td>\n",
       "      <td>5.000000</td>\n",
       "    </tr>\n",
       "  </tbody>\n",
       "</table>\n",
       "</div>"
      ],
      "text/plain": [
       "            Pooh     Piglet     Tigger\n",
       "count  10.000000  10.000000  10.000000\n",
       "mean    4.200000   2.300000   4.000000\n",
       "std     0.632456   0.823273   0.666667\n",
       "min     3.000000   1.000000   3.000000\n",
       "25%     4.000000   2.000000   4.000000\n",
       "50%     4.000000   2.000000   4.000000\n",
       "75%     4.750000   2.750000   4.000000\n",
       "max     5.000000   4.000000   5.000000"
      ]
     },
     "execution_count": 44,
     "metadata": {},
     "output_type": "execute_result"
    }
   ],
   "source": [
    "animals.describe()"
   ]
  },
  {
   "cell_type": "markdown",
   "id": "d5b53984-43ea-4ab3-b166-df83ef71e0a1",
   "metadata": {},
   "source": [
    "# One-Way ANOVA"
   ]
  },
  {
   "cell_type": "code",
   "execution_count": 46,
   "id": "db6ea464-ea4b-4b86-886e-6369787dccd7",
   "metadata": {},
   "outputs": [],
   "source": [
    "#Objective: Transaction time for three suppliers is not significantly different"
   ]
  },
  {
   "cell_type": "code",
   "execution_count": 47,
   "id": "708b1554-53f7-4a68-957c-c2fca1fd7cbc",
   "metadata": {},
   "outputs": [],
   "source": [
    "contract=pd.read_excel(\"C:/Users/HP/Downloads/ContractRenewal_Data(unstacked).xlsx\")"
   ]
  },
  {
   "cell_type": "code",
   "execution_count": 48,
   "id": "15b17f6d-bf9d-498a-b22e-ad046f136a1a",
   "metadata": {},
   "outputs": [
    {
     "data": {
      "text/html": [
       "<div>\n",
       "<style scoped>\n",
       "    .dataframe tbody tr th:only-of-type {\n",
       "        vertical-align: middle;\n",
       "    }\n",
       "\n",
       "    .dataframe tbody tr th {\n",
       "        vertical-align: top;\n",
       "    }\n",
       "\n",
       "    .dataframe thead th {\n",
       "        text-align: right;\n",
       "    }\n",
       "</style>\n",
       "<table border=\"1\" class=\"dataframe\">\n",
       "  <thead>\n",
       "    <tr style=\"text-align: right;\">\n",
       "      <th></th>\n",
       "      <th>Supplier A</th>\n",
       "      <th>Supplier B</th>\n",
       "      <th>Supplier C</th>\n",
       "    </tr>\n",
       "  </thead>\n",
       "  <tbody>\n",
       "    <tr>\n",
       "      <th>0</th>\n",
       "      <td>6.15</td>\n",
       "      <td>7.87</td>\n",
       "      <td>7.41</td>\n",
       "    </tr>\n",
       "    <tr>\n",
       "      <th>1</th>\n",
       "      <td>6.22</td>\n",
       "      <td>5.21</td>\n",
       "      <td>3.61</td>\n",
       "    </tr>\n",
       "    <tr>\n",
       "      <th>2</th>\n",
       "      <td>6.76</td>\n",
       "      <td>7.94</td>\n",
       "      <td>7.23</td>\n",
       "    </tr>\n",
       "    <tr>\n",
       "      <th>3</th>\n",
       "      <td>4.29</td>\n",
       "      <td>7.36</td>\n",
       "      <td>5.53</td>\n",
       "    </tr>\n",
       "    <tr>\n",
       "      <th>4</th>\n",
       "      <td>7.08</td>\n",
       "      <td>6.17</td>\n",
       "      <td>3.97</td>\n",
       "    </tr>\n",
       "  </tbody>\n",
       "</table>\n",
       "</div>"
      ],
      "text/plain": [
       "   Supplier A  Supplier B  Supplier C\n",
       "0        6.15        7.87        7.41\n",
       "1        6.22        5.21        3.61\n",
       "2        6.76        7.94        7.23\n",
       "3        4.29        7.36        5.53\n",
       "4        7.08        6.17        3.97"
      ]
     },
     "execution_count": 48,
     "metadata": {},
     "output_type": "execute_result"
    }
   ],
   "source": [
    "contract.head()"
   ]
  },
  {
   "cell_type": "code",
   "execution_count": 49,
   "id": "89e9736c-7049-450f-a814-13d2087aa692",
   "metadata": {},
   "outputs": [
    {
     "data": {
      "text/html": [
       "<div>\n",
       "<style scoped>\n",
       "    .dataframe tbody tr th:only-of-type {\n",
       "        vertical-align: middle;\n",
       "    }\n",
       "\n",
       "    .dataframe tbody tr th {\n",
       "        vertical-align: top;\n",
       "    }\n",
       "\n",
       "    .dataframe thead th {\n",
       "        text-align: right;\n",
       "    }\n",
       "</style>\n",
       "<table border=\"1\" class=\"dataframe\">\n",
       "  <thead>\n",
       "    <tr style=\"text-align: right;\">\n",
       "      <th></th>\n",
       "      <th>Supplier A</th>\n",
       "      <th>Supplier B</th>\n",
       "      <th>Supplier C</th>\n",
       "    </tr>\n",
       "  </thead>\n",
       "  <tbody>\n",
       "    <tr>\n",
       "      <th>count</th>\n",
       "      <td>120.000000</td>\n",
       "      <td>120.000000</td>\n",
       "      <td>120.000000</td>\n",
       "    </tr>\n",
       "    <tr>\n",
       "      <th>mean</th>\n",
       "      <td>5.713917</td>\n",
       "      <td>6.096417</td>\n",
       "      <td>5.945167</td>\n",
       "    </tr>\n",
       "    <tr>\n",
       "      <th>std</th>\n",
       "      <td>1.349004</td>\n",
       "      <td>1.389692</td>\n",
       "      <td>1.451699</td>\n",
       "    </tr>\n",
       "    <tr>\n",
       "      <th>min</th>\n",
       "      <td>2.330000</td>\n",
       "      <td>2.650000</td>\n",
       "      <td>2.750000</td>\n",
       "    </tr>\n",
       "    <tr>\n",
       "      <th>25%</th>\n",
       "      <td>4.725000</td>\n",
       "      <td>5.130000</td>\n",
       "      <td>4.965000</td>\n",
       "    </tr>\n",
       "    <tr>\n",
       "      <th>50%</th>\n",
       "      <td>5.645000</td>\n",
       "      <td>6.185000</td>\n",
       "      <td>6.015000</td>\n",
       "    </tr>\n",
       "    <tr>\n",
       "      <th>75%</th>\n",
       "      <td>6.625000</td>\n",
       "      <td>7.042500</td>\n",
       "      <td>7.020000</td>\n",
       "    </tr>\n",
       "    <tr>\n",
       "      <th>max</th>\n",
       "      <td>9.010000</td>\n",
       "      <td>9.960000</td>\n",
       "      <td>9.940000</td>\n",
       "    </tr>\n",
       "  </tbody>\n",
       "</table>\n",
       "</div>"
      ],
      "text/plain": [
       "       Supplier A  Supplier B  Supplier C\n",
       "count  120.000000  120.000000  120.000000\n",
       "mean     5.713917    6.096417    5.945167\n",
       "std      1.349004    1.389692    1.451699\n",
       "min      2.330000    2.650000    2.750000\n",
       "25%      4.725000    5.130000    4.965000\n",
       "50%      5.645000    6.185000    6.015000\n",
       "75%      6.625000    7.042500    7.020000\n",
       "max      9.010000    9.960000    9.940000"
      ]
     },
     "execution_count": 49,
     "metadata": {},
     "output_type": "execute_result"
    }
   ],
   "source": [
    "contract.describe()"
   ]
  },
  {
   "cell_type": "code",
   "execution_count": 50,
   "id": "3fd71589-5e29-444b-8440-c82516f75d1b",
   "metadata": {},
   "outputs": [],
   "source": [
    "contract.columns=[\"Supp_A\",\"Supp_B\",\"Supp_C\"]"
   ]
  },
  {
   "cell_type": "code",
   "execution_count": 52,
   "id": "92e410ca-ca19-45dd-aa18-4876f709ae04",
   "metadata": {},
   "outputs": [],
   "source": [
    "#Normality tests"
   ]
  },
  {
   "cell_type": "code",
   "execution_count": 53,
   "id": "28291311-c700-4ced-83a7-f9e124f7d12c",
   "metadata": {},
   "outputs": [
    {
     "name": "stdout",
     "output_type": "stream",
     "text": [
      "Supp_A Normality:  ShapiroResult(statistic=0.9940788430927858, pvalue=0.8962103654176035)\n",
      "Supp_B Normality:  ShapiroResult(statistic=0.9912330085810608, pvalue=0.6483890667842709)\n",
      "Supp_C Normality:  ShapiroResult(statistic=0.990415383031867, pvalue=0.5718975538301782)\n"
     ]
    }
   ],
   "source": [
    "print(\"Supp_A Normality: \",stats.shapiro(contract.Supp_A))\n",
    "print(\"Supp_B Normality: \",stats.shapiro(contract.Supp_B))\n",
    "print(\"Supp_C Normality: \",stats.shapiro(contract.Supp_C))\n"
   ]
  },
  {
   "cell_type": "code",
   "execution_count": 54,
   "id": "9c4aeadd-9031-434c-9298-3af97c3cc0be",
   "metadata": {},
   "outputs": [],
   "source": [
    "#All p-values are grater than 0.05"
   ]
  },
  {
   "cell_type": "code",
   "execution_count": 66,
   "id": "6da4cd47-db05-4a29-be1e-914ce37b7190",
   "metadata": {},
   "outputs": [],
   "source": [
    "#We fail to reject the null hypothesis\n",
    "#H0 is accepted means data is ==>normal"
   ]
  },
  {
   "cell_type": "code",
   "execution_count": 58,
   "id": "22dac9c7-77c6-4b33-bbbb-c6ce6ea16804",
   "metadata": {},
   "outputs": [],
   "source": [
    "#Variance test"
   ]
  },
  {
   "cell_type": "code",
   "execution_count": 59,
   "id": "74d60cbf-a061-4517-9950-cfea9fa27b50",
   "metadata": {},
   "outputs": [
    {
     "name": "stdout",
     "output_type": "stream",
     "text": [
      "Levene Test (Variance):  LeveneResult(statistic=0.25183988720942463, pvalue=0.7775071819400866)\n"
     ]
    }
   ],
   "source": [
    "levene_test=scipy.stats.levene(contract.Supp_A,contract.Supp_B,contract.Supp_C)\n",
    "print(\"Levene Test (Variance): \",levene_test)"
   ]
  },
  {
   "cell_type": "code",
   "execution_count": 63,
   "id": "7d3acffc-ba0f-411e-a821-f429de07b45d",
   "metadata": {},
   "outputs": [],
   "source": [
    "#H0: data is having equal variance\n",
    "#H1: data is not having equal variance\n",
    "#p-value(0.777>0.05) ===>Fails to reject the H0 (Accepted the H0)\n"
   ]
  },
  {
   "cell_type": "code",
   "execution_count": 64,
   "id": "748e6499-6833-4e40-8961-a4cc46de4cf6",
   "metadata": {},
   "outputs": [],
   "source": [
    "# anova Test"
   ]
  },
  {
   "cell_type": "code",
   "execution_count": 65,
   "id": "e82a69b6-5415-4394-b40f-8bddc8522437",
   "metadata": {},
   "outputs": [
    {
     "name": "stdout",
     "output_type": "stream",
     "text": [
      "One way ANOVA:  F_onewayResult(statistic=2.280378701368123, pvalue=0.10373295731933224)\n"
     ]
    }
   ],
   "source": [
    "anova_result=stats.f_oneway(contract.Supp_A,contract.Supp_B,contract.Supp_C)\n",
    "print(\"One way ANOVA: \",anova_result)"
   ]
  },
  {
   "cell_type": "code",
   "execution_count": null,
   "id": "3e64a0d3-67aa-43d5-bbed-d9d7d79a3041",
   "metadata": {},
   "outputs": [],
   "source": [
    "#Result: p-value=>0.103\n",
    "#Interepretation: \n",
    "#H0: All suppliers have same mean transaction time\n",
    "#H1: At least one supplier has different mean\n",
    "#since the p-value(0.103) is greater than 0.05, we fail to reject H0 (Accepted H0)\n",
    "#Conclusion: Transaction time for three suppliers are not significantly equal"
   ]
  }
 ],
 "metadata": {
  "kernelspec": {
   "display_name": "Python 3 (ipykernel)",
   "language": "python",
   "name": "python3"
  },
  "language_info": {
   "codemirror_mode": {
    "name": "ipython",
    "version": 3
   },
   "file_extension": ".py",
   "mimetype": "text/x-python",
   "name": "python",
   "nbconvert_exporter": "python",
   "pygments_lexer": "ipython3",
   "version": "3.12.3"
  }
 },
 "nbformat": 4,
 "nbformat_minor": 5
}
